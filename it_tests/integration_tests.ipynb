{
 "cells": [
  {
   "cell_type": "markdown",
   "metadata": {},
   "source": [
    "# `hops-util-py` Integration Tests\n",
    "\n",
    "This notebook can be converted to a python file and submitted as a spark job for integration tests"
   ]
  },
  {
   "cell_type": "markdown",
   "metadata": {},
   "source": [
    "## Imports"
   ]
  },
  {
   "cell_type": "code",
   "execution_count": 1,
   "metadata": {},
   "outputs": [
    {
     "name": "stdout",
     "output_type": "stream",
     "text": [
      "Starting Spark application\n"
     ]
    },
    {
     "data": {
      "text/html": [
       "<table>\n",
       "<tr><th>ID</th><th>YARN Application ID</th><th>Kind</th><th>State</th><th>Spark UI</th><th>Driver log</th><th>Current session?</th></tr><tr><td>0</td><td>application_1554468059973_0008</td><td>pyspark</td><td>idle</td><td><a target=\"_blank\" href=\"http://hopsworks0.logicalclocks.com:8088/proxy/application_1554468059973_0008/\">Link</a></td><td><a target=\"_blank\" href=\"http://hopsworks0.logicalclocks.com:8042/node/containerlogs/container_e01_1554468059973_0008_01_000001/project_d10f980f39ae0afb__2da7f798\">Link</a></td><td>✔</td></tr></table>"
      ],
      "text/plain": [
       "<IPython.core.display.HTML object>"
      ]
     },
     "metadata": {},
     "output_type": "display_data"
    },
    {
     "name": "stdout",
     "output_type": "stream",
     "text": [
      "SparkSession available as 'spark'.\n"
     ]
    }
   ],
   "source": [
    "from hops import experiment, hdfs, tensorboard, devices, kafka, featurestore, tls, util\n",
    "import stat\n",
    "import os\n",
    "from pyspark.sql import SQLContext\n",
    "from pyspark.sql.types import StructType, StructField, StringType, TimestampType, LongType, IntegerType, FloatType\n",
    "import pandas as pd\n",
    "import numpy as np\n",
    "import datetime\n",
    "import time\n",
    "from pyspark.sql import DataFrame\n",
    "from petastorm.unischema import dict_to_spark_row, Unischema, UnischemaField\n",
    "from petastorm.codecs import ScalarCodec, CompressedImageCodec, NdarrayCodec\n",
    "from pyspark.sql.types import StructType, StructField, IntegerType, FloatType\n",
    "from pyspark.sql import SparkSession\n",
    "import tensorflow as tf\n",
    "import sys"
   ]
  },
  {
   "cell_type": "markdown",
   "metadata": {},
   "source": [
    "## Experiments Tests"
   ]
  },
  {
   "cell_type": "markdown",
   "metadata": {},
   "source": [
    "##### Test Custom Experiments\n",
    "\n",
    "- `experiment.begin()`\n",
    "- `experiment.end()`"
   ]
  },
  {
   "cell_type": "code",
   "execution_count": 3,
   "metadata": {},
   "outputs": [],
   "source": [
    "experiment.begin(name='some custom thing 1', local_logdir=False)\n",
    "assert tensorboard.logdir() != None\n",
    "assert \"hdfs://\" in tensorboard.logdir()\n",
    "pi = 1+3+0.14\n",
    "experiment.end(pi)"
   ]
  },
  {
   "cell_type": "code",
   "execution_count": 4,
   "metadata": {},
   "outputs": [],
   "source": [
    "experiment.begin(name='some custom thing 2', local_logdir=True, description='i am making custom exp on hops')\n",
    "assert tensorboard.logdir() != None\n",
    "assert \"hdfs://\" not in tensorboard.logdir()\n",
    "pi = 1337\n",
    "experiment.end(pi)"
   ]
  },
  {
   "cell_type": "markdown",
   "metadata": {},
   "source": [
    "##### Test `experiment.launch`"
   ]
  },
  {
   "cell_type": "code",
   "execution_count": 8,
   "metadata": {},
   "outputs": [],
   "source": [
    "def wrapper():\n",
    "    assert tensorboard.logdir() != None\n",
    "    assert devices.get_num_gpus() >= 0\n",
    "    assert hdfs.project_path() == hdfs.project_path(hdfs.project_name())\n",
    "    if tensorboard.local_logdir_bool:\n",
    "        assert \"hdfs://\" not in tensorboard.logdir()\n",
    "    else:\n",
    "        assert \"hdfs://\" in tensorboard.logdir()"
   ]
  },
  {
   "cell_type": "code",
   "execution_count": 9,
   "metadata": {},
   "outputs": [
    {
     "name": "stdout",
     "output_type": "stream",
     "text": [
      "Finished Experiment \n",
      "\n",
      "u'hdfs://10.0.2.15:8020/Projects/project_bde67d4d2ef6dcfc/Experiments/application_1552647327939_0024/launcher/run.3'"
     ]
    }
   ],
   "source": [
    "experiment.launch(wrapper, local_logdir=True)"
   ]
  },
  {
   "cell_type": "code",
   "execution_count": 10,
   "metadata": {},
   "outputs": [
    {
     "name": "stdout",
     "output_type": "stream",
     "text": [
      "Finished Experiment \n",
      "\n",
      "u'hdfs://10.0.2.15:8020/Projects/project_bde67d4d2ef6dcfc/Experiments/application_1552647327939_0024/launcher/run.4'"
     ]
    }
   ],
   "source": [
    "experiment.launch(wrapper, description='very interesting description', local_logdir=False)"
   ]
  },
  {
   "cell_type": "code",
   "execution_count": 14,
   "metadata": {},
   "outputs": [],
   "source": [
    "def parameter_wrapper(a, b):\n",
    "    assert tensorboard.logdir() != None\n",
    "    assert devices.get_num_gpus() >= 0\n",
    "    if tensorboard.local_logdir_bool:\n",
    "        assert \"hdfs://\" not in tensorboard.logdir()\n",
    "    else:\n",
    "        assert \"hdfs://\" in tensorboard.logdir()\n",
    "    return a + b"
   ]
  },
  {
   "cell_type": "code",
   "execution_count": 15,
   "metadata": {},
   "outputs": [
    {
     "name": "stdout",
     "output_type": "stream",
     "text": [
      "Finished Experiment \n",
      "\n",
      "u'hdfs://10.0.2.15:8020/Projects/project_bde67d4d2ef6dcfc/Experiments/application_1552647327939_0024/launcher/run.7'"
     ]
    }
   ],
   "source": [
    "experiment.launch(parameter_wrapper, {'a': [1,2], 'b': [-1,1]}, local_logdir=True)"
   ]
  },
  {
   "cell_type": "code",
   "execution_count": 16,
   "metadata": {},
   "outputs": [
    {
     "name": "stdout",
     "output_type": "stream",
     "text": [
      "Finished Experiment \n",
      "\n",
      "u'hdfs://10.0.2.15:8020/Projects/project_bde67d4d2ef6dcfc/Experiments/application_1552647327939_0024/launcher/run.8'"
     ]
    }
   ],
   "source": [
    "experiment.launch(parameter_wrapper, {'a': [1,2], 'b': [-1,1]}, description='very interesting description', local_logdir=False)"
   ]
  },
  {
   "cell_type": "markdown",
   "metadata": {},
   "source": [
    "##### Test Parallel Experiments `experiment.grid_search`, `experiment.random_search`, `experiment.differential_evolution`"
   ]
  },
  {
   "cell_type": "code",
   "execution_count": 17,
   "metadata": {},
   "outputs": [
    {
     "name": "stdout",
     "output_type": "stream",
     "text": [
      "\n",
      "------ Grid Search results ------ direction(min) \n",
      "BEST combination a=1.b=-1 -- metric 0.0\n",
      "WORST combination a=2.b=1 -- metric 3.0\n",
      "AVERAGE metric -- 1.5\n",
      "Total job time 1 seconds\n",
      "\n",
      "Finished Experiment \n",
      "\n",
      "u'hdfs://10.0.2.15:8020/Projects/project_bde67d4d2ef6dcfc/Experiments/application_1552647327939_0024/grid_search/run.1'"
     ]
    }
   ],
   "source": [
    "experiment.grid_search(parameter_wrapper, {'a': [1,2], 'b': [-1,1]}, direction='min', name='test')"
   ]
  },
  {
   "cell_type": "code",
   "execution_count": 18,
   "metadata": {},
   "outputs": [
    {
     "name": "stdout",
     "output_type": "stream",
     "text": [
      "\n",
      "------ Grid Search results ------ direction(max) \n",
      "BEST combination a=2.b=1 -- metric 3.0\n",
      "WORST combination a=1.b=-1 -- metric 0.0\n",
      "AVERAGE metric -- 1.5\n",
      "Total job time 1 seconds\n",
      "\n",
      "Finished Experiment \n",
      "\n",
      "u'hdfs://10.0.2.15:8020/Projects/project_bde67d4d2ef6dcfc/Experiments/application_1552647327939_0024/grid_search/run.2'"
     ]
    }
   ],
   "source": [
    "experiment.grid_search(parameter_wrapper, {'a': [1,2], 'b': [-1,1]}, direction='max', name='test', local_logdir=True)"
   ]
  },
  {
   "cell_type": "code",
   "execution_count": 19,
   "metadata": {},
   "outputs": [
    {
     "name": "stdout",
     "output_type": "stream",
     "text": [
      "\n",
      "------ Random Search results ------ direction(max) \n",
      "BEST combination a=2.b=1 -- metric 3.0\n",
      "WORST combination a=1.b=0 -- metric 1.0\n",
      "AVERAGE metric -- 1.8\n",
      "Total job time 2 seconds\n",
      "\n",
      "Finished Experiment \n",
      "\n",
      "u'hdfs://10.0.2.15:8020/Projects/project_bde67d4d2ef6dcfc/Experiments/application_1552647327939_0024/random_search/run.1'"
     ]
    }
   ],
   "source": [
    "experiment.random_search(parameter_wrapper, {'a': [1,2], 'b': [-1,1]}, direction='max', name='test')"
   ]
  },
  {
   "cell_type": "code",
   "execution_count": 20,
   "metadata": {},
   "outputs": [
    {
     "name": "stdout",
     "output_type": "stream",
     "text": [
      "\n",
      "------ Random Search results ------ direction(min) \n",
      "BEST combination a=2.b=-1 -- metric 1.0\n",
      "WORST combination a=2.b=0 -- metric 2.0\n",
      "AVERAGE metric -- 1.5\n",
      "Total job time 7 seconds\n",
      "\n",
      "Finished Experiment \n",
      "\n",
      "u'hdfs://10.0.2.15:8020/Projects/project_bde67d4d2ef6dcfc/Experiments/application_1552647327939_0024/random_search/run.2'"
     ]
    }
   ],
   "source": [
    "experiment.random_search(parameter_wrapper, {'a': [1,2], 'b': [-1,1]}, direction='min', samples=3, name='test', local_logdir=True)"
   ]
  },
  {
   "cell_type": "code",
   "execution_count": 23,
   "metadata": {},
   "outputs": [
    {
     "name": "stdout",
     "output_type": "stream",
     "text": [
      "Generation 0 || average metric: 1.66666666667, best metric: 3.0, best parameter combination: ['a=2', 'b=1']\n",
      "\n",
      "Generation 1 || average metric: 2.25, best metric: 3.0, best parameter combination: ['a=2', 'b=1']\n",
      "\n",
      "Generation 2 || average metric: 2.75, best metric: 3.0, best parameter combination: ['a=2', 'b=1']\n",
      "\n",
      "Generation 3 || average metric: 2.75, best metric: 3.0, best parameter combination: ['a=2', 'b=1']\n",
      "\n",
      "Generation 4 || average metric: 2.91666666667, best metric: 3.0, best parameter combination: ['a=2', 'b=1']\n",
      "\n",
      "Generation 5 || average metric: 2.91666666667, best metric: 3.0, best parameter combination: ['a=2', 'b=1']\n",
      "\n",
      "Generation 6 || average metric: 3.0, best metric: 3.0, best parameter combination: ['a=2', 'b=1']\n",
      "\n",
      "Generation 7 || average metric: 3.0, best metric: 3.0, best parameter combination: ['a=2', 'b=1']\n",
      "\n",
      "Generation 8 || average metric: 3.0, best metric: 3.0, best parameter combination: ['a=2', 'b=1']\n",
      "\n",
      "Finished Experiment"
     ]
    }
   ],
   "source": [
    "logdir1, result_dict1 = experiment.differential_evolution(parameter_wrapper, {'a': [1,2], 'b': [-1,1]}, local_logdir=True, direction='max', generations=8, population=12)\n",
    "assert int(result_dict1['a']) == 2 and int(result_dict1['b']) == 1"
   ]
  },
  {
   "cell_type": "code",
   "execution_count": 24,
   "metadata": {},
   "outputs": [
    {
     "name": "stdout",
     "output_type": "stream",
     "text": [
      "Generation 0 || average metric: 1.1, best metric: 0.0, best parameter combination: ['a=1', 'b=-1']\n",
      "\n",
      "Generation 1 || average metric: 0.8, best metric: 0.0, best parameter combination: ['a=1', 'b=-1']\n",
      "\n",
      "Generation 2 || average metric: 0.4, best metric: 0.0, best parameter combination: ['a=1', 'b=-1']\n",
      "\n",
      "Generation 3 || average metric: 0.4, best metric: 0.0, best parameter combination: ['a=1', 'b=-1']\n",
      "\n",
      "Generation 4 || average metric: 0.3, best metric: 0.0, best parameter combination: ['a=1', 'b=-1']\n",
      "\n",
      "Generation 5 || average metric: 0.2, best metric: 0.0, best parameter combination: ['a=1', 'b=-1']\n",
      "\n",
      "Generation 6 || average metric: 0.0, best metric: 0.0, best parameter combination: ['a=1', 'b=-1']\n",
      "\n",
      "Generation 7 || average metric: 0.0, best metric: 0.0, best parameter combination: ['a=1', 'b=-1']\n",
      "\n",
      "Generation 8 || average metric: 0.0, best metric: 0.0, best parameter combination: ['a=1', 'b=-1']\n",
      "\n",
      "Finished Experiment"
     ]
    }
   ],
   "source": [
    "logdir2, result_dict2 = experiment.differential_evolution(parameter_wrapper, {'a': [1,2], 'b': [-1,1]}, generations=8, population=10, direction='min')\n",
    "assert int(result_dict2['a']) == 1 and int(result_dict2['b']) == -1"
   ]
  },
  {
   "cell_type": "markdown",
   "metadata": {},
   "source": [
    "## HopsFS Tests"
   ]
  },
  {
   "cell_type": "markdown",
   "metadata": {},
   "source": [
    "##### Test HopsFS operations\n",
    "\n",
    "- `hdfs.project_user()`\n",
    "- `hdfs.project_name()`\n",
    "- `hdfs.project_path()`\n",
    "- `hdfs.exists()`\n",
    "- `hdfs.load()`\n",
    "- `hdfs.copy_to_local()`\n",
    "- `hdfs.ls()`\n",
    "- `hdfs.lsl()`\n",
    "- `hdfs.glob()`\n",
    "- `hdfs.cp()`\n",
    "- `hdfs.rmr()`\n",
    "- `hdfs.rename()`\n",
    "- `hdfs.stat()`"
   ]
  },
  {
   "cell_type": "code",
   "execution_count": null,
   "metadata": {},
   "outputs": [],
   "source": [
    "project_user = hdfs.project_user()\n",
    "project_name = hdfs.project_name()\n",
    "assert project_name in project_user\n",
    "project_path = hdfs.project_path()\n",
    "assert project_name in project_path"
   ]
  },
  {
   "cell_type": "code",
   "execution_count": null,
   "metadata": {},
   "outputs": [],
   "source": [
    "logs_README = hdfs.load(\"Logs/README.md\")\n",
    "assert len(logs_README) > 0"
   ]
  },
  {
   "cell_type": "code",
   "execution_count": null,
   "metadata": {},
   "outputs": [],
   "source": [
    "hdfs.dump(\"test\", \"Logs/README_dump_test.md\")\n",
    "assert hdfs.exists(\"Logs/README_dump_test.md\")"
   ]
  },
  {
   "cell_type": "code",
   "execution_count": null,
   "metadata": {},
   "outputs": [],
   "source": [
    "logs_README_dumped = hdfs.load(\"Logs/README_dump_test.md\")\n",
    "assert logs_README_dumped.decode(\"utf-8\") == \"test\""
   ]
  },
  {
   "cell_type": "code",
   "execution_count": null,
   "metadata": {},
   "outputs": [],
   "source": [
    "with open('test.txt', 'w') as f:\n",
    "    f.write(\"test\")\n",
    "hdfs.copy_to_hdfs(\"test.txt\", \"Resources/test.txt\", overwrite=True)\n",
    "assert hdfs.exists(\"Resources/test.txt\")"
   ]
  },
  {
   "cell_type": "code",
   "execution_count": null,
   "metadata": {},
   "outputs": [],
   "source": [
    "hdfs.copy_to_local(\"Resources/test.txt\", \"\", overwrite=True)\n",
    "hdfs_copied_file = hdfs.load(\"Resources/test.txt\")\n",
    "with open('test.txt', 'r') as f:\n",
    "    local_copied_file = f.read()\n",
    "assert hdfs_copied_file.decode(\"utf-8\") == \"test\"\n",
    "assert local_copied_file == \"test\"\n",
    "assert hdfs.ls(\"Logs/\").__class__.__name__ == 'list'"
   ]
  },
  {
   "cell_type": "code",
   "execution_count": null,
   "metadata": {},
   "outputs": [],
   "source": [
    "hdfs.copy_to_local(\"Logs\", \"\", overwrite=True)\n",
    "assert os.path.exists(\"Logs\")\n",
    "assert os.path.isdir(\"Logs\")"
   ]
  },
  {
   "cell_type": "code",
   "execution_count": null,
   "metadata": {},
   "outputs": [],
   "source": [
    "logs_files_md = hdfs.glob(\"Logs/*.md\")\n",
    "logs_path_names = hdfs.lsl(\"Logs/\")\n",
    "if hdfs.exists(\"Logs/test.txt\"):\n",
    "    hdfs.rmr(\"Logs/test.txt\")\n",
    "assert not hdfs.exists(\"Logs/test.txt\")"
   ]
  },
  {
   "cell_type": "code",
   "execution_count": null,
   "metadata": {},
   "outputs": [],
   "source": [
    "hdfs.cp(\"Resources/test.txt\", \"Logs/\")\n",
    "logs_files = hdfs.ls(\"Logs/\")\n",
    "assert \"test.txt\" in \",\".join(logs_files)"
   ]
  },
  {
   "cell_type": "code",
   "execution_count": null,
   "metadata": {},
   "outputs": [],
   "source": [
    "hdfs.mkdir(\"Logs/test_dir\")\n",
    "assert hdfs.exists(\"Logs/test_dir\")"
   ]
  },
  {
   "cell_type": "code",
   "execution_count": null,
   "metadata": {},
   "outputs": [],
   "source": [
    "logs_files_prior_delete = hdfs.ls(\"Logs/\")\n",
    "hdfs.rmr(\"Logs/test_dir\")\n",
    "logs_files_after_delete = hdfs.ls(\"Logs/\")\n",
    "assert len(logs_files_prior_delete) > len(logs_files_after_delete)"
   ]
  },
  {
   "cell_type": "code",
   "execution_count": null,
   "metadata": {},
   "outputs": [],
   "source": [
    "logs_files_prior_move = hdfs.ls(\"Logs/\")\n",
    "assert \"README_dump_test.md\" in \",\".join(logs_files_prior_move)"
   ]
  },
  {
   "cell_type": "code",
   "execution_count": null,
   "metadata": {},
   "outputs": [],
   "source": [
    "hdfs.move(\"Logs/README_dump_test.md\", \"Logs/README_dump_test2.md\")\n",
    "logs_files_after_move = hdfs.ls(\"Logs/\")\n",
    "assert \"README_dump_test.md\" not in \",\".join(logs_files_after_move)\n",
    "assert \"README_dump_test2.md\" in \",\".join(logs_files_after_move)"
   ]
  },
  {
   "cell_type": "code",
   "execution_count": null,
   "metadata": {},
   "outputs": [],
   "source": [
    "logs_files_prior_rename = hdfs.ls(\"Logs/\")\n",
    "assert \"README_dump_test2.md\" in \",\".join(logs_files_prior_rename)"
   ]
  },
  {
   "cell_type": "code",
   "execution_count": null,
   "metadata": {},
   "outputs": [],
   "source": [
    "hdfs.rename(\"Logs/README_dump_test2.md\", \"Logs/README_dump_test.md\")\n",
    "logs_files_after_rename = hdfs.ls(\"Logs/\")\n",
    "assert \"Logs/README_dump_test2.md\" not in \",\".join(logs_files_after_rename)\n",
    "assert \"Logs/README_dump_test.md\" in \",\".join(logs_files_after_rename)"
   ]
  },
  {
   "cell_type": "code",
   "execution_count": null,
   "metadata": {},
   "outputs": [],
   "source": [
    "file_stat = hdfs.stat(\"Logs/README.md\")\n",
    "hdfs.chmod(\"Logs/README.md\", 775)\n",
    "file_stat = hdfs.stat(\"Logs/README.md\")\n",
    "assert 775 == file_stat.st_mode"
   ]
  },
  {
   "cell_type": "code",
   "execution_count": null,
   "metadata": {},
   "outputs": [],
   "source": [
    "hdfs.chmod(\"Logs/README.md\", 777)\n",
    "file_stat = hdfs.stat(\"Logs/README.md\")\n",
    "assert 777 == file_stat.st_mode"
   ]
  },
  {
   "cell_type": "code",
   "execution_count": null,
   "metadata": {},
   "outputs": [],
   "source": [
    "file_owner = file_stat.st_uid\n",
    "assert hdfs.exists(\"Logs/\")\n",
    "assert not hdfs.exists(\"Not_Existing/neither_am_i\")"
   ]
  },
  {
   "cell_type": "markdown",
   "metadata": {},
   "source": [
    "## Training Tests"
   ]
  },
  {
   "cell_type": "markdown",
   "metadata": {},
   "source": [
    "##### Test Distributed Training MirroredStrategy (This may fail if not configured MirroredStrategy)\n",
    "\n",
    "- `experiment.mirrored()`"
   ]
  },
  {
   "cell_type": "code",
   "execution_count": null,
   "metadata": {},
   "outputs": [],
   "source": [
    "def mirrored():\n",
    "    assert 'TF_CONFIG' in os.environ\n",
    "    assert devices.get_num_gpus() >= 0"
   ]
  },
  {
   "cell_type": "code",
   "execution_count": null,
   "metadata": {},
   "outputs": [],
   "source": [
    "experiment.mirrored(mirrored, local_logdir=True)"
   ]
  },
  {
   "cell_type": "code",
   "execution_count": null,
   "metadata": {},
   "outputs": [],
   "source": [
    "experiment.mirrored(mirrored, name='mirrortime', description='such desc', local_logdir=False)"
   ]
  },
  {
   "cell_type": "markdown",
   "metadata": {},
   "source": [
    "##### Test Distributed Training CollectiveAllReduceStrategy (This may fail if not configured CollectiveAllReduceStrategy)\n",
    "\n",
    "- `experiment.collective_all_reduce()`"
   ]
  },
  {
   "cell_type": "code",
   "execution_count": 2,
   "metadata": {},
   "outputs": [],
   "source": [
    "def collective():\n",
    "    assert 'TF_CONFIG' in os.environ\n",
    "    assert devices.get_num_gpus() >= 0"
   ]
  },
  {
   "cell_type": "code",
   "execution_count": 3,
   "metadata": {},
   "outputs": [
    {
     "name": "stdout",
     "output_type": "stream",
     "text": [
      "Finished Experiment \n",
      "\n",
      "u'hdfs://10.0.2.15:8020/Projects/project_bde67d4d2ef6dcfc/Experiments/application_1552647327939_0019/collective_all_reduce/run.1'"
     ]
    }
   ],
   "source": [
    "experiment.collective_all_reduce(collective, local_logdir=True)"
   ]
  },
  {
   "cell_type": "code",
   "execution_count": 4,
   "metadata": {},
   "outputs": [
    {
     "name": "stdout",
     "output_type": "stream",
     "text": [
      "Finished Experiment \n",
      "\n",
      "u'hdfs://10.0.2.15:8020/Projects/project_bde67d4d2ef6dcfc/Experiments/application_1552647327939_0019/collective_all_reduce/run.2'"
     ]
    }
   ],
   "source": [
    "experiment.collective_all_reduce(collective, name='collectivetime', description='such desc', local_logdir=False)"
   ]
  },
  {
   "cell_type": "markdown",
   "metadata": {},
   "source": [
    "##### Test Distributed Training ParameterServerStrategy (This may fail if not configured ParameterServerStrategy)\n",
    "\n",
    "- `experiment.parameter_server()`"
   ]
  },
  {
   "cell_type": "code",
   "execution_count": 5,
   "metadata": {},
   "outputs": [],
   "source": [
    "def ps():\n",
    "    assert 'TF_CONFIG' in os.environ\n",
    "    assert devices.get_num_gpus() >= 0"
   ]
  },
  {
   "cell_type": "code",
   "execution_count": 6,
   "metadata": {},
   "outputs": [],
   "source": [
    "# TODO: these ps tests does not complete, it waits indefinitely\n",
    "#experiment.parameter_server(ps, local_logdir=False)"
   ]
  },
  {
   "cell_type": "code",
   "execution_count": 7,
   "metadata": {},
   "outputs": [],
   "source": [
    "#experiment.parameter_server(ps, local_logdir=True)"
   ]
  },
  {
   "cell_type": "code",
   "execution_count": 8,
   "metadata": {},
   "outputs": [],
   "source": [
    "#experiment.parameter_server(ps, name='mirrortime', description='such desc')"
   ]
  },
  {
   "cell_type": "markdown",
   "metadata": {},
   "source": [
    "## Feature Store Tests\n",
    "\n",
    "These tests require that you have the following files in the Resources directory:\n",
    "\n",
    "- `attendances_features.csv`\n",
    "- `games_features.csv`\n",
    "- `players_features.csv`\n",
    "- `season_scores_features.csv`\n",
    "- `teams_features.csv`\n",
    "\n",
    "These files can be downloaded from here: `http://snurran.sics.se/hops/hops-util-py_test/`"
   ]
  },
  {
   "cell_type": "code",
   "execution_count": 10,
   "metadata": {},
   "outputs": [],
   "source": [
    "spark = util._find_spark()"
   ]
  },
  {
   "cell_type": "markdown",
   "metadata": {},
   "source": [
    "##### Test Featurestore Create Feature Group Operations (`featurestore.create_featuregroup()`)"
   ]
  },
  {
   "cell_type": "code",
   "execution_count": 11,
   "metadata": {},
   "outputs": [],
   "source": [
    "def load_fs_sample_data():\n",
    "    resources_path = hdfs.project_path() + \"Resources/\"\n",
    "    games_features_df = spark.read.format(\"csv\").option(\"header\", \"true\").option(\"inferSchema\", \"true\").load(resources_path + \"games_features.csv\")\n",
    "    players_features_df = spark.read.format(\"csv\").option(\"header\", \"true\").option(\"inferSchema\", \"true\").load(resources_path + \"players_features.csv\")\n",
    "    teams_features_df = spark.read.format(\"csv\").option(\"header\", \"true\").option(\"inferSchema\", \"true\").load(resources_path + \"teams_features.csv\")\n",
    "    season_scores_features_df = spark.read.format(\"csv\").option(\"header\", \"true\").option(\"inferSchema\",\"true\").load(resources_path + \"season_scores_features.csv\")\n",
    "    attendances_features_df = spark.read.format(\"csv\").option(\"header\", \"true\").option(\"inferSchema\", \"true\").load(resources_path + \"attendances_features.csv\")\n",
    "    return games_features_df,players_features_df,teams_features_df,season_scores_features_df, attendances_features_df\n",
    "games_features_df,players_features_df,teams_features_df,season_scores_features_df, attendances_features_df = load_fs_sample_data()"
   ]
  },
  {
   "cell_type": "code",
   "execution_count": 12,
   "metadata": {},
   "outputs": [
    {
     "name": "stdout",
     "output_type": "stream",
     "text": [
      "computing descriptive statistics for : games_features\n",
      "computing feature correlation for: games_features\n",
      "computing feature histograms for: games_features\n",
      "computing cluster analysis for: games_features\n",
      "Running sql: use project_bde67d4d2ef6dcfc_featurestore\n",
      "Feature group created successfully"
     ]
    }
   ],
   "source": [
    "featurestore.create_featuregroup(\n",
    "    games_features_df,\n",
    "    \"games_features\",\n",
    "    description=\"Features of average season scores for football teams\"\n",
    ")"
   ]
  },
  {
   "cell_type": "code",
   "execution_count": 13,
   "metadata": {},
   "outputs": [
    {
     "name": "stdout",
     "output_type": "stream",
     "text": [
      "computing descriptive statistics for : teams_features\n",
      "computing feature correlation for: teams_features\n",
      "computing feature histograms for: teams_features\n",
      "computing cluster analysis for: teams_features\n",
      "Running sql: use project_bde67d4d2ef6dcfc_featurestore\n",
      "Feature group created successfully"
     ]
    }
   ],
   "source": [
    "featurestore.create_featuregroup(\n",
    "    teams_features_df,\n",
    "    \"teams_features\",\n",
    "    description=\"a spanish version of teams_features\"\n",
    ")"
   ]
  },
  {
   "cell_type": "code",
   "execution_count": 14,
   "metadata": {},
   "outputs": [
    {
     "name": "stdout",
     "output_type": "stream",
     "text": [
      "computing descriptive statistics for : season_scores_features\n",
      "computing feature correlation for: season_scores_features\n",
      "computing feature histograms for: season_scores_features\n",
      "computing cluster analysis for: season_scores_features\n",
      "Running sql: use project_bde67d4d2ef6dcfc_featurestore\n",
      "Feature group created successfully"
     ]
    }
   ],
   "source": [
    "featurestore.create_featuregroup(\n",
    "    season_scores_features_df,\n",
    "    \"season_scores_features\",\n",
    "    description=\"Features of average season scores for football teams\"\n",
    ")"
   ]
  },
  {
   "cell_type": "code",
   "execution_count": 15,
   "metadata": {},
   "outputs": [
    {
     "name": "stdout",
     "output_type": "stream",
     "text": [
      "computing descriptive statistics for : attendances_features\n",
      "computing feature correlation for: attendances_features\n",
      "computing feature histograms for: attendances_features\n",
      "computing cluster analysis for: attendances_features\n",
      "Running sql: use project_bde67d4d2ef6dcfc_featurestore\n",
      "Feature group created successfully"
     ]
    }
   ],
   "source": [
    "featurestore.create_featuregroup(\n",
    "    attendances_features_df,\n",
    "    \"attendances_features\",\n",
    "    description=\"Features of average attendance of games of football teams\"\n",
    ")"
   ]
  },
  {
   "cell_type": "code",
   "execution_count": 16,
   "metadata": {},
   "outputs": [
    {
     "name": "stdout",
     "output_type": "stream",
     "text": [
      "Running sql: use project_bde67d4d2ef6dcfc_featurestore\n",
      "Running sql: SELECT * FROM teams_features_1"
     ]
    }
   ],
   "source": [
    "teams_features_1_df = featurestore.get_featuregroup(\"teams_features\")\n",
    "teams_features_2_df = teams_features_1_df.withColumnRenamed(\n",
    "    \"team_id\", \"equipo_id\").withColumnRenamed(\n",
    "    \"team_budget\", \"equipo_presupuesto\").withColumnRenamed(\n",
    "    \"team_position\", \"equipo_posicion\")"
   ]
  },
  {
   "cell_type": "code",
   "execution_count": 17,
   "metadata": {},
   "outputs": [
    {
     "name": "stdout",
     "output_type": "stream",
     "text": [
      "Running sql: use project_bde67d4d2ef6dcfc_featurestore\n",
      "Feature group created successfully"
     ]
    }
   ],
   "source": [
    "featurestore.create_featuregroup(\n",
    "    teams_features_2_df,\n",
    "    \"teams_features_spanish\",\n",
    "    description=\"a spanish version of teams_features\",\n",
    "    descriptive_statistics=False,\n",
    "    feature_correlation=False,\n",
    "    feature_histograms=False,\n",
    "    cluster_analysis=False\n",
    ")"
   ]
  },
  {
   "cell_type": "code",
   "execution_count": 18,
   "metadata": {},
   "outputs": [
    {
     "name": "stdout",
     "output_type": "stream",
     "text": [
      "Running sql: use project_bde67d4d2ef6dcfc_featurestore\n",
      "Feature group created successfully"
     ]
    }
   ],
   "source": [
    "featurestore.create_featuregroup(\n",
    "    teams_features_2_df,\n",
    "    \"teams_features_spanish\",\n",
    "    description=\"a spanish version of teams_features\",\n",
    "    descriptive_statistics=False,\n",
    "    feature_correlation=False,\n",
    "    feature_histograms=False,\n",
    "    cluster_analysis=False,\n",
    "    featurestore=featurestore.project_featurestore(),\n",
    "    featuregroup_version=1,\n",
    "    job_name=None,\n",
    "    dependencies=[]\n",
    ")"
   ]
  },
  {
   "cell_type": "code",
   "execution_count": 19,
   "metadata": {},
   "outputs": [
    {
     "name": "stdout",
     "output_type": "stream",
     "text": [
      "Running sql: use project_bde67d4d2ef6dcfc_featurestore\n",
      "Feature group created successfully"
     ]
    }
   ],
   "source": [
    "featurestore.create_featuregroup(\n",
    "    teams_features_2_df,\n",
    "    \"teams_features_spanish\",\n",
    "    description=\"a spanish version of teams_features\",\n",
    "    descriptive_statistics=False,\n",
    "    feature_correlation=False,\n",
    "    feature_histograms=False,\n",
    "    cluster_analysis=False,\n",
    "    featuregroup_version=2\n",
    ")"
   ]
  },
  {
   "cell_type": "code",
   "execution_count": 20,
   "metadata": {},
   "outputs": [],
   "source": [
    "assert \"games_features_1\" in featurestore.get_featuregroups()\n",
    "assert \"teams_features_1\" in featurestore.get_featuregroups()\n",
    "assert \"season_scores_features_1\" in featurestore.get_featuregroups()\n",
    "assert \"attendances_features_1\" in featurestore.get_featuregroups()\n",
    "assert \"teams_features_spanish_1\" in featurestore.get_featuregroups()\n",
    "assert \"teams_features_spanish_2\" in featurestore.get_featuregroups()"
   ]
  },
  {
   "cell_type": "markdown",
   "metadata": {},
   "source": [
    "##### Test Featurestore Utility Operations, \n",
    "\n",
    "- `featurestore.get_metadata()`,\n",
    "- `featurestore.project_featurestore()`, \n",
    "- `featurestore.get_latest_featuregroup_version()`, \n",
    "- `featurestore.get_features_list()`"
   ]
  },
  {
   "cell_type": "code",
   "execution_count": 21,
   "metadata": {},
   "outputs": [
    {
     "name": "stdout",
     "output_type": "stream",
     "text": [
      "{u'trainingDatasets': [], u'featuregroups': [{u'lastComputed': None, u'featuresHistogram': {u'featureDistributions': [{u'frequencyDistribution': [{u'bin': u'37.75', u'frequency': 3}, {u'bin': u'3.45', u'frequency': 2}, {u'bin': u'1.0', u'frequency': 6}, {u'bin': u'20.6', u'frequency': 2}, {u'bin': u'15.7', u'frequency': 0}, {u'bin': u'40.2', u'frequency': 1}, {u'bin': u'5.9', u'frequency': 4}, {u'bin': u'27.95', u'frequency': 0}, {u'bin': u'47.55', u'frequency': 4}, {u'bin': u'30.4', u'frequency': 4}, {u'bin': u'23.05', u'frequency': 1}, {u'bin': u'8.35', u'frequency': 2}, {u'bin': u'35.3', u'frequency': 1}, {u'bin': u'25.5', u'frequency': 3}, {u'bin': u'10.8', u'frequency': 5}, {u'bin': u'13.25', u'frequency': 4}, {u'bin': u'18.15', u'frequency': 0}, {u'bin': u'32.85', u'frequency': 3}, {u'bin': u'45.1', u'frequency': 2}, {u'bin': u'42.65', u'frequency': 2}], u'statisticType': u'featureDistributions', u'featureName': u'away_team_id'}, {u'frequencyDistribution': [{u'bin': u'37.75', u'frequency': 2}, {u'bin': u'3.45', u'frequency': 3}, {u'bin': u'1.0', u'frequency': 2}, {u'bin': u'20.6', u'frequency': 0}, {u'bin': u'15.7', u'frequency': 0}, {u'bin': u'40.2', u'frequency': 2}, {u'bin': u'5.9', u'frequency': 2}, {u'bin': u'27.95', u'frequency': 4}, {u'bin': u'47.55', u'frequency': 4}, {u'bin': u'30.4', u'frequency': 3}, {u'bin': u'23.05', u'frequency': 2}, {u'bin': u'8.35', u'frequency': 2}, {u'bin': u'35.3', u'frequency': 0}, {u'bin': u'25.5', u'frequency': 4}, {u'bin': u'10.8', u'frequency': 4}, {u'bin': u'13.25', u'frequency': 3}, {u'bin': u'18.15', u'frequency': 3}, {u'bin': u'32.85', u'frequency': 3}, {u'bin': u'45.1', u'frequency': 2}, {u'bin': u'42.65', u'frequency': 4}], u'statisticType': u'featureDistributions', u'featureName': u'home_team_id'}, {u'frequencyDistribution': [{u'bin': u'1.4', u'frequency': 0}, {u'bin': u'1.5', u'frequency': 0}, {u'bin': u'1.6', u'frequency': 0}, {u'bin': u'1.7', u'frequency': 0}, {u'bin': u'1.0', u'frequency': 25}, {u'bin': u'1.1', u'frequency': 0}, {u'bin': u'1.2', u'frequency': 0}, {u'bin': u'1.3', u'frequency': 0}, {u'bin': u'1.8', u'frequency': 0}, {u'bin': u'1.9', u'frequency': 0}, {u'bin': u'2.9', u'frequency': 18}, {u'bin': u'2.8', u'frequency': 0}, {u'bin': u'2.3', u'frequency': 0}, {u'bin': u'2.2', u'frequency': 0}, {u'bin': u'2.1', u'frequency': 0}, {u'bin': u'2.0', u'frequency': 6}, {u'bin': u'2.7', u'frequency': 0}, {u'bin': u'2.6', u'frequency': 0}, {u'bin': u'2.5', u'frequency': 0}, {u'bin': u'2.4', u'frequency': 0}], u'statisticType': u'featureDistributions', u'featureName': u'score'}]}, u'description': u'Features of average season scores for football teams', u'name': u'games_features', u'created': u'2019-03-19T14:17:20Z', u'featurestoreId': 22, u'descriptiveStatistics': {u'descriptiveStats': [{u'metricValues': [{u'value': 49.0, u'metricName': u'count'}, {u'value': 26.591837, u'metricName': u'mean'}, {u'value': 14.802756, u'metricName': u'stddev'}, {u'value': 1.0, u'metricName': u'min'}, {u'value': 50.0, u'metricName': u'max'}], u'statisticType': u'descriptiveStatistics', u'featureName': u'home_team_id'}, {u'metricValues': [{u'value': 49.0, u'metricName': u'count'}, {u'value': 1.8571428, u'metricName': u'mean'}, {u'value': 0.9354144, u'metricName': u'stddev'}, {u'value': 1.0, u'metricName': u'min'}, {u'value': 3.0, u'metricName': u'max'}], u'statisticType': u'descriptiveStatistics', u'featureName': u'score'}, {u'metricValues': [{u'value': 49.0, u'metricName': u'count'}, {u'value': 23.081633, u'metricName': u'mean'}, {u'value': 15.90445, u'metricName': u'stddev'}, {u'value': 1.0, u'metricName': u'min'}, {u'value': 50.0, u'metricName': u'max'}], u'statisticType': u'descriptiveStatistics', u'featureName': u'away_team_id'}]}, u'creator': u'4f67e02d354864382be24f160c9dd50c03db1bcd@email.com', u'jobName': None, u'jobStatus': None, u'clusterAnalysis': {u'clusters': [{u'cluster': 3, u'datapointName': u'42'}, {u'cluster': 0, u'datapointName': u'48'}, {u'cluster': 4, u'datapointName': u'43'}, {u'cluster': 4, u'datapointName': u'24'}, {u'cluster': 1, u'datapointName': u'25'}, {u'cluster': 3, u'datapointName': u'26'}, {u'cluster': 2, u'datapointName': u'27'}, {u'cluster': 4, u'datapointName': u'20'}, {u'cluster': 4, u'datapointName': u'21'}, {u'cluster': 0, u'datapointName': u'22'}, {u'cluster': 0, u'datapointName': u'23'}, {u'cluster': 0, u'datapointName': u'46'}, {u'cluster': 2, u'datapointName': u'47'}, {u'cluster': 4, u'datapointName': u'44'}, {u'cluster': 0, u'datapointName': u'45'}, {u'cluster': 0, u'datapointName': u'28'}, {u'cluster': 1, u'datapointName': u'29'}, {u'cluster': 1, u'datapointName': u'40'}, {u'cluster': 4, u'datapointName': u'41'}, {u'cluster': 4, u'datapointName': u'1'}, {u'cluster': 0, u'datapointName': u'0'}, {u'cluster': 0, u'datapointName': u'3'}, {u'cluster': 3, u'datapointName': u'2'}, {u'cluster': 0, u'datapointName': u'5'}, {u'cluster': 2, u'datapointName': u'4'}, {u'cluster': 3, u'datapointName': u'7'}, {u'cluster': 1, u'datapointName': u'6'}, {u'cluster': 0, u'datapointName': u'9'}, {u'cluster': 1, u'datapointName': u'8'}, {u'cluster': 2, u'datapointName': u'39'}, {u'cluster': 3, u'datapointName': u'38'}, {u'cluster': 2, u'datapointName': u'11'}, {u'cluster': 0, u'datapointName': u'10'}, {u'cluster': 0, u'datapointName': u'13'}, {u'cluster': 1, u'datapointName': u'12'}, {u'cluster': 0, u'datapointName': u'15'}, {u'cluster': 3, u'datapointName': u'14'}, {u'cluster': 3, u'datapointName': u'17'}, {u'cluster': 3, u'datapointName': u'16'}, {u'cluster': 1, u'datapointName': u'19'}, {u'cluster': 1, u'datapointName': u'18'}, {u'cluster': 1, u'datapointName': u'31'}, {u'cluster': 4, u'datapointName': u'30'}, {u'cluster': 0, u'datapointName': u'37'}, {u'cluster': 1, u'datapointName': u'36'}, {u'cluster': 2, u'datapointName': u'35'}, {u'cluster': 2, u'datapointName': u'34'}, {u'cluster': 2, u'datapointName': u'33'}, {u'cluster': 3, u'datapointName': u'32'}], u'statisticType': u'clusterAnalysis', u'dataPoints': [{u'datapointName': u'42', u'firstDimension': -10.123179, u'secondDimension': -14.630445}, {u'datapointName': u'48', u'firstDimension': -1.1187825, u'secondDimension': -29.083815}, {u'datapointName': u'43', u'firstDimension': -46.13057, u'secondDimension': -31.045153}, {u'datapointName': u'24', u'firstDimension': -42.010517, u'secondDimension': -32.770252}, {u'datapointName': u'25', u'firstDimension': -36.023994, u'secondDimension': -46.46312}, {u'datapointName': u'26', u'firstDimension': -6.728213, u'secondDimension': -5.3871393}, {u'datapointName': u'27', u'firstDimension': -47.984543, u'secondDimension': -18.149778}, {u'datapointName': u'20', u'firstDimension': -32.23772, u'secondDimension': -29.105984}, {u'datapointName': u'21', u'firstDimension': -30.70503, u'secondDimension': -21.991512}, {u'datapointName': u'22', u'firstDimension': -7.1011095, u'secondDimension': -29.487545}, {u'datapointName': u'23', u'firstDimension': -0.8551152, u'secondDimension': -33.072327}, {u'datapointName': u'46', u'firstDimension': 0.7434928, u'secondDimension': -26.95498}, {u'datapointName': u'47', u'firstDimension': -30.762646, u'secondDimension': -5.9701777}, {u'datapointName': u'44', u'firstDimension': -31.702085, u'secondDimension': -22.0588}, {u'datapointName': u'45', u'firstDimension': -1.38245, u'secondDimension': -25.095303}, {u'datapointName': u'28', u'firstDimension': -0.7315832, u'secondDimension': -50.090786}, {u'datapointName': u'29', u'firstDimension': -18.011095, u'secondDimension': -46.249054}, {u'datapointName': u'40', u'firstDimension': -20.862122, u'secondDimension': -33.42097}, {u'datapointName': u'41', u'firstDimension': -47.729176, u'secondDimension': -37.1625}, {u'datapointName': u'1', u'firstDimension': -43.87279, u'secondDimension': -34.899086}, {u'datapointName': u'0', u'firstDimension': -7.8427987, u'secondDimension': -48.56755}, {u'datapointName': u'3', u'firstDimension': -7.9087152, u'secondDimension': -47.570423}, {u'datapointName': u'2', u'firstDimension': -14.177314, u'secondDimension': -13.902471}, {u'datapointName': u'5', u'firstDimension': -8.427749, u'secondDimension': -24.569195}, {u'datapointName': u'4', u'firstDimension': -49.904434, u'secondDimension': -4.2572775}, {u'datapointName': u'7', u'firstDimension': -13.549052, u'secondDimension': -8.814783}, {u'datapointName': u'6', u'firstDimension': -33.401623, u'secondDimension': -41.240856}, {u'datapointName': u'9', u'firstDimension': -3.9781125, u'secondDimension': -31.279936}, {u'datapointName': u'8', u'firstDimension': -34.76327, u'secondDimension': -50.384342}, {u'datapointName': u'39', u'firstDimension': -25.184122, u'secondDimension': -14.607885}, {u'datapointName': u'38', u'firstDimension': -13.18026, u'secondDimension': -13.835182}, {u'datapointName': u'11', u'firstDimension': -42.7273, u'secondDimension': -6.777641}, {u'datapointName': u'10', u'firstDimension': -1.3165331, u'secondDimension': -26.09243}, {u'datapointName': u'13', u'firstDimension': -1.3248348, u'secondDimension': -41.11664}, {u'datapointName': u'12', u'firstDimension': -35.89216, u'secondDimension': -48.45738}, {u'datapointName': u'15', u'firstDimension': -11.822715, u'secondDimension': -33.8125}, {u'datapointName': u'14', u'firstDimension': -11.682579, u'secondDimension': -20.782549}, {u'datapointName': u'17', u'firstDimension': -7.026891, u'secondDimension': -15.460466}, {u'datapointName': u'16', u'firstDimension': -1.505982, u'secondDimension': -8.07684}, {u'datapointName': u'19', u'firstDimension': -24.191172, u'secondDimension': -43.661404}, {u'datapointName': u'18', u'firstDimension': -21.331842, u'secondDimension': -41.465282}, {u'datapointName': u'31', u'firstDimension': -43.97372, u'secondDimension': -47.9638}, {u'datapointName': u'30', u'firstDimension': -32.23772, u'secondDimension': -29.105984}, {u'datapointName': u'37', u'firstDimension': -9.705074, u'secondDimension': -50.696384}, {u'datapointName': u'36', u'firstDimension': -23.993422, u'secondDimension': -46.652786}, {u'datapointName': u'35', u'firstDimension': -40.33769, u'secondDimension': -12.625831}, {u'datapointName': u'34', u'firstDimension': -30.367146, u'secondDimension': -11.952945}, {u'datapointName': u'33', u'firstDimension': -30.235312, u'secondDimension': -13.947201}, {u'datapointName': u'32', u'firstDimension': -8.028143, u'secondDimension': -1.4311563}]}, u'inodeId': 106555, u'featurestoreName': u'project_bde67d4d2ef6dcfc_featurestore', u'hdfsStorePaths': [u'hdfs://10.0.2.15:8020/apps/hive/warehouse/project_bde67d4d2ef6dcfc_featurestore.db/games_features_1'], u'dependencies': [], u'version': 1, u'featureCorrelationMatrix': {u'featureCorrelations': [{u'featureName': u'score', u'correlationValues': [{u'statisticType': u'featureCorrelations', u'featureName': u'home_team_id', u'correlation': -0.5955944}, {u'statisticType': u'featureCorrelations', u'featureName': u'score', u'correlation': 1.0}, {u'statisticType': u'featureCorrelations', u'featureName': u'away_team_id', u'correlation': 0.63095695}]}, {u'featureName': u'home_team_id', u'correlationValues': [{u'statisticType': u'featureCorrelations', u'featureName': u'home_team_id', u'correlation': 1.0}, {u'statisticType': u'featureCorrelations', u'featureName': u'score', u'correlation': -0.5955944}, {u'statisticType': u'featureCorrelations', u'featureName': u'away_team_id', u'correlation': -0.00826214}]}, {u'featureName': u'away_team_id', u'correlationValues': [{u'statisticType': u'featureCorrelations', u'featureName': u'home_team_id', u'correlation': -0.00826214}, {u'statisticType': u'featureCorrelations', u'featureName': u'score', u'correlation': 0.63095695}, {u'statisticType': u'featureCorrelations', u'featureName': u'away_team_id', u'correlation': 1.0}]}]}, u'jobId': None, u'id': 1, u'features': [{u'type': u'int', u'name': u'away_team_id', u'primary': True, u'description': u'-'}, {u'type': u'int', u'name': u'home_team_id', u'primary': False, u'description': u'-'}, {u'type': u'int', u'name': u'score', u'primary': False, u'description': u'-'}]}, {u'lastComputed': None, u'featuresHistogram': {u'featureDistributions': [{u'frequencyDistribution': [{u'bin': u'7956.403935', u'frequency': 4}, {u'bin': u'2816.73891', u'frequency': 3}, {u'bin': u'15151.93497', u'frequency': 1}, {u'bin': u'6928.47093', u'frequency': 3}, {u'bin': u'20291.599995', u'frequency': 2}, {u'bin': u'8984.33694', u'frequency': 4}, {u'bin': u'5900.537925', u'frequency': 2}, {u'bin': u'760.8729', u'frequency': 7}, {u'bin': u'18235.733985', u'frequency': 0}, {u'bin': u'14124.001965', u'frequency': 3}, {u'bin': u'10012.269945', u'frequency': 2}, {u'bin': u'19263.66699', u'frequency': 0}, {u'bin': u'4872.60492', u'frequency': 2}, {u'bin': u'1788.805905', u'frequency': 2}, {u'bin': u'13096.06896', u'frequency': 1}, {u'bin': u'12068.135955', u'frequency': 8}, {u'bin': u'16179.867975', u'frequency': 1}, {u'bin': u'17207.80098', u'frequency': 0}, {u'bin': u'11040.20295', u'frequency': 3}, {u'bin': u'3844.671915', u'frequency': 2}], u'statisticType': u'featureDistributions', u'featureName': u'team_budget'}, {u'frequencyDistribution': [{u'bin': u'37.75', u'frequency': 3}, {u'bin': u'3.45', u'frequency': 2}, {u'bin': u'1.0', u'frequency': 3}, {u'bin': u'20.6', u'frequency': 3}, {u'bin': u'15.7', u'frequency': 3}, {u'bin': u'40.2', u'frequency': 2}, {u'bin': u'5.9', u'frequency': 3}, {u'bin': u'27.95', u'frequency': 3}, {u'bin': u'47.55', u'frequency': 3}, {u'bin': u'30.4', u'frequency': 2}, {u'bin': u'23.05', u'frequency': 2}, {u'bin': u'8.35', u'frequency': 2}, {u'bin': u'35.3', u'frequency': 2}, {u'bin': u'25.5', u'frequency': 2}, {u'bin': u'10.8', u'frequency': 3}, {u'bin': u'13.25', u'frequency': 2}, {u'bin': u'18.15', u'frequency': 2}, {u'bin': u'32.85', u'frequency': 3}, {u'bin': u'45.1', u'frequency': 2}, {u'bin': u'42.65', u'frequency': 3}], u'statisticType': u'featureDistributions', u'featureName': u'team_id'}, {u'frequencyDistribution': [{u'bin': u'37.75', u'frequency': 3}, {u'bin': u'3.45', u'frequency': 2}, {u'bin': u'1.0', u'frequency': 3}, {u'bin': u'20.6', u'frequency': 3}, {u'bin': u'15.7', u'frequency': 3}, {u'bin': u'40.2', u'frequency': 2}, {u'bin': u'5.9', u'frequency': 3}, {u'bin': u'27.95', u'frequency': 3}, {u'bin': u'47.55', u'frequency': 3}, {u'bin': u'30.4', u'frequency': 2}, {u'bin': u'23.05', u'frequency': 2}, {u'bin': u'8.35', u'frequency': 2}, {u'bin': u'35.3', u'frequency': 2}, {u'bin': u'25.5', u'frequency': 2}, {u'bin': u'10.8', u'frequency': 3}, {u'bin': u'13.25', u'frequency': 2}, {u'bin': u'18.15', u'frequency': 2}, {u'bin': u'32.85', u'frequency': 3}, {u'bin': u'45.1', u'frequency': 2}, {u'bin': u'42.65', u'frequency': 3}], u'statisticType': u'featureDistributions', u'featureName': u'team_position'}]}, u'description': u'a spanish version of teams_features', u'name': u'teams_features', u'created': u'2019-03-19T14:17:44Z', u'featurestoreId': 22, u'descriptiveStatistics': {u'descriptiveStats': [{u'metricValues': [{u'value': 50.0, u'metricName': u'count'}, {u'value': 8723.292, u'metricName': u'mean'}, {u'value': 5238.943, u'metricName': u'stddev'}, {u'value': 760.8729, u'metricName': u'min'}, {u'value': 21319.533, u'metricName': u'max'}], u'statisticType': u'descriptiveStatistics', u'featureName': u'team_budget'}, {u'metricValues': [{u'value': 50.0, u'metricName': u'count'}, {u'value': 25.5, u'metricName': u'mean'}, {u'value': 14.57738, u'metricName': u'stddev'}, {u'value': 1.0, u'metricName': u'min'}, {u'value': 50.0, u'metricName': u'max'}], u'statisticType': u'descriptiveStatistics', u'featureName': u'team_position'}, {u'metricValues': [{u'value': 50.0, u'metricName': u'count'}, {u'value': 25.5, u'metricName': u'mean'}, {u'value': 14.57738, u'metricName': u'stddev'}, {u'value': 1.0, u'metricName': u'min'}, {u'value': 50.0, u'metricName': u'max'}], u'statisticType': u'descriptiveStatistics', u'featureName': u'team_id'}]}, u'creator': u'4f67e02d354864382be24f160c9dd50c03db1bcd@email.com', u'jobName': None, u'jobStatus': None, u'clusterAnalysis': {u'clusters': [{u'cluster': 0, u'datapointName': u'56'}, {u'cluster': 0, u'datapointName': u'54'}, {u'cluster': 3, u'datapointName': u'42'}, {u'cluster': 2, u'datapointName': u'48'}, {u'cluster': 1, u'datapointName': u'43'}, {u'cluster': 0, u'datapointName': u'60'}, {u'cluster': 3, u'datapointName': u'61'}, {u'cluster': 2, u'datapointName': u'49'}, {u'cluster': 1, u'datapointName': u'52'}, {u'cluster': 1, u'datapointName': u'53'}, {u'cluster': 0, u'datapointName': u'24'}, {u'cluster': 0, u'datapointName': u'25'}, {u'cluster': 0, u'datapointName': u'26'}, {u'cluster': 0, u'datapointName': u'27'}, {u'cluster': 0, u'datapointName': u'20'}, {u'cluster': 2, u'datapointName': u'21'}, {u'cluster': 2, u'datapointName': u'22'}, {u'cluster': 0, u'datapointName': u'23'}, {u'cluster': 4, u'datapointName': u'46'}, {u'cluster': 4, u'datapointName': u'47'}, {u'cluster': 1, u'datapointName': u'44'}, {u'cluster': 1, u'datapointName': u'45'}, {u'cluster': 0, u'datapointName': u'28'}, {u'cluster': 0, u'datapointName': u'29'}, {u'cluster': 2, u'datapointName': u'40'}, {u'cluster': 2, u'datapointName': u'41'}, {u'cluster': 0, u'datapointName': u'1'}, {u'cluster': 0, u'datapointName': u'0'}, {u'cluster': 1, u'datapointName': u'3'}, {u'cluster': 1, u'datapointName': u'2'}, {u'cluster': 1, u'datapointName': u'5'}, {u'cluster': 1, u'datapointName': u'4'}, {u'cluster': 2, u'datapointName': u'7'}, {u'cluster': 1, u'datapointName': u'6'}, {u'cluster': 3, u'datapointName': u'9'}, {u'cluster': 0, u'datapointName': u'8'}, {u'cluster': 1, u'datapointName': u'51'}, {u'cluster': 1, u'datapointName': u'39'}, {u'cluster': 1, u'datapointName': u'38'}, {u'cluster': 0, u'datapointName': u'59'}, {u'cluster': 0, u'datapointName': u'58'}, {u'cluster': 3, u'datapointName': u'11'}, {u'cluster': 3, u'datapointName': u'10'}, {u'cluster': 1, u'datapointName': u'13'}, {u'cluster': 2, u'datapointName': u'12'}, {u'cluster': 1, u'datapointName': u'15'}, {u'cluster': 1, u'datapointName': u'14'}, {u'cluster': 0, u'datapointName': u'17'}, {u'cluster': 4, u'datapointName': u'16'}, {u'cluster': 0, u'datapointName': u'19'}, {u'cluster': 0, u'datapointName': u'18'}, {u'cluster': 2, u'datapointName': u'31'}, {u'cluster': 2, u'datapointName': u'30'}, {u'cluster': 2, u'datapointName': u'37'}, {u'cluster': 1, u'datapointName': u'36'}, {u'cluster': 1, u'datapointName': u'35'}, {u'cluster': 3, u'datapointName': u'34'}, {u'cluster': 2, u'datapointName': u'33'}, {u'cluster': 0, u'datapointName': u'55'}, {u'cluster': 2, u'datapointName': u'32'}, {u'cluster': 0, u'datapointName': u'57'}, {u'cluster': 1, u'datapointName': u'50'}], u'statisticType': u'clusterAnalysis', u'dataPoints': [{u'datapointName': u'56', u'firstDimension': -11169.978, u'secondDimension': -65.27653}, {u'datapointName': u'54', u'firstDimension': -12510.703, u'secondDimension': -62.47483}, {u'datapointName': u'42', u'firstDimension': -14580.947, u'secondDimension': -51.202396}, {u'datapointName': u'48', u'firstDimension': -910.39215, u'secondDimension': -56.586693}, {u'datapointName': u'43', u'firstDimension': -9290.637, u'secondDimension': -52.511135}, {u'datapointName': u'60', u'firstDimension': -11296.575, u'secondDimension': -68.107475}, {u'datapointName': u'61', u'firstDimension': -14551.416, u'secondDimension': -69.586586}, {u'datapointName': u'49', u'firstDimension': -1583.59, u'secondDimension': -58.014328}, {u'datapointName': u'52', u'firstDimension': -9775.454, u'secondDimension': -59.59187}, {u'datapointName': u'53', u'firstDimension': -9775.454, u'secondDimension': -59.59187}, {u'datapointName': u'24', u'firstDimension': -12494.655, u'secondDimension': -29.947598}, {u'datapointName': u'25', u'firstDimension': -12433.237, u'secondDimension': -31.360586}, {u'datapointName': u'26', u'firstDimension': -12433.237, u'secondDimension': -31.360586}, {u'datapointName': u'27', u'firstDimension': -12433.237, u'secondDimension': -31.360586}, {u'datapointName': u'20', u'firstDimension': -11698.139, u'secondDimension': -20.03222}, {u'datapointName': u'21', u'firstDimension': -1621.1931, u'secondDimension': -24.073954}, {u'datapointName': u'22', u'firstDimension': -1621.1931, u'secondDimension': -24.073954}, {u'datapointName': u'23', u'firstDimension': -13022.44, u'secondDimension': -27.129692}, {u'datapointName': u'46', u'firstDimension': -20347.28, u'secondDimension': -55.56}, {u'datapointName': u'47', u'firstDimension': -20347.28, u'secondDimension': -55.56}, {u'datapointName': u'44', u'firstDimension': -9290.637, u'secondDimension': -52.511135}, {u'datapointName': u'45', u'firstDimension': -9290.637, u'secondDimension': -52.511135}, {u'datapointName': u'28', u'firstDimension': -12433.237, u'secondDimension': -31.360586}, {u'datapointName': u'29', u'firstDimension': -10290.322, u'secondDimension': -32.732075}, {u'datapointName': u'40', u'firstDimension': -1587.0887, u'secondDimension': -48.114902}, {u'datapointName': u'41', u'firstDimension': -787.9128, u'secondDimension': -49.513184}, {u'datapointName': u'1', u'firstDimension': -13547.429, u'secondDimension': -5.926956}, {u'datapointName': u'0', u'firstDimension': -13547.429, u'secondDimension': -5.926956}, {u'datapointName': u'3', u'firstDimension': -7307.94, u'secondDimension': -8.630983}, {u'datapointName': u'2', u'firstDimension': -9678.333, u'secondDimension': -7.26403}, {u'datapointName': u'5', u'firstDimension': -9469.991, u'secondDimension': -10.088303}, {u'datapointName': u'4', u'firstDimension': -9469.991, u'secondDimension': -10.088303}, {u'datapointName': u'7', u'firstDimension': -2248.776, u'secondDimension': -11.358543}, {u'datapointName': u'6', u'firstDimension': -9469.991, u'secondDimension': -10.088303}, {u'datapointName': u'9', u'firstDimension': -16107.08, u'secondDimension': -14.463271}, {u'datapointName': u'8', u'firstDimension': -12474.419, u'secondDimension': -12.976631}, {u'datapointName': u'51', u'firstDimension': -9775.454, u'secondDimension': -59.59187}, {u'datapointName': u'39', u'firstDimension': -8154.7246, u'secondDimension': -46.83163}, {u'datapointName': u'38', u'firstDimension': -8154.7246, u'secondDimension': -46.83163}, {u'datapointName': u'59', u'firstDimension': -11296.575, u'secondDimension': -68.107475}, {u'datapointName': u'58', u'firstDimension': -11169.978, u'secondDimension': -65.27653}, {u'datapointName': u'11', u'firstDimension': -16107.08, u'secondDimension': -14.463271}, {u'datapointName': u'10', u'firstDimension': -16107.08, u'secondDimension': -14.463271}, {u'datapointName': u'13', u'firstDimension': -6101.9717, u'secondDimension': -17.09222}, {u'datapointName': u'12', u'firstDimension': -4888.232, u'secondDimension': -15.653809}, {u'datapointName': u'15', u'firstDimension': -6101.9717, u'secondDimension': -17.09222}, {u'datapointName': u'14', u'firstDimension': -6101.9717, u'secondDimension': -17.09222}, {u'datapointName': u'17', u'firstDimension': -11698.139, u'secondDimension': -20.03222}, {u'datapointName': u'16', u'firstDimension': -21319.533, u'secondDimension': -18.809835}, {u'datapointName': u'19', u'firstDimension': -11698.139, u'secondDimension': -20.03222}, {u'datapointName': u'18', u'firstDimension': -11698.139, u'secondDimension': -20.03222}, {u'datapointName': u'31', u'firstDimension': -930.39667, u'secondDimension': -35.37389}, {u'datapointName': u'30', u'firstDimension': -760.87225, u'secondDimension': -33.956295}, {u'datapointName': u'37', u'firstDimension': -4969.734, u'secondDimension': -45.35392}, {u'datapointName': u'36', u'firstDimension': -6907.281, u'secondDimension': -42.56412}, {u'datapointName': u'35', u'firstDimension': -6907.281, u'secondDimension': -42.56412}, {u'datapointName': u'34', u'firstDimension': -16758.064, u'secondDimension': -37.10367}, {u'datapointName': u'33', u'firstDimension': -930.39667, u'secondDimension': -35.37389}, {u'datapointName': u'55', u'firstDimension': -12510.703, u'secondDimension': -62.47483}, {u'datapointName': u'32', u'firstDimension': -930.39667, u'secondDimension': -35.37389}, {u'datapointName': u'57', u'firstDimension': -11169.978, u'secondDimension': -65.27653}, {u'datapointName': u'50', u'firstDimension': -9775.454, u'secondDimension': -59.59187}]}, u'inodeId': 106570, u'featurestoreName': u'project_bde67d4d2ef6dcfc_featurestore', u'hdfsStorePaths': [u'hdfs://10.0.2.15:8020/apps/hive/warehouse/project_bde67d4d2ef6dcfc_featurestore.db/teams_features_1'], u'dependencies': [], u'version': 1, u'featureCorrelationMatrix': {u'featureCorrelations': [{u'featureName': u'team_position', u'correlationValues': [{u'statisticType': u'featureCorrelations', u'featureName': u'team_budget', u'correlation': 0.058723483}, {u'statisticType': u'featureCorrelations', u'featureName': u'team_position', u'correlation': 1.0}, {u'statisticType': u'featureCorrelations', u'featureName': u'team_id', u'correlation': 1.0}]}, {u'featureName': u'team_budget', u'correlationValues': [{u'statisticType': u'featureCorrelations', u'featureName': u'team_budget', u'correlation': 1.0}, {u'statisticType': u'featureCorrelations', u'featureName': u'team_position', u'correlation': 0.058723483}, {u'statisticType': u'featureCorrelations', u'featureName': u'team_id', u'correlation': 0.058723483}]}, {u'featureName': u'team_id', u'correlationValues': [{u'statisticType': u'featureCorrelations', u'featureName': u'team_budget', u'correlation': 0.058723483}, {u'statisticType': u'featureCorrelations', u'featureName': u'team_position', u'correlation': 1.0}, {u'statisticType': u'featureCorrelations', u'featureName': u'team_id', u'correlation': 1.0}]}]}, u'jobId': None, u'id': 2, u'features': [{u'type': u'double', u'name': u'team_budget', u'primary': True, u'description': u'-'}, {u'type': u'int', u'name': u'team_id', u'primary': False, u'description': u'-'}, {u'type': u'int', u'name': u'team_position', u'primary': False, u'description': u'-'}]}, {u'lastComputed': None, u'featuresHistogram': {u'featureDistributions': [{u'frequencyDistribution': [{u'bin': u'37.75', u'frequency': 3}, {u'bin': u'3.45', u'frequency': 2}, {u'bin': u'1.0', u'frequency': 3}, {u'bin': u'20.6', u'frequency': 3}, {u'bin': u'15.7', u'frequency': 3}, {u'bin': u'40.2', u'frequency': 2}, {u'bin': u'5.9', u'frequency': 3}, {u'bin': u'27.95', u'frequency': 3}, {u'bin': u'47.55', u'frequency': 3}, {u'bin': u'30.4', u'frequency': 2}, {u'bin': u'23.05', u'frequency': 2}, {u'bin': u'8.35', u'frequency': 2}, {u'bin': u'35.3', u'frequency': 2}, {u'bin': u'25.5', u'frequency': 2}, {u'bin': u'10.8', u'frequency': 3}, {u'bin': u'13.25', u'frequency': 2}, {u'bin': u'18.15', u'frequency': 2}, {u'bin': u'32.85', u'frequency': 3}, {u'bin': u'45.1', u'frequency': 2}, {u'bin': u'42.65', u'frequency': 3}], u'statisticType': u'featureDistributions', u'featureName': u'team_id'}, {u'frequencyDistribution': [{u'bin': u'37.75', u'frequency': 2}, {u'bin': u'77.6875', u'frequency': 1}, {u'bin': u'72.3625', u'frequency': 3}, {u'bin': u'64.375', u'frequency': 3}, {u'bin': u'43.075', u'frequency': 1}, {u'bin': u'53.725', u'frequency': 4}, {u'bin': u'61.7125', u'frequency': 4}, {u'bin': u'51.0625', u'frequency': 2}, {u'bin': u'40.4125', u'frequency': 3}, {u'bin': u'29.7625', u'frequency': 5}, {u'bin': u'35.0875', u'frequency': 2}, {u'bin': u'27.1', u'frequency': 5}, {u'bin': u'69.7', u'frequency': 1}, {u'bin': u'48.4', u'frequency': 1}, {u'bin': u'75.025', u'frequency': 1}, {u'bin': u'32.425', u'frequency': 2}, {u'bin': u'67.0375', u'frequency': 0}, {u'bin': u'45.7375', u'frequency': 2}, {u'bin': u'56.3875', u'frequency': 4}, {u'bin': u'59.05', u'frequency': 4}], u'statisticType': u'featureDistributions', u'featureName': u'average_position'}, {u'frequencyDistribution': [{u'bin': u'648.5', u'frequency': 2}, {u'bin': u'701.75', u'frequency': 2}, {u'bin': u'1553.75', u'frequency': 1}, {u'bin': u'914.75', u'frequency': 2}, {u'bin': u'1287.5', u'frequency': 3}, {u'bin': u'1021.25', u'frequency': 2}, {u'bin': u'808.25', u'frequency': 3}, {u'bin': u'1234.25', u'frequency': 4}, {u'bin': u'1394.0', u'frequency': 1}, {u'bin': u'542.0', u'frequency': 5}, {u'bin': u'1127.75', u'frequency': 4}, {u'bin': u'755.0', u'frequency': 2}, {u'bin': u'1340.75', u'frequency': 0}, {u'bin': u'1500.5', u'frequency': 1}, {u'bin': u'595.25', u'frequency': 5}, {u'bin': u'1181.0', u'frequency': 4}, {u'bin': u'968.0', u'frequency': 1}, {u'bin': u'861.5', u'frequency': 1}, {u'bin': u'1447.25', u'frequency': 3}, {u'bin': u'1074.5', u'frequency': 4}], u'statisticType': u'featureDistributions', u'featureName': u'sum_position'}]}, u'description': u'Features of average season scores for football teams', u'name': u'season_scores_features', u'created': u'2019-03-19T14:18:02Z', u'featurestoreId': 22, u'descriptiveStatistics': {u'descriptiveStats': [{u'metricValues': [{u'value': 50.0, u'metricName': u'count'}, {u'value': 50.489, u'metricName': u'mean'}, {u'value': 15.306195, u'metricName': u'stddev'}, {u'value': 27.1, u'metricName': u'min'}, {u'value': 80.35, u'metricName': u'max'}], u'statisticType': u'descriptiveStatistics', u'featureName': u'average_position'}, {u'metricValues': [{u'value': 50.0, u'metricName': u'count'}, {u'value': 25.5, u'metricName': u'mean'}, {u'value': 14.57738, u'metricName': u'stddev'}, {u'value': 1.0, u'metricName': u'min'}, {u'value': 50.0, u'metricName': u'max'}], u'statisticType': u'descriptiveStatistics', u'featureName': u'team_id'}, {u'metricValues': [{u'value': 50.0, u'metricName': u'count'}, {u'value': 1009.78, u'metricName': u'mean'}, {u'value': 306.1239, u'metricName': u'stddev'}, {u'value': 542.0, u'metricName': u'min'}, {u'value': 1607.0, u'metricName': u'max'}], u'statisticType': u'descriptiveStatistics', u'featureName': u'sum_position'}]}, u'creator': u'4f67e02d354864382be24f160c9dd50c03db1bcd@email.com', u'jobName': None, u'jobStatus': None, u'clusterAnalysis': {u'clusters': [{u'cluster': 3, u'datapointName': u'42'}, {u'cluster': 2, u'datapointName': u'48'}, {u'cluster': 3, u'datapointName': u'43'}, {u'cluster': 2, u'datapointName': u'49'}, {u'cluster': 0, u'datapointName': u'52'}, {u'cluster': 4, u'datapointName': u'24'}, {u'cluster': 4, u'datapointName': u'25'}, {u'cluster': 3, u'datapointName': u'26'}, {u'cluster': 2, u'datapointName': u'27'}, {u'cluster': 4, u'datapointName': u'20'}, {u'cluster': 4, u'datapointName': u'21'}, {u'cluster': 4, u'datapointName': u'22'}, {u'cluster': 4, u'datapointName': u'23'}, {u'cluster': 4, u'datapointName': u'46'}, {u'cluster': 2, u'datapointName': u'47'}, {u'cluster': 2, u'datapointName': u'44'}, {u'cluster': 1, u'datapointName': u'45'}, {u'cluster': 2, u'datapointName': u'28'}, {u'cluster': 2, u'datapointName': u'29'}, {u'cluster': 0, u'datapointName': u'40'}, {u'cluster': 3, u'datapointName': u'41'}, {u'cluster': 0, u'datapointName': u'1'}, {u'cluster': 2, u'datapointName': u'0'}, {u'cluster': 2, u'datapointName': u'3'}, {u'cluster': 0, u'datapointName': u'2'}, {u'cluster': 0, u'datapointName': u'5'}, {u'cluster': 0, u'datapointName': u'4'}, {u'cluster': 3, u'datapointName': u'7'}, {u'cluster': 0, u'datapointName': u'6'}, {u'cluster': 4, u'datapointName': u'9'}, {u'cluster': 4, u'datapointName': u'8'}, {u'cluster': 0, u'datapointName': u'51'}, {u'cluster': 4, u'datapointName': u'39'}, {u'cluster': 4, u'datapointName': u'38'}, {u'cluster': 3, u'datapointName': u'11'}, {u'cluster': 2, u'datapointName': u'10'}, {u'cluster': 2, u'datapointName': u'13'}, {u'cluster': 2, u'datapointName': u'12'}, {u'cluster': 2, u'datapointName': u'15'}, {u'cluster': 2, u'datapointName': u'14'}, {u'cluster': 2, u'datapointName': u'17'}, {u'cluster': 4, u'datapointName': u'16'}, {u'cluster': 4, u'datapointName': u'19'}, {u'cluster': 4, u'datapointName': u'18'}, {u'cluster': 1, u'datapointName': u'31'}, {u'cluster': 2, u'datapointName': u'30'}, {u'cluster': 1, u'datapointName': u'37'}, {u'cluster': 2, u'datapointName': u'36'}, {u'cluster': 4, u'datapointName': u'35'}, {u'cluster': 3, u'datapointName': u'34'}, {u'cluster': 0, u'datapointName': u'33'}, {u'cluster': 0, u'datapointName': u'32'}, {u'cluster': 3, u'datapointName': u'50'}], u'statisticType': u'clusterAnalysis', u'dataPoints': [{u'datapointName': u'42', u'firstDimension': -1129.6208, u'secondDimension': -23.361767}, {u'datapointName': u'48', u'firstDimension': -725.6221, u'secondDimension': -23.572412}, {u'datapointName': u'43', u'firstDimension': -1129.6208, u'secondDimension': -23.361767}, {u'datapointName': u'49', u'firstDimension': -725.6221, u'secondDimension': -23.572412}, {u'datapointName': u'52', u'firstDimension': -906.2184, u'secondDimension': -20.415012}, {u'datapointName': u'24', u'firstDimension': -1326.2179, u'secondDimension': -20.989096}, {u'datapointName': u'25', u'firstDimension': -1326.2179, u'secondDimension': -20.989096}, {u'datapointName': u'26', u'firstDimension': -1010.12537, u'secondDimension': -27.513346}, {u'datapointName': u'27', u'firstDimension': -639.667, u'secondDimension': -18.355698}, {u'datapointName': u'20', u'firstDimension': -1214.7228, u'secondDimension': -25.53304}, {u'datapointName': u'21', u'firstDimension': -1214.7228, u'secondDimension': -25.53304}, {u'datapointName': u'22', u'firstDimension': -1326.2179, u'secondDimension': -20.989096}, {u'datapointName': u'23', u'firstDimension': -1326.2179, u'secondDimension': -20.989096}, {u'datapointName': u'46', u'firstDimension': -1250.8225, u'secondDimension': -25.301079}, {u'datapointName': u'47', u'firstDimension': -725.6221, u'secondDimension': -23.572412}, {u'datapointName': u'44', u'firstDimension': -542.1236, u'secondDimension': -24.585075}, {u'datapointName': u'45', u'firstDimension': -1475.3229, u'secondDimension': -26.29928}, {u'datapointName': u'28', u'firstDimension': -639.667, u'secondDimension': -18.355698}, {u'datapointName': u'29', u'firstDimension': -577.17426, u'secondDimension': -25.30287}, {u'datapointName': u'40', u'firstDimension': -937.07294, u'secondDimension': -24.931822}, {u'datapointName': u'41', u'firstDimension': -1129.6208, u'secondDimension': -23.361767}, {u'datapointName': u'1', u'firstDimension': -806.87085, u'secondDimension': -22.551102}, {u'datapointName': u'0', u'firstDimension': -687.4733, u'secondDimension': -24.70508}, {u'datapointName': u'3', u'firstDimension': -563.3205, u'secondDimension': -21.619833}, {u'datapointName': u'2', u'firstDimension': -806.87085, u'secondDimension': -22.551102}, {u'datapointName': u'5', u'firstDimension': -822.0185, u'secondDimension': -20.290386}, {u'datapointName': u'4', u'firstDimension': -841.8235, u'secondDimension': -25.266495}, {u'datapointName': u'7', u'firstDimension': -1101.1786, u'secondDimension': -30.97769}, {u'datapointName': u'6', u'firstDimension': -822.0185, u'secondDimension': -20.290386}, {u'datapointName': u'9', u'firstDimension': -1233.9686, u'secondDimension': -21.470905}, {u'datapointName': u'8', u'firstDimension': -1233.9686, u'secondDimension': -21.470905}, {u'datapointName': u'51', u'firstDimension': -906.2184, u'secondDimension': -20.415012}, {u'datapointName': u'39', u'firstDimension': -1212.9187, u'secondDimension': -21.439749}, {u'datapointName': u'38', u'firstDimension': -1212.9187, u'secondDimension': -21.439749}, {u'datapointName': u'11', u'firstDimension': -1073.4222, u'secondDimension': -24.610416}, {u'datapointName': u'10', u'firstDimension': -660.766, u'secondDimension': -17.388054}, {u'datapointName': u'13', u'firstDimension': -581.0764, u'secondDimension': -27.49665}, {u'datapointName': u'12', u'firstDimension': -581.0764, u'secondDimension': -27.49665}, {u'datapointName': u'15', u'firstDimension': -596.2731, u'secondDimension': -24.237135}, {u'datapointName': u'14', u'firstDimension': -581.0764, u'secondDimension': -27.49665}, {u'datapointName': u'17', u'firstDimension': -630.42163, u'secondDimension': -22.908285}, {u'datapointName': u'16', u'firstDimension': -1248.1162, u'secondDimension': -19.161144}, {u'datapointName': u'19', u'firstDimension': -1214.7228, u'secondDimension': -25.53304}, {u'datapointName': u'18', u'firstDimension': -1189.5747, u'secondDimension': -27.303299}, {u'datapointName': u'31', u'firstDimension': -1523.4231, u'secondDimension': -26.655867}, {u'datapointName': u'30', u'firstDimension': -577.17426, u'secondDimension': -25.30287}, {u'datapointName': u'37', u'firstDimension': -1441.5172, u'secondDimension': -20.636534}, {u'datapointName': u'36', u'firstDimension': -542.22156, u'secondDimension': -22.587477}, {u'datapointName': u'35', u'firstDimension': -1237.7728, u'secondDimension': -25.662287}, {u'datapointName': u'34', u'firstDimension': -1170.8677, u'secondDimension': -20.378637}, {u'datapointName': u'33', u'firstDimension': -962.9762, u'secondDimension': -28.204605}, {u'datapointName': u'32', u'firstDimension': -962.9762, u'secondDimension': -28.204605}, {u'datapointName': u'50', u'firstDimension': -1061.2747, u'secondDimension': -27.018269}]}, u'inodeId': 106583, u'featurestoreName': u'project_bde67d4d2ef6dcfc_featurestore', u'hdfsStorePaths': [u'hdfs://10.0.2.15:8020/apps/hive/warehouse/project_bde67d4d2ef6dcfc_featurestore.db/season_scores_features_1'], u'dependencies': [], u'version': 1, u'featureCorrelationMatrix': {u'featureCorrelations': [{u'featureName': u'sum_position', u'correlationValues': [{u'statisticType': u'featureCorrelations', u'featureName': u'average_position', u'correlation': 1.0}, {u'statisticType': u'featureCorrelations', u'featureName': u'team_id', u'correlation': 0.97596633}, {u'statisticType': u'featureCorrelations', u'featureName': u'sum_position', u'correlation': 1.0}]}, {u'featureName': u'team_id', u'correlationValues': [{u'statisticType': u'featureCorrelations', u'featureName': u'average_position', u'correlation': 0.97596633}, {u'statisticType': u'featureCorrelations', u'featureName': u'team_id', u'correlation': 1.0}, {u'statisticType': u'featureCorrelations', u'featureName': u'sum_position', u'correlation': 0.97596633}]}, {u'featureName': u'average_position', u'correlationValues': [{u'statisticType': u'featureCorrelations', u'featureName': u'average_position', u'correlation': 1.0}, {u'statisticType': u'featureCorrelations', u'featureName': u'team_id', u'correlation': 0.97596633}, {u'statisticType': u'featureCorrelations', u'featureName': u'sum_position', u'correlation': 1.0}]}]}, u'jobId': None, u'id': 3, u'features': [{u'type': u'double', u'name': u'average_position', u'primary': False, u'description': u'-'}, {u'type': u'double', u'name': u'sum_position', u'primary': False, u'description': u'-'}, {u'type': u'int', u'name': u'team_id', u'primary': True, u'description': u'-'}]}, {u'lastComputed': None, u'featuresHistogram': {u'featureDistributions': [{u'frequencyDistribution': [{u'bin': u'37.75', u'frequency': 3}, {u'bin': u'3.45', u'frequency': 2}, {u'bin': u'1.0', u'frequency': 3}, {u'bin': u'20.6', u'frequency': 3}, {u'bin': u'15.7', u'frequency': 3}, {u'bin': u'40.2', u'frequency': 2}, {u'bin': u'5.9', u'frequency': 3}, {u'bin': u'27.95', u'frequency': 3}, {u'bin': u'47.55', u'frequency': 3}, {u'bin': u'30.4', u'frequency': 2}, {u'bin': u'23.05', u'frequency': 2}, {u'bin': u'8.35', u'frequency': 2}, {u'bin': u'35.3', u'frequency': 2}, {u'bin': u'25.5', u'frequency': 2}, {u'bin': u'10.8', u'frequency': 3}, {u'bin': u'13.25', u'frequency': 2}, {u'bin': u'18.15', u'frequency': 2}, {u'bin': u'32.85', u'frequency': 3}, {u'bin': u'45.1', u'frequency': 2}, {u'bin': u'42.65', u'frequency': 3}], u'statisticType': u'featureDistributions', u'featureName': u'team_id'}, {u'frequencyDistribution': [{u'bin': u'23854.164275', u'frequency': 1}, {u'bin': u'42106.676735', u'frequency': 0}, {u'bin': u'37543.54862', u'frequency': 0}, {u'bin': u'32980.420505', u'frequency': 1}, {u'bin': u'69485.445425', u'frequency': 0}, {u'bin': u'19291.03616', u'frequency': 2}, {u'bin': u'1038.5237', u'frequency': 32}, {u'bin': u'46669.80485', u'frequency': 0}, {u'bin': u'10164.77993', u'frequency': 2}, {u'bin': u'14727.908045', u'frequency': 0}, {u'bin': u'55796.06108', u'frequency': 0}, {u'bin': u'60359.189195', u'frequency': 0}, {u'bin': u'74048.57354', u'frequency': 0}, {u'bin': u'83174.82977', u'frequency': 0}, {u'bin': u'87737.957885', u'frequency': 1}, {u'bin': u'64922.31731', u'frequency': 0}, {u'bin': u'51232.932965', u'frequency': 0}, {u'bin': u'28417.29239', u'frequency': 1}, {u'bin': u'78611.701655', u'frequency': 0}, {u'bin': u'5601.651815', u'frequency': 10}], u'statisticType': u'featureDistributions', u'featureName': u'average_attendance'}, {u'frequencyDistribution': [{u'bin': u'568345.8724999999', u'frequency': 1}, {u'bin': u'112033.04125', u'frequency': 10}, {u'bin': u'1389708.9687500002', u'frequency': 0}, {u'bin': u'659608.43875', u'frequency': 1}, {u'bin': u'842133.57125', u'frequency': 0}, {u'bin': u'933396.1375000001', u'frequency': 0}, {u'bin': u'203295.6075', u'frequency': 2}, {u'bin': u'385820.74', u'frequency': 2}, {u'bin': u'477083.30625', u'frequency': 1}, {u'bin': u'750871.005', u'frequency': 0}, {u'bin': u'1207183.8362500002', u'frequency': 0}, {u'bin': u'20770.475', u'frequency': 32}, {u'bin': u'1480971.5350000001', u'frequency': 0}, {u'bin': u'1298446.4025000001', u'frequency': 0}, {u'bin': u'1024658.70375', u'frequency': 0}, {u'bin': u'1572234.1012500001', u'frequency': 0}, {u'bin': u'1115921.27', u'frequency': 0}, {u'bin': u'294558.17375', u'frequency': 0}, {u'bin': u'1754759.2337500001', u'frequency': 1}, {u'bin': u'1663496.6675000002', u'frequency': 0}], u'statisticType': u'featureDistributions', u'featureName': u'sum_attendance'}]}, u'description': u'Features of average attendance of games of football teams', u'name': u'attendances_features', u'created': u'2019-03-19T14:18:20Z', u'featurestoreId': 22, u'descriptiveStatistics': {u'descriptiveStats': [{u'metricValues': [{u'value': 50.0, u'metricName': u'count'}, {u'value': 25.5, u'metricName': u'mean'}, {u'value': 14.57738, u'metricName': u'stddev'}, {u'value': 1.0, u'metricName': u'min'}, {u'value': 50.0, u'metricName': u'max'}], u'statisticType': u'descriptiveStatistics', u'featureName': u'team_id'}, {u'metricValues': [{u'value': 50.0, u'metricName': u'count'}, {u'value': 8669.394, u'metricName': u'mean'}, {u'value': 14232.309, u'metricName': u'stddev'}, {u'value': 1038.5237, u'metricName': u'min'}, {u'value': 92301.086, u'metricName': u'max'}], u'statisticType': u'descriptiveStatistics', u'featureName': u'average_attendance'}, {u'metricValues': [{u'value': 50.0, u'metricName': u'count'}, {u'value': 173387.88, u'metricName': u'mean'}, {u'value': 284646.2, u'metricName': u'stddev'}, {u'value': 20770.475, u'metricName': u'min'}, {u'value': 1846021.8, u'metricName': u'max'}], u'statisticType': u'descriptiveStatistics', u'featureName': u'sum_attendance'}]}, u'creator': u'4f67e02d354864382be24f160c9dd50c03db1bcd@email.com', u'jobName': None, u'jobStatus': None, u'clusterAnalysis': {u'clusters': [{u'cluster': 0, u'datapointName': u'42'}, {u'cluster': 0, u'datapointName': u'43'}, {u'cluster': 1, u'datapointName': u'24'}, {u'cluster': 4, u'datapointName': u'25'}, {u'cluster': 0, u'datapointName': u'26'}, {u'cluster': 0, u'datapointName': u'27'}, {u'cluster': 4, u'datapointName': u'20'}, {u'cluster': 0, u'datapointName': u'21'}, {u'cluster': 1, u'datapointName': u'22'}, {u'cluster': 1, u'datapointName': u'23'}, {u'cluster': 4, u'datapointName': u'46'}, {u'cluster': 0, u'datapointName': u'47'}, {u'cluster': 0, u'datapointName': u'44'}, {u'cluster': 0, u'datapointName': u'45'}, {u'cluster': 0, u'datapointName': u'28'}, {u'cluster': 0, u'datapointName': u'29'}, {u'cluster': 0, u'datapointName': u'40'}, {u'cluster': 0, u'datapointName': u'41'}, {u'cluster': 3, u'datapointName': u'1'}, {u'cluster': 0, u'datapointName': u'0'}, {u'cluster': 4, u'datapointName': u'3'}, {u'cluster': 4, u'datapointName': u'2'}, {u'cluster': 0, u'datapointName': u'5'}, {u'cluster': 4, u'datapointName': u'4'}, {u'cluster': 0, u'datapointName': u'7'}, {u'cluster': 0, u'datapointName': u'6'}, {u'cluster': 0, u'datapointName': u'9'}, {u'cluster': 4, u'datapointName': u'8'}, {u'cluster': 0, u'datapointName': u'39'}, {u'cluster': 0, u'datapointName': u'38'}, {u'cluster': 4, u'datapointName': u'11'}, {u'cluster': 0, u'datapointName': u'10'}, {u'cluster': 0, u'datapointName': u'13'}, {u'cluster': 4, u'datapointName': u'12'}, {u'cluster': 0, u'datapointName': u'15'}, {u'cluster': 0, u'datapointName': u'14'}, {u'cluster': 0, u'datapointName': u'17'}, {u'cluster': 0, u'datapointName': u'16'}, {u'cluster': 4, u'datapointName': u'19'}, {u'cluster': 0, u'datapointName': u'18'}, {u'cluster': 4, u'datapointName': u'31'}, {u'cluster': 0, u'datapointName': u'30'}, {u'cluster': 0, u'datapointName': u'37'}, {u'cluster': 0, u'datapointName': u'36'}, {u'cluster': 0, u'datapointName': u'35'}, {u'cluster': 4, u'datapointName': u'34'}, {u'cluster': 4, u'datapointName': u'33'}, {u'cluster': 4, u'datapointName': u'32'}], u'statisticType': u'clusterAnalysis', u'dataPoints': [{u'datapointName': u'42', u'firstDimension': 102771.18, u'secondDimension': -30.879086}, {u'datapointName': u'43', u'firstDimension': 102771.18, u'secondDimension': -30.879086}, {u'datapointName': u'24', u'firstDimension': 1848327.9, u'secondDimension': -34.79515}, {u'datapointName': u'25', u'firstDimension': 148782.75, u'secondDimension': -15.72037}, {u'datapointName': u'26', u'firstDimension': 36851.344, u'secondDimension': -48.673798}, {u'datapointName': u'27', u'firstDimension': 41034.33, u'secondDimension': -41.75028}, {u'datapointName': u'20', u'firstDimension': 186493.77, u'secondDimension': -15.409884}, {u'datapointName': u'21', u'firstDimension': 39961.24, u'secondDimension': -47.73066}, {u'datapointName': u'22', u'firstDimension': 1848327.9, u'secondDimension': -34.79515}, {u'datapointName': u'23', u'firstDimension': 1848327.9, u'secondDimension': -34.79515}, {u'datapointName': u'46', u'firstDimension': 141950.81, u'secondDimension': -16.595453}, {u'datapointName': u'47', u'firstDimension': 35798.867, u'secondDimension': -42.654552}, {u'datapointName': u'44', u'firstDimension': 102771.18, u'secondDimension': -30.879086}, {u'datapointName': u'45', u'firstDimension': 59751.45, u'secondDimension': -33.092506}, {u'datapointName': u'28', u'firstDimension': 41034.33, u'secondDimension': -41.75028}, {u'datapointName': u'29', u'firstDimension': 41034.33, u'secondDimension': -41.75028}, {u'datapointName': u'40', u'firstDimension': 102771.18, u'secondDimension': -30.879086}, {u'datapointName': u'41', u'firstDimension': 102771.18, u'secondDimension': -30.879086}, {u'datapointName': u'1', u'firstDimension': 392409.06, u'secondDimension': -13.174876}, {u'datapointName': u'0', u'firstDimension': 81597.9, u'secondDimension': -28.491951}, {u'datapointName': u'3', u'firstDimension': 144714.0, u'secondDimension': -22.645977}, {u'datapointName': u'2', u'firstDimension': 129410.7, u'secondDimension': -18.366167}, {u'datapointName': u'5', u'firstDimension': 63876.605, u'secondDimension': -41.16793}, {u'datapointName': u'4', u'firstDimension': 144714.0, u'secondDimension': -22.645977}, {u'datapointName': u'7', u'firstDimension': 63876.605, u'secondDimension': -41.16793}, {u'datapointName': u'6', u'firstDimension': 63876.605, u'secondDimension': -41.16793}, {u'datapointName': u'9', u'firstDimension': 56550.477, u'secondDimension': -44.033978}, {u'datapointName': u'8', u'firstDimension': 141697.38, u'secondDimension': -17.59082}, {u'datapointName': u'39', u'firstDimension': 89404.17, u'secondDimension': -25.634682}, {u'datapointName': u'38', u'firstDimension': 89404.17, u'secondDimension': -25.634682}, {u'datapointName': u'11', u'firstDimension': 188339.25, u'secondDimension': -12.443628}, {u'datapointName': u'10', u'firstDimension': 56550.477, u'secondDimension': -44.033978}, {u'datapointName': u'13', u'firstDimension': 99416.984, u'secondDimension': -24.817757}, {u'datapointName': u'12', u'firstDimension': 188339.25, u'secondDimension': -12.443628}, {u'datapointName': u'15', u'firstDimension': 61970.82, u'secondDimension': -34.133087}, {u'datapointName': u'14', u'firstDimension': 99416.984, u'secondDimension': -24.817757}, {u'datapointName': u'17', u'firstDimension': 68041.02, u'secondDimension': -29.244074}, {u'datapointName': u'16', u'firstDimension': 104956.94, u'secondDimension': -22.91905}, {u'datapointName': u'19', u'firstDimension': 186493.77, u'secondDimension': -15.409884}, {u'datapointName': u'18', u'firstDimension': 68041.02, u'secondDimension': -29.244074}, {u'datapointName': u'31', u'firstDimension': 187690.45, u'secondDimension': -11.431766}, {u'datapointName': u'30', u'firstDimension': 41034.33, u'secondDimension': -41.75028}, {u'datapointName': u'37', u'firstDimension': 89404.17, u'secondDimension': -25.634682}, {u'datapointName': u'36', u'firstDimension': 71798.7, u'secondDimension': -26.31278}, {u'datapointName': u'35', u'firstDimension': 41967.984, u'secondDimension': -45.76735}, {u'datapointName': u'34', u'firstDimension': 179835.23, u'secondDimension': -13.288139}, {u'datapointName': u'33', u'firstDimension': 282588.78, u'secondDimension': -12.166903}, {u'datapointName': u'32', u'firstDimension': 282588.78, u'secondDimension': -12.166903}]}, u'inodeId': 106596, u'featurestoreName': u'project_bde67d4d2ef6dcfc_featurestore', u'hdfsStorePaths': [u'hdfs://10.0.2.15:8020/apps/hive/warehouse/project_bde67d4d2ef6dcfc_featurestore.db/attendances_features_1'], u'dependencies': [], u'version': 1, u'featureCorrelationMatrix': {u'featureCorrelations': [{u'featureName': u'sum_attendance', u'correlationValues': [{u'statisticType': u'featureCorrelations', u'featureName': u'team_id', u'correlation': -0.5932929}, {u'statisticType': u'featureCorrelations', u'featureName': u'average_attendance', u'correlation': 1.0}, {u'statisticType': u'featureCorrelations', u'featureName': u'sum_attendance', u'correlation': 1.0}]}, {u'featureName': u'average_attendance', u'correlationValues': [{u'statisticType': u'featureCorrelations', u'featureName': u'team_id', u'correlation': -0.5932929}, {u'statisticType': u'featureCorrelations', u'featureName': u'average_attendance', u'correlation': 1.0}, {u'statisticType': u'featureCorrelations', u'featureName': u'sum_attendance', u'correlation': 1.0}]}, {u'featureName': u'team_id', u'correlationValues': [{u'statisticType': u'featureCorrelations', u'featureName': u'team_id', u'correlation': 1.0}, {u'statisticType': u'featureCorrelations', u'featureName': u'average_attendance', u'correlation': -0.5932929}, {u'statisticType': u'featureCorrelations', u'featureName': u'sum_attendance', u'correlation': -0.5932929}]}]}, u'jobId': None, u'id': 4, u'features': [{u'type': u'double', u'name': u'average_attendance', u'primary': False, u'description': u'-'}, {u'type': u'double', u'name': u'sum_attendance', u'primary': False, u'description': u'-'}, {u'type': u'int', u'name': u'team_id', u'primary': True, u'description': u'-'}]}, {u'lastComputed': None, u'featuresHistogram': None, u'description': u'a spanish version of teams_features', u'name': u'teams_features_spanish', u'created': u'2019-03-19T14:18:41Z', u'featurestoreId': 22, u'descriptiveStatistics': None, u'creator': u'4f67e02d354864382be24f160c9dd50c03db1bcd@email.com', u'jobName': None, u'jobStatus': None, u'clusterAnalysis': None, u'inodeId': 106624, u'featurestoreName': u'project_bde67d4d2ef6dcfc_featurestore', u'hdfsStorePaths': [u'hdfs://10.0.2.15:8020/apps/hive/warehouse/project_bde67d4d2ef6dcfc_featurestore.db/teams_features_spanish_1'], u'dependencies': [], u'version': 1, u'featureCorrelationMatrix': None, u'jobId': None, u'id': 6, u'features': [{u'type': u'int', u'name': u'equipo_id', u'primary': False, u'description': u'-'}, {u'type': u'int', u'name': u'equipo_posicion', u'primary': False, u'description': u'-'}, {u'type': u'double', u'name': u'equipo_presupuesto', u'primary': True, u'description': u'-'}]}, {u'lastComputed': None, u'featuresHistogram': None, u'description': u'a spanish version of teams_features', u'name': u'teams_features_spanish', u'created': u'2019-03-19T14:18:51Z', u'featurestoreId': 22, u'descriptiveStatistics': None, u'creator': u'4f67e02d354864382be24f160c9dd50c03db1bcd@email.com', u'jobName': None, u'jobStatus': None, u'clusterAnalysis': None, u'inodeId': 106637, u'featurestoreName': u'project_bde67d4d2ef6dcfc_featurestore', u'hdfsStorePaths': [u'hdfs://10.0.2.15:8020/apps/hive/warehouse/project_bde67d4d2ef6dcfc_featurestore.db/teams_features_spanish_2'], u'dependencies': [], u'version': 2, u'featureCorrelationMatrix': None, u'jobId': None, u'id': 7, u'features': [{u'type': u'int', u'name': u'equipo_id', u'primary': False, u'description': u'-'}, {u'type': u'int', u'name': u'equipo_posicion', u'primary': False, u'description': u'-'}, {u'type': u'double', u'name': u'equipo_presupuesto', u'primary': True, u'description': u'-'}]}]}"
     ]
    }
   ],
   "source": [
    "featurestore.get_featurestore_metadata(update_cache=True)"
   ]
  },
  {
   "cell_type": "code",
   "execution_count": 22,
   "metadata": {},
   "outputs": [],
   "source": [
    "assert featurestore.project_featurestore() == hdfs.project_name() + \"_featurestore\""
   ]
  },
  {
   "cell_type": "code",
   "execution_count": 23,
   "metadata": {},
   "outputs": [],
   "source": [
    "assert featurestore.project_featurestore() in featurestore.get_project_featurestores()"
   ]
  },
  {
   "cell_type": "code",
   "execution_count": 24,
   "metadata": {},
   "outputs": [],
   "source": [
    "assert len(featurestore.get_project_featurestores()) == 1"
   ]
  },
  {
   "cell_type": "code",
   "execution_count": 25,
   "metadata": {},
   "outputs": [],
   "source": [
    "assert featurestore.get_latest_featuregroup_version(\"teams_features_spanish\") == 2"
   ]
  },
  {
   "cell_type": "code",
   "execution_count": 26,
   "metadata": {},
   "outputs": [],
   "source": [
    "assert featurestore.get_latest_featuregroup_version(\"teams_features\") == 1"
   ]
  },
  {
   "cell_type": "code",
   "execution_count": 27,
   "metadata": {},
   "outputs": [],
   "source": [
    "assert \"away_team_id\" in featurestore.get_features_list()"
   ]
  },
  {
   "cell_type": "code",
   "execution_count": 28,
   "metadata": {},
   "outputs": [],
   "source": [
    "assert \"home_team_id\" in featurestore.get_features_list()"
   ]
  },
  {
   "cell_type": "markdown",
   "metadata": {},
   "source": [
    "##### Test Read operations of Features and Feature Groups, \n",
    "\n",
    "- `featurestore.get_feature()`, \n",
    "- `featurestore.get_features()`, \n",
    "- `featurestore.get_featuregroup()`"
   ]
  },
  {
   "cell_type": "code",
   "execution_count": 29,
   "metadata": {},
   "outputs": [
    {
     "name": "stdout",
     "output_type": "stream",
     "text": [
      "Running sql: use project_bde67d4d2ef6dcfc_featurestore\n",
      "Running sql: SELECT team_budget FROM teams_features_1"
     ]
    }
   ],
   "source": [
    "tmp = featurestore.get_feature(\"team_budget\")\n",
    "assert tmp.count() == 50\n",
    "assert len(tmp.columns) == 1\n",
    "assert \"team_budget\" in tmp.columns"
   ]
  },
  {
   "cell_type": "code",
   "execution_count": 30,
   "metadata": {},
   "outputs": [
    {
     "name": "stdout",
     "output_type": "stream",
     "text": [
      "Running sql: use project_bde67d4d2ef6dcfc_featurestore\n",
      "Running sql: SELECT team_budget FROM teams_features_1"
     ]
    }
   ],
   "source": [
    "tmp = featurestore.get_feature(\n",
    "    \"team_budget\", \n",
    "    featurestore=featurestore.project_featurestore(), \n",
    "    featuregroup=\"teams_features\", \n",
    "    featuregroup_version = 1,\n",
    "    dataframe_type = \"spark\"\n",
    ")\n",
    "assert tmp.count() == 50\n",
    "assert len(tmp.columns) == 1\n",
    "assert \"team_budget\" in tmp.columns"
   ]
  },
  {
   "cell_type": "code",
   "execution_count": 31,
   "metadata": {},
   "outputs": [
    {
     "name": "stdout",
     "output_type": "stream",
     "text": [
      "Running sql: use project_bde67d4d2ef6dcfc_featurestore\n",
      "Running sql: SELECT * FROM teams_features_1"
     ]
    }
   ],
   "source": [
    "tmp = featurestore.get_featuregroup(\"teams_features\")\n",
    "assert tmp.count() == 50\n",
    "assert len(tmp.columns) == 3\n",
    "assert \"team_budget\" in tmp.columns\n",
    "assert \"team_id\" in tmp.columns\n",
    "assert \"team_position\" in tmp.columns"
   ]
  },
  {
   "cell_type": "code",
   "execution_count": 32,
   "metadata": {},
   "outputs": [
    {
     "name": "stdout",
     "output_type": "stream",
     "text": [
      "Running sql: use project_bde67d4d2ef6dcfc_featurestore\n",
      "Running sql: SELECT * FROM teams_features_1"
     ]
    }
   ],
   "source": [
    "tmp = featurestore.get_featuregroup(\n",
    "    \"teams_features\", \n",
    "    featurestore=featurestore.project_featurestore(), \n",
    "    featuregroup_version = 1,\n",
    "    dataframe_type = \"spark\"\n",
    ")\n",
    "assert tmp.count() == 50\n",
    "assert len(tmp.columns) == 3\n",
    "assert \"team_budget\" in tmp.columns\n",
    "assert \"team_id\" in tmp.columns\n",
    "assert \"team_position\" in tmp.columns"
   ]
  },
  {
   "cell_type": "code",
   "execution_count": 33,
   "metadata": {},
   "outputs": [
    {
     "name": "stdout",
     "output_type": "stream",
     "text": [
      "Running sql: use project_bde67d4d2ef6dcfc_featurestore\n",
      "Running sql: SELECT team_budget, average_attendance FROM teams_features_1 JOIN attendances_features_1 ON teams_features_1.`team_id`=attendances_features_1.`team_id`"
     ]
    }
   ],
   "source": [
    "features = [\"team_budget\", \"average_attendance\"]\n",
    "tmp = featurestore.get_features(\n",
    "    features\n",
    ")\n",
    "assert set(features) == set(tmp.columns)\n",
    "assert tmp.count() == 50\n",
    "assert len(tmp.columns) == len(features)"
   ]
  },
  {
   "cell_type": "code",
   "execution_count": 34,
   "metadata": {},
   "outputs": [
    {
     "name": "stdout",
     "output_type": "stream",
     "text": [
      "Running sql: use project_bde67d4d2ef6dcfc_featurestore\n",
      "Running sql: SELECT teams_features_1.team_budget, attendances_features_1.average_attendance FROM teams_features_1 JOIN attendances_features_1 ON teams_features_1.`team_id`=attendances_features_1.`team_id`"
     ]
    }
   ],
   "source": [
    "features = [\"teams_features_1.team_budget\", \"attendances_features_1.average_attendance\"]\n",
    "tmp = featurestore.get_features(features)\n",
    "assert set([\"team_budget\", \"average_attendance\"]) == set(tmp.columns)\n",
    "assert tmp.count() == 50\n",
    "assert len(tmp.columns) == len(features)"
   ]
  },
  {
   "cell_type": "code",
   "execution_count": 35,
   "metadata": {},
   "outputs": [
    {
     "name": "stdout",
     "output_type": "stream",
     "text": [
      "Running sql: use project_bde67d4d2ef6dcfc_featurestore\n",
      "Running sql: SELECT team_budget, average_attendance FROM teams_features_1 JOIN attendances_features_1 ON teams_features_1.`team_id`=attendances_features_1.`team_id`"
     ]
    }
   ],
   "source": [
    "features = [\"team_budget\", \"average_attendance\"]\n",
    "tmp = featurestore.get_features(\n",
    "    features,\n",
    "    featurestore=featurestore.project_featurestore(),\n",
    "    featuregroups_version_dict={\n",
    "        \"teams_features\": 1, \n",
    "        \"attendances_features\": 1\n",
    "    }\n",
    ")\n",
    "assert set(features) == set(tmp.columns)\n",
    "assert tmp.count() == 50\n",
    "assert len(tmp.columns) == len(features)"
   ]
  },
  {
   "cell_type": "code",
   "execution_count": 36,
   "metadata": {},
   "outputs": [
    {
     "name": "stdout",
     "output_type": "stream",
     "text": [
      "Running sql: use project_bde67d4d2ef6dcfc_featurestore\n",
      "Running sql: SELECT team_budget, average_attendance FROM teams_features_1 JOIN attendances_features_1 ON teams_features_1.`team_id`=attendances_features_1.`team_id`"
     ]
    }
   ],
   "source": [
    "tmp = featurestore.get_features(\n",
    "    features,\n",
    "    featurestore=featurestore.project_featurestore(),\n",
    "    featuregroups_version_dict={\n",
    "        \"teams_features\": 1, \n",
    "        \"attendances_features\": 1\n",
    "    },\n",
    "    join_key = \"team_id\",\n",
    "    dataframe_type = \"spark\"\n",
    ")\n",
    "assert set(features) == set(tmp.columns)\n",
    "assert tmp.count() == 50\n",
    "assert len(tmp.columns) == len(features)"
   ]
  },
  {
   "cell_type": "code",
   "execution_count": 37,
   "metadata": {},
   "outputs": [
    {
     "name": "stdout",
     "output_type": "stream",
     "text": [
      "Running sql: use project_bde67d4d2ef6dcfc_featurestore\n",
      "Running sql: SELECT team_budget, average_attendance, team_position, sum_attendance FROM teams_features_1 JOIN attendances_features_1 ON teams_features_1.`team_id`=attendances_features_1.`team_id`"
     ]
    }
   ],
   "source": [
    "features = [\"team_budget\", \"average_attendance\",\n",
    "    \"team_position\", \"sum_attendance\"\n",
    "    ]\n",
    "tmp = featurestore.get_features(\n",
    "   features\n",
    ")\n",
    "assert set(features) == set(tmp.columns)\n",
    "assert tmp.count() == 50\n",
    "assert len(tmp.columns) == len(features)"
   ]
  },
  {
   "cell_type": "code",
   "execution_count": 38,
   "metadata": {},
   "outputs": [
    {
     "name": "stdout",
     "output_type": "stream",
     "text": [
      "Running sql: use project_bde67d4d2ef6dcfc_featurestore\n",
      "Running sql: SELECT team_budget, team_id FROM teams_features_1"
     ]
    }
   ],
   "source": [
    "features = [\"team_budget\", \"team_id\"]\n",
    "tmp = featurestore.get_features(\n",
    "    features,\n",
    "    featuregroups_version_dict = {\n",
    "        \"teams_features\" : 1\n",
    "    }\n",
    ")\n",
    "assert set(features) == set(tmp.columns)\n",
    "assert tmp.count() == 50\n",
    "assert len(tmp.columns) == len(features)"
   ]
  },
  {
   "cell_type": "code",
   "execution_count": 39,
   "metadata": {},
   "outputs": [
    {
     "name": "stdout",
     "output_type": "stream",
     "text": [
      "Running sql: use project_bde67d4d2ef6dcfc_featurestore\n",
      "Running sql: SELECT team_budget, score FROM teams_features_1 JOIN games_features_1 ON games_features_1.home_team_id = teams_features_1.team_id"
     ]
    }
   ],
   "source": [
    "tmp = featurestore.sql(\n",
    "    \"SELECT team_budget, score \" \\\n",
    "    \"FROM teams_features_1 JOIN games_features_1 ON \" \\\n",
    "    \"games_features_1.home_team_id = teams_features_1.team_id\")\n",
    "features = ['team_budget', 'score']\n",
    "assert set(features) == set(tmp.columns)\n",
    "assert tmp.count() == 49\n",
    "assert len(tmp.columns) == len(features)"
   ]
  },
  {
   "cell_type": "code",
   "execution_count": 40,
   "metadata": {},
   "outputs": [
    {
     "name": "stdout",
     "output_type": "stream",
     "text": [
      "Running sql: use project_bde67d4d2ef6dcfc_featurestore\n",
      "Running sql: SELECT * FROM teams_features_1 WHERE team_position < 5"
     ]
    }
   ],
   "source": [
    "tmp = featurestore.sql(\"SELECT * FROM teams_features_1 WHERE team_position < 5\")\n",
    "assert len(tmp.columns) == 3\n",
    "assert \"team_budget\" in tmp.columns\n",
    "assert \"team_id\" in tmp.columns\n",
    "assert \"team_position\" in tmp.columns\n",
    "for x in tmp.toPandas()[\"team_position\"].values:\n",
    "    assert x < 5"
   ]
  },
  {
   "cell_type": "code",
   "execution_count": 41,
   "metadata": {},
   "outputs": [
    {
     "name": "stdout",
     "output_type": "stream",
     "text": [
      "Running sql: use project_bde67d4d2ef6dcfc_featurestore\n",
      "Running sql: SELECT * FROM teams_features_1 WHERE team_position < 5"
     ]
    }
   ],
   "source": [
    "tmp = featurestore.sql(\"SELECT * FROM teams_features_1 WHERE team_position < 5\",\n",
    "                featurestore=featurestore.project_featurestore(), \n",
    "                 dataframe_type = \"spark\")\n",
    "assert len(tmp.columns) == 3\n",
    "assert \"team_budget\" in tmp.columns\n",
    "assert \"team_id\" in tmp.columns\n",
    "assert \"team_position\" in tmp.columns\n",
    "for x in tmp.toPandas()[\"team_position\"].values:\n",
    "    assert x < 5"
   ]
  },
  {
   "cell_type": "markdown",
   "metadata": {},
   "source": [
    "#####  Test Insert Operations in Existing Feature Groups, `featurestore.insert_into_featuregroup()`"
   ]
  },
  {
   "cell_type": "code",
   "execution_count": 42,
   "metadata": {},
   "outputs": [],
   "source": [
    "sqlContext = SQLContext(spark.sparkContext)\n",
    "schema = StructType([StructField(\"equipo_id\", IntegerType(), True),\n",
    "                     StructField(\"equipo_presupuesto\", FloatType(), True),\n",
    "                     StructField(\"equipo_posicion\", IntegerType(), True)\n",
    "                        ])\n",
    "sample_df = sqlContext.createDataFrame([(999, 41251.52, 1), (998, 1319.4, 8), (997, 21219.1, 2)], schema)\n",
    "insert_count = sample_df.count()\n",
    "assert insert_count == 3"
   ]
  },
  {
   "cell_type": "code",
   "execution_count": 43,
   "metadata": {},
   "outputs": [
    {
     "name": "stdout",
     "output_type": "stream",
     "text": [
      "Running sql: use project_bde67d4d2ef6dcfc_featurestore\n",
      "Running sql: SELECT * FROM teams_features_spanish_1"
     ]
    }
   ],
   "source": [
    "spanish_team_features_df = featurestore.get_featuregroup(\n",
    "    \"teams_features_spanish\")\n",
    "pre_insert_count = spanish_team_features_df.count()\n",
    "assert pre_insert_count == 50"
   ]
  },
  {
   "cell_type": "code",
   "execution_count": 44,
   "metadata": {},
   "outputs": [
    {
     "name": "stdout",
     "output_type": "stream",
     "text": [
      "Running sql: use project_bde67d4d2ef6dcfc_featurestore\n",
      "Running sql: use project_bde67d4d2ef6dcfc_featurestore\n",
      "Running sql: SELECT * FROM teams_features_spanish_1"
     ]
    }
   ],
   "source": [
    "featurestore.insert_into_featuregroup(\n",
    "    sample_df, \n",
    "    \"teams_features_spanish\", \n",
    "    descriptive_statistics=False, \n",
    "    feature_correlation=False,\n",
    "    feature_histograms=False,\n",
    "    cluster_analysis=False\n",
    ")\n",
    "spanish_team_features_df_updated = featurestore.get_featuregroup(\n",
    "    \"teams_features_spanish\")\n",
    "\n",
    "after_insert_count = spanish_team_features_df_updated.count()\n",
    "assert after_insert_count == 53"
   ]
  },
  {
   "cell_type": "code",
   "execution_count": 45,
   "metadata": {},
   "outputs": [
    {
     "name": "stdout",
     "output_type": "stream",
     "text": [
      "Running sql: use project_bde67d4d2ef6dcfc_featurestore\n",
      "Running sql: use project_bde67d4d2ef6dcfc_featurestore\n",
      "Running sql: SELECT * FROM teams_features_spanish_1"
     ]
    }
   ],
   "source": [
    "featurestore.insert_into_featuregroup(\n",
    "    sample_df, \n",
    "    \"teams_features_spanish\", \n",
    "    featurestore=featurestore.project_featurestore(), \n",
    "    featuregroup_version=1, \n",
    "    mode=\"append\",\n",
    "    descriptive_statistics=False, \n",
    "    feature_correlation=False, \n",
    "    feature_histograms=False,\n",
    "    cluster_analysis=False, \n",
    "    stat_columns=None, \n",
    "    num_bins=20, \n",
    "    corr_method='pearson',\n",
    "    num_clusters=5\n",
    ")\n",
    "\n",
    "after_insert_count2 = featurestore.get_featuregroup(\"teams_features_spanish\").count()\n",
    "assert after_insert_count2 == 56"
   ]
  },
  {
   "cell_type": "code",
   "execution_count": 46,
   "metadata": {},
   "outputs": [
    {
     "name": "stdout",
     "output_type": "stream",
     "text": [
      "Running sql: use project_bde67d4d2ef6dcfc_featurestore\n",
      "Running sql: use project_bde67d4d2ef6dcfc_featurestore\n",
      "Running sql: SELECT * FROM teams_features_spanish_1"
     ]
    }
   ],
   "source": [
    "featurestore.insert_into_featuregroup(\n",
    "    sample_df, \n",
    "    \"teams_features_spanish\",\n",
    "    descriptive_statistics=False, \n",
    "    feature_correlation=False,\n",
    "    feature_histograms=False,\n",
    "    cluster_analysis=False,\n",
    "    mode=\"overwrite\")\n",
    "\n",
    "count_after_overwrite = featurestore.get_featuregroup(\"teams_features_spanish\").count()\n",
    "assert count_after_overwrite == 3"
   ]
  },
  {
   "cell_type": "markdown",
   "metadata": {},
   "source": [
    "##### Test integration of feature store with Numpy, Pandas and plain Python"
   ]
  },
  {
   "cell_type": "code",
   "execution_count": 47,
   "metadata": {},
   "outputs": [
    {
     "name": "stdout",
     "output_type": "stream",
     "text": [
      "Running sql: use project_bde67d4d2ef6dcfc_featurestore\n",
      "Running sql: SELECT team_budget, average_attendance FROM teams_features_1 JOIN attendances_features_1 ON teams_features_1.`team_id`=attendances_features_1.`team_id`"
     ]
    }
   ],
   "source": [
    "pandas_df = featurestore.get_features([\"team_budget\", \"average_attendance\"], dataframe_type=\"pandas\")\n",
    "assert \"team_budget\" in pandas_df.columns.values\n",
    "assert \"average_attendance\" in pandas_df.columns.values\n",
    "assert len(pandas_df) == 50\n",
    "assert len(pandas_df.columns.values) == 2\n",
    "assert isinstance(pandas_df, pd.DataFrame)"
   ]
  },
  {
   "cell_type": "code",
   "execution_count": 48,
   "metadata": {},
   "outputs": [
    {
     "name": "stdout",
     "output_type": "stream",
     "text": [
      "Running sql: use project_bde67d4d2ef6dcfc_featurestore\n",
      "Running sql: SELECT team_budget, average_attendance FROM teams_features_1 JOIN attendances_features_1 ON teams_features_1.`team_id`=attendances_features_1.`team_id`"
     ]
    }
   ],
   "source": [
    "numpy_df = featurestore.get_features([\"team_budget\", \"average_attendance\"], \n",
    "                                      dataframe_type=\"numpy\")\n",
    "assert numpy_df.shape[0] == 50\n",
    "assert numpy_df.shape[1] == 2\n",
    "assert isinstance(numpy_df, np.ndarray)"
   ]
  },
  {
   "cell_type": "code",
   "execution_count": 49,
   "metadata": {},
   "outputs": [
    {
     "name": "stdout",
     "output_type": "stream",
     "text": [
      "Running sql: use project_bde67d4d2ef6dcfc_featurestore\n",
      "Running sql: SELECT team_budget, average_attendance FROM teams_features_1 JOIN attendances_features_1 ON teams_features_1.`team_id`=attendances_features_1.`team_id`"
     ]
    }
   ],
   "source": [
    "python_df = featurestore.get_features([\"team_budget\", \"average_attendance\"], \n",
    "                                      dataframe_type=\"python\")\n",
    "assert len(python_df) == 50\n",
    "assert isinstance(python_df, list)"
   ]
  },
  {
   "cell_type": "code",
   "execution_count": 50,
   "metadata": {},
   "outputs": [
    {
     "name": "stdout",
     "output_type": "stream",
     "text": [
      "Running sql: use project_bde67d4d2ef6dcfc_featurestore\n",
      "Running sql: SELECT team_budget, average_attendance FROM teams_features_1 JOIN attendances_features_1 ON teams_features_1.`team_id`=attendances_features_1.`team_id`"
     ]
    }
   ],
   "source": [
    "spark_df = featurestore.get_features([\"team_budget\", \"average_attendance\"], \n",
    "                                      dataframe_type=\"spark\")\n",
    "assert spark_df.count() == 50\n",
    "assert isinstance(spark_df, DataFrame)"
   ]
  },
  {
   "cell_type": "code",
   "execution_count": 51,
   "metadata": {},
   "outputs": [
    {
     "name": "stdout",
     "output_type": "stream",
     "text": [
      "Running sql: use project_bde67d4d2ef6dcfc_featurestore\n",
      "Feature group created successfully"
     ]
    }
   ],
   "source": [
    "# Let's rename the columns to differentiate this feature group from existing ones in the feature store\n",
    "pandas_df.columns = [\"team_budget_test\", \"average_attendance_test\"]\n",
    "\n",
    "featurestore.create_featuregroup(\n",
    "    pandas_df,\n",
    "    \"pandas_test_example\",\n",
    "    description=\"test featuregroup created from pandas dataframe\",\n",
    "    descriptive_statistics=False,\n",
    "    feature_correlation=False,\n",
    "    feature_histograms=False,\n",
    "    cluster_analysis=False\n",
    ")\n",
    "assert \"pandas_test_example_1\" in featurestore.get_featuregroups()"
   ]
  },
  {
   "cell_type": "code",
   "execution_count": 52,
   "metadata": {},
   "outputs": [
    {
     "name": "stdout",
     "output_type": "stream",
     "text": [
      "Running sql: use project_bde67d4d2ef6dcfc_featurestore\n",
      "Running sql: SELECT * FROM pandas_test_example_1\n",
      "Running sql: use project_bde67d4d2ef6dcfc_featurestore\n",
      "Running sql: use project_bde67d4d2ef6dcfc_featurestore\n",
      "Running sql: SELECT * FROM pandas_test_example_1"
     ]
    }
   ],
   "source": [
    "count_pre_pandas_insert_overwrite = featurestore.get_featuregroup(\"pandas_test_example\").count()\n",
    "featurestore.insert_into_featuregroup(\n",
    "    pandas_df, \n",
    "    \"pandas_test_example\",\n",
    "    descriptive_statistics=False, \n",
    "    feature_correlation=False,\n",
    "    feature_histograms=False,\n",
    "    cluster_analysis=False,\n",
    "    mode=\"overwrite\")\n",
    "count_after_pandas_insert_overwrite = featurestore.get_featuregroup(\"pandas_test_example\").count()\n",
    "assert count_pre_pandas_insert_overwrite == count_after_pandas_insert_overwrite"
   ]
  },
  {
   "cell_type": "code",
   "execution_count": 53,
   "metadata": {},
   "outputs": [
    {
     "name": "stdout",
     "output_type": "stream",
     "text": [
      "Running sql: use project_bde67d4d2ef6dcfc_featurestore\n",
      "Feature group created successfully"
     ]
    }
   ],
   "source": [
    "featurestore.create_featuregroup(\n",
    "    numpy_df,\n",
    "    \"numpy_test_example\",\n",
    "    description=\"test featuregroup created from numpy matrix\",\n",
    "    descriptive_statistics=False,\n",
    "    feature_correlation=False,\n",
    "    feature_histograms=False,\n",
    "    cluster_analysis=False\n",
    ")\n",
    "assert \"numpy_test_example_1\" in featurestore.get_featuregroups()"
   ]
  },
  {
   "cell_type": "code",
   "execution_count": 54,
   "metadata": {},
   "outputs": [
    {
     "name": "stdout",
     "output_type": "stream",
     "text": [
      "Running sql: use project_bde67d4d2ef6dcfc_featurestore\n",
      "Running sql: SELECT * FROM numpy_test_example_1\n",
      "Running sql: use project_bde67d4d2ef6dcfc_featurestore\n",
      "Running sql: use project_bde67d4d2ef6dcfc_featurestore\n",
      "Running sql: SELECT * FROM numpy_test_example_1"
     ]
    }
   ],
   "source": [
    "numpy_test_df_count_pre_insert_overwrite = featurestore.get_featuregroup(\"numpy_test_example\", dataframe_type=\"spark\").count()\n",
    "featurestore.insert_into_featuregroup(\n",
    "    numpy_df, \n",
    "    \"numpy_test_example\",\n",
    "    descriptive_statistics=False, \n",
    "    feature_correlation=False,\n",
    "    feature_histograms=False,\n",
    "    cluster_analysis=False,\n",
    "    mode=\"overwrite\")\n",
    "numpy_test_df_count_after_insert_overwrite = featurestore.get_featuregroup(\"numpy_test_example\", dataframe_type=\"spark\").count()\n",
    "assert numpy_test_df_count_pre_insert_overwrite == numpy_test_df_count_pre_insert_overwrite"
   ]
  },
  {
   "cell_type": "code",
   "execution_count": 55,
   "metadata": {},
   "outputs": [
    {
     "name": "stdout",
     "output_type": "stream",
     "text": [
      "Running sql: use project_bde67d4d2ef6dcfc_featurestore\n",
      "Feature group created successfully\n",
      "Running sql: use project_bde67d4d2ef6dcfc_featurestore\n",
      "Running sql: SELECT * FROM python_test_example_1"
     ]
    }
   ],
   "source": [
    "featurestore.create_featuregroup(\n",
    "    python_df,\n",
    "    \"python_test_example\",\n",
    "    description=\"test featuregroup created from python 2D list\",\n",
    "    descriptive_statistics=False,\n",
    "    feature_correlation=False,\n",
    "    feature_histograms=False,\n",
    "    cluster_analysis=False\n",
    ")\n",
    "\n",
    "python_test_df_count_pre_insert_overwrite = featurestore.get_featuregroup(\"python_test_example\", dataframe_type=\"spark\").count()\n",
    "assert \"python_test_example_1\" in featurestore.get_featuregroups()"
   ]
  },
  {
   "cell_type": "code",
   "execution_count": 56,
   "metadata": {},
   "outputs": [
    {
     "name": "stdout",
     "output_type": "stream",
     "text": [
      "Running sql: use project_bde67d4d2ef6dcfc_featurestore\n",
      "Running sql: use project_bde67d4d2ef6dcfc_featurestore\n",
      "Running sql: SELECT * FROM python_test_example_1"
     ]
    }
   ],
   "source": [
    "featurestore.insert_into_featuregroup(\n",
    "    python_df, \n",
    "    \"python_test_example\",\n",
    "    descriptive_statistics=False, \n",
    "    feature_correlation=False,\n",
    "    feature_histograms=False,\n",
    "    cluster_analysis=False,\n",
    "    mode=\"overwrite\")\n",
    "\n",
    "python_test_df_count_after_insert_overwrite = featurestore.get_featuregroup(\"python_test_example\", dataframe_type=\"spark\").count()\n",
    "assert python_test_df_count_pre_insert_overwrite == python_test_df_count_after_insert_overwrite"
   ]
  },
  {
   "cell_type": "markdown",
   "metadata": {},
   "source": [
    "##### Test update Feature Store Statistics `featurestore.update_featuregroup_stats()`"
   ]
  },
  {
   "cell_type": "code",
   "execution_count": 57,
   "metadata": {},
   "outputs": [
    {
     "name": "stdout",
     "output_type": "stream",
     "text": [
      "Running sql: use project_bde67d4d2ef6dcfc_featurestore\n",
      "Running sql: SELECT * FROM teams_features_1\n",
      "computing descriptive statistics for : teams_features\n",
      "computing feature correlation for: teams_features\n",
      "computing feature histograms for: teams_features\n",
      "computing cluster analysis for: teams_features"
     ]
    }
   ],
   "source": [
    "featurestore.update_featuregroup_stats(\"teams_features\")"
   ]
  },
  {
   "cell_type": "code",
   "execution_count": 58,
   "metadata": {},
   "outputs": [
    {
     "name": "stdout",
     "output_type": "stream",
     "text": [
      "Running sql: use project_bde67d4d2ef6dcfc_featurestore\n",
      "Running sql: SELECT * FROM teams_features_1\n",
      "computing descriptive statistics for : teams_features\n",
      "computing feature correlation for: teams_features\n",
      "computing feature histograms for: teams_features\n",
      "computing cluster analysis for: teams_features"
     ]
    }
   ],
   "source": [
    "featurestore.update_featuregroup_stats(\n",
    "    \"teams_features\", \n",
    "    featuregroup_version=1, \n",
    "    featurestore=featurestore.project_featurestore(), \n",
    "    descriptive_statistics=True,\n",
    "    feature_correlation=True, \n",
    "    feature_histograms=True,\n",
    "    cluster_analysis=True,\n",
    "    stat_columns=None)"
   ]
  },
  {
   "cell_type": "markdown",
   "metadata": {},
   "source": [
    "##### Test Write Training Dataset Operations \n",
    "\n",
    "- `featurestore.get_latest_training_dataset_version()`\n",
    "- `create_training_dataset()`"
   ]
  },
  {
   "cell_type": "code",
   "execution_count": 59,
   "metadata": {},
   "outputs": [
    {
     "name": "stdout",
     "output_type": "stream",
     "text": [
      "Running sql: use project_bde67d4d2ef6dcfc_featurestore\n",
      "Running sql: SELECT team_budget, average_attendance, team_position FROM teams_features_1 JOIN attendances_features_1 ON teams_features_1.`team_id`=attendances_features_1.`team_id`"
     ]
    }
   ],
   "source": [
    "features_df = featurestore.get_features(\n",
    "    [\"team_budget\", \"average_attendance\",\n",
    "    \"team_position\"]\n",
    ")\n",
    "latest_version = featurestore.get_latest_training_dataset_version(\"team_position_prediction\")"
   ]
  },
  {
   "cell_type": "code",
   "execution_count": 60,
   "metadata": {},
   "outputs": [
    {
     "name": "stdout",
     "output_type": "stream",
     "text": [
      "Training Dataset created successfully"
     ]
    }
   ],
   "source": [
    "featurestore.create_training_dataset(\n",
    "    features_df, \"team_position_prediction\",\n",
    "    descriptive_statistics=False,\n",
    "    feature_correlation=False,\n",
    "    feature_histograms=False,\n",
    "    cluster_analysis=False,\n",
    "    training_dataset_version = 1\n",
    ")"
   ]
  },
  {
   "cell_type": "code",
   "execution_count": 61,
   "metadata": {},
   "outputs": [
    {
     "name": "stdout",
     "output_type": "stream",
     "text": [
      "Training Dataset created successfully"
     ]
    }
   ],
   "source": [
    "featurestore.create_training_dataset(\n",
    "    features_df, \"team_position_prediction_csv\",\n",
    "    description=\"a dataset with features for football teams, used for training a model to predict league-position\",\n",
    "    featurestore=featurestore.project_featurestore(),\n",
    "    data_format=\"csv\",\n",
    "    training_dataset_version= 1,\n",
    "    job_name=None,\n",
    "    dependencies=[],\n",
    "    descriptive_statistics=False,\n",
    "    feature_correlation=False,\n",
    "    feature_histograms=False,\n",
    "    cluster_analysis=False,\n",
    "    stat_columns=None)"
   ]
  },
  {
   "cell_type": "code",
   "execution_count": 62,
   "metadata": {},
   "outputs": [
    {
     "name": "stdout",
     "output_type": "stream",
     "text": [
      "Training Dataset created successfully"
     ]
    }
   ],
   "source": [
    "featurestore.create_training_dataset(\n",
    "    features_df, \"team_position_prediction_tsv\",\n",
    "    description=\"a dataset with features for football teams, used for training a model to predict league-position\",\n",
    "    featurestore=featurestore.project_featurestore(),\n",
    "    data_format=\"tsv\",\n",
    "    training_dataset_version=1,\n",
    "    job_name=None,\n",
    "    dependencies=[],\n",
    "    descriptive_statistics=False,\n",
    "    feature_correlation=False,\n",
    "    feature_histograms=False,\n",
    "    cluster_analysis=False,\n",
    "    stat_columns=None)"
   ]
  },
  {
   "cell_type": "code",
   "execution_count": 63,
   "metadata": {},
   "outputs": [
    {
     "name": "stdout",
     "output_type": "stream",
     "text": [
      "Training Dataset created successfully"
     ]
    }
   ],
   "source": [
    "featurestore.create_training_dataset(\n",
    "    features_df, \"team_position_prediction_parquet\",\n",
    "    description=\"a dataset with features for football teams, used for training a model to predict league-position\",\n",
    "    featurestore=featurestore.project_featurestore(),\n",
    "    data_format=\"parquet\",\n",
    "    training_dataset_version=1,\n",
    "    job_name=None,\n",
    "    dependencies=[],\n",
    "    descriptive_statistics=False,\n",
    "    feature_correlation=False,\n",
    "    feature_histograms=False,\n",
    "    cluster_analysis=False,\n",
    "    stat_columns=None)"
   ]
  },
  {
   "cell_type": "code",
   "execution_count": 64,
   "metadata": {},
   "outputs": [
    {
     "name": "stdout",
     "output_type": "stream",
     "text": [
      "Training Dataset created successfully"
     ]
    }
   ],
   "source": [
    "featurestore.create_training_dataset(\n",
    "    features_df, \"team_position_prediction_orc\",\n",
    "    description=\"a dataset with features for football teams, used for training a model to predict league-position\",\n",
    "    featurestore=featurestore.project_featurestore(),\n",
    "    data_format=\"orc\",\n",
    "    training_dataset_version=1,\n",
    "    job_name=None,\n",
    "    dependencies=[],\n",
    "    descriptive_statistics=False,\n",
    "    feature_correlation=False,\n",
    "    feature_histograms=False,\n",
    "    cluster_analysis=False,\n",
    "    stat_columns=None)"
   ]
  },
  {
   "cell_type": "code",
   "execution_count": 65,
   "metadata": {},
   "outputs": [
    {
     "name": "stdout",
     "output_type": "stream",
     "text": [
      "Training Dataset created successfully"
     ]
    }
   ],
   "source": [
    "featurestore.create_training_dataset(\n",
    "    features_df, \"team_position_prediction_avro\",\n",
    "    description=\"a dataset with features for football teams, used for training a model to predict league-position\",\n",
    "    featurestore=featurestore.project_featurestore(),\n",
    "    data_format=\"avro\",\n",
    "    training_dataset_version=1,\n",
    "    job_name=None,\n",
    "    dependencies=[],\n",
    "    descriptive_statistics=False,\n",
    "    feature_correlation=False,\n",
    "    feature_histograms=False,\n",
    "    cluster_analysis=False,\n",
    "    stat_columns=None)"
   ]
  },
  {
   "cell_type": "code",
   "execution_count": 66,
   "metadata": {},
   "outputs": [
    {
     "name": "stdout",
     "output_type": "stream",
     "text": [
      "Training Dataset created successfully"
     ]
    }
   ],
   "source": [
    "featurestore.create_training_dataset(\n",
    "    features_df, \"team_position_prediction_hdf5\",\n",
    "    description=\"a dataset with features for football teams, used for training a model to predict league-position\",\n",
    "    featurestore=featurestore.project_featurestore(),\n",
    "    data_format=\"hdf5\",\n",
    "    training_dataset_version=1,\n",
    "    job_name=None,\n",
    "    dependencies=[],\n",
    "    descriptive_statistics=False,\n",
    "    feature_correlation=False,\n",
    "    feature_histograms=False,\n",
    "    cluster_analysis=False,\n",
    "    stat_columns=None)"
   ]
  },
  {
   "cell_type": "code",
   "execution_count": 67,
   "metadata": {},
   "outputs": [
    {
     "name": "stdout",
     "output_type": "stream",
     "text": [
      "Training Dataset created successfully"
     ]
    }
   ],
   "source": [
    "featurestore.create_training_dataset(\n",
    "    features_df, \"team_position_prediction_npy\",\n",
    "    description=\"a dataset with features for football teams, used for training a model to predict league-position\",\n",
    "    featurestore=featurestore.project_featurestore(),\n",
    "    data_format=\"npy\",\n",
    "    training_dataset_version=1,\n",
    "    job_name=None,\n",
    "    dependencies=[],\n",
    "    descriptive_statistics=False,\n",
    "    feature_correlation=False,\n",
    "    feature_histograms=False,\n",
    "    cluster_analysis=False,\n",
    "    stat_columns=None)"
   ]
  },
  {
   "cell_type": "code",
   "execution_count": 68,
   "metadata": {},
   "outputs": [
    {
     "name": "stdout",
     "output_type": "stream",
     "text": [
      "Petastorm is only supported in python 3"
     ]
    }
   ],
   "source": [
    "# Petastorm is only supported in python 3\n",
    "if sys.version_info[0] >= 3:\n",
    "    PetastormSchema = Unischema('team_position_prediction_petastorm_schema', [\n",
    "        UnischemaField('team_budget', np.float32, (), ScalarCodec(FloatType()), False),\n",
    "        UnischemaField('average_attendance', np.float32, (), ScalarCodec(FloatType()), False),\n",
    "        UnischemaField('team_position', np.int32, (), ScalarCodec(IntegerType()), False)\n",
    "    ])\n",
    "\n",
    "    petastorm_args = {\n",
    "        \"schema\": PetastormSchema\n",
    "    }\n",
    "\n",
    "    featurestore.create_training_dataset(\n",
    "        features_df, \"team_position_prediction_petastorm\",\n",
    "        description=\"a dataset with features for football teams, used for training a model to predict league-position\",\n",
    "        featurestore=featurestore.project_featurestore(),\n",
    "        data_format=\"petastorm\",\n",
    "        training_dataset_version=1,\n",
    "        job_name=None,\n",
    "        dependencies=[],\n",
    "        descriptive_statistics=False,\n",
    "        feature_correlation=False,\n",
    "        feature_histograms=False,\n",
    "        cluster_analysis=False,\n",
    "        stat_columns=None,\n",
    "        petastorm_args=petastorm_args\n",
    "    )"
   ]
  },
  {
   "cell_type": "code",
   "execution_count": 3,
   "metadata": {},
   "outputs": [],
   "source": [
    "tds = featurestore.get_training_datasets()\n",
    "assert 'team_position_prediction_1' in tds\n",
    "assert 'team_position_prediction_csv_1' in tds\n",
    "assert 'team_position_prediction_tsv_1' in tds\n",
    "assert 'team_position_prediction_parquet_1' in tds\n",
    "assert 'team_position_prediction_orc_1' in tds\n",
    "assert 'team_position_prediction_avro_1' in tds\n",
    "assert 'team_position_prediction_hdf5_1'in tds\n",
    "assert 'team_position_prediction_npy_1' in tds\n",
    "if sys.version_info[0] >= 3:\n",
    "    assert 'team_position_prediction_petastorm_1' in tds"
   ]
  },
  {
   "cell_type": "markdown",
   "metadata": {},
   "source": [
    "##### Test Insert into an existing training dataset, `featurestore.insert_into_training_dataset()`"
   ]
  },
  {
   "cell_type": "code",
   "execution_count": 74,
   "metadata": {},
   "outputs": [],
   "source": [
    "count_pre_insert = featurestore.get_training_dataset(\"team_position_prediction_csv\").count()\n",
    "featurestore.insert_into_training_dataset(\n",
    "    features_df, \n",
    "    \"team_position_prediction_csv\",\n",
    "    descriptive_statistics=False,\n",
    "    feature_correlation=False,\n",
    "    feature_histograms=False,\n",
    "    cluster_analysis=False,\n",
    "    training_dataset_version=featurestore.get_latest_training_dataset_version(\"team_position_prediction_csv\")\n",
    ")\n",
    "count_after_insert = featurestore.get_training_dataset(\"team_position_prediction_csv\").count()\n",
    "assert count_pre_insert == count_after_insert # td only support overwrites"
   ]
  },
  {
   "cell_type": "markdown",
   "metadata": {},
   "source": [
    "##### Test Training Dataset Utility Methods\n",
    "\n",
    "- `featurestore.get_training_dataset_path()`\n",
    "- `featurestore.get_training_dataset_tf_record_schema`"
   ]
  },
  {
   "cell_type": "code",
   "execution_count": 75,
   "metadata": {},
   "outputs": [],
   "source": [
    "assert hdfs.project_path() in featurestore.get_training_dataset_path(\"team_position_prediction_csv\")"
   ]
  },
  {
   "cell_type": "code",
   "execution_count": 76,
   "metadata": {},
   "outputs": [],
   "source": [
    "assert hdfs.project_name() + \"_Training_Datasets\" in featurestore.get_training_dataset_path(\"team_position_prediction_csv\")"
   ]
  },
  {
   "cell_type": "code",
   "execution_count": 77,
   "metadata": {},
   "outputs": [],
   "source": [
    "assert \"team_position_prediction_csv\" in featurestore.get_training_dataset_path(\"team_position_prediction_csv\")"
   ]
  },
  {
   "cell_type": "code",
   "execution_count": 78,
   "metadata": {},
   "outputs": [],
   "source": [
    "tf_schema = featurestore.get_training_dataset_tf_record_schema(\"team_position_prediction\")\n",
    "assert tf_schema == {'team_budget': tf.FixedLenFeature(shape=[], dtype=tf.float32, default_value=None), \n",
    "                     'average_attendance': tf.FixedLenFeature(shape=[], dtype=tf.float32, default_value=None), \n",
    "                     'team_position': tf.FixedLenFeature(shape=[], dtype=tf.int64, default_value=None)}"
   ]
  },
  {
   "cell_type": "code",
   "execution_count": 79,
   "metadata": {},
   "outputs": [],
   "source": [
    "features_df = featurestore.get_training_dataset(\"team_position_prediction\")\n",
    "tf_schema = featurestore.get_dataframe_tf_record_schema(features_df)\n",
    "assert tf_schema == {'team_budget': tf.FixedLenFeature(shape=[], dtype=tf.float32, default_value=None), \n",
    "                     'average_attendance': tf.FixedLenFeature(shape=[], dtype=tf.float32, default_value=None), \n",
    "                     'team_position': tf.FixedLenFeature(shape=[], dtype=tf.int64, default_value=None)}"
   ]
  },
  {
   "cell_type": "markdown",
   "metadata": {},
   "source": [
    "##### Test update Training Dataset stats\n",
    "\n",
    "- `featurestore.update_training_dataset_stats()`"
   ]
  },
  {
   "cell_type": "code",
   "execution_count": 80,
   "metadata": {},
   "outputs": [
    {
     "name": "stdout",
     "output_type": "stream",
     "text": [
      "computing descriptive statistics for : team_position_prediction\n",
      "computing feature correlation for: team_position_prediction\n",
      "computing feature histograms for: team_position_prediction\n",
      "computing cluster analysis for: team_position_prediction"
     ]
    }
   ],
   "source": [
    "featurestore.update_training_dataset_stats(\"team_position_prediction\")"
   ]
  },
  {
   "cell_type": "code",
   "execution_count": 81,
   "metadata": {},
   "outputs": [
    {
     "name": "stdout",
     "output_type": "stream",
     "text": [
      "computing descriptive statistics for : team_position_prediction\n",
      "computing feature correlation for: team_position_prediction\n",
      "computing feature histograms for: team_position_prediction\n",
      "computing cluster analysis for: team_position_prediction"
     ]
    }
   ],
   "source": [
    "featurestore.update_training_dataset_stats(\n",
    "    \"team_position_prediction\", \n",
    "    training_dataset_version=1, \n",
    "    featurestore=featurestore.project_featurestore(), \n",
    "    descriptive_statistics=True,\n",
    "    feature_correlation=True, \n",
    "    feature_histograms=True,\n",
    "    cluster_analysis=True,\n",
    "    stat_columns=None)"
   ]
  },
  {
   "cell_type": "markdown",
   "metadata": {},
   "source": [
    "##### Test Read Training Datasets API `featurestore.get_training_dataset()`"
   ]
  },
  {
   "cell_type": "code",
   "execution_count": 82,
   "metadata": {},
   "outputs": [],
   "source": [
    "cols = ['team_budget', 'average_attendance', 'team_position']\n",
    "tmp = featurestore.get_training_dataset(\"team_position_prediction_csv\")\n",
    "assert set(tmp.columns) == set(cols)\n",
    "assert tmp.count() == 50"
   ]
  },
  {
   "cell_type": "code",
   "execution_count": 83,
   "metadata": {},
   "outputs": [],
   "source": [
    "tmp = featurestore.get_training_dataset(\"team_position_prediction_hdf5\")\n",
    "assert tmp.count() == 50"
   ]
  },
  {
   "cell_type": "code",
   "execution_count": 90,
   "metadata": {},
   "outputs": [],
   "source": [
    "if sys.version_info[0] >= 3:\n",
    "    tmp = featurestore.get_training_dataset(\"team_position_prediction_petastorm\")\n",
    "    assert set(tmp.columns) == set(cols)\n",
    "    assert tmp.count() == 50"
   ]
  },
  {
   "cell_type": "code",
   "execution_count": 91,
   "metadata": {},
   "outputs": [],
   "source": [
    "tmp = featurestore.get_training_dataset(\"team_position_prediction_avro\")\n",
    "assert set(tmp.columns) == set(cols)\n",
    "assert tmp.count() == 50"
   ]
  },
  {
   "cell_type": "code",
   "execution_count": 92,
   "metadata": {},
   "outputs": [],
   "source": [
    "tmp = featurestore.get_training_dataset(\"team_position_prediction_orc\")\n",
    "assert set(tmp.columns) == set(cols)\n",
    "assert tmp.count() == 50"
   ]
  },
  {
   "cell_type": "code",
   "execution_count": 93,
   "metadata": {},
   "outputs": [],
   "source": [
    "tmp = featurestore.get_training_dataset(\"team_position_prediction_tsv\")\n",
    "assert set(tmp.columns) == set(cols)\n",
    "assert tmp.count() == 50"
   ]
  },
  {
   "cell_type": "code",
   "execution_count": 94,
   "metadata": {},
   "outputs": [],
   "source": [
    "tmp = featurestore.get_training_dataset(\"team_position_prediction_npy\")\n",
    "assert tmp.count() == 50"
   ]
  },
  {
   "cell_type": "code",
   "execution_count": 95,
   "metadata": {},
   "outputs": [],
   "source": [
    "tmp = featurestore.get_training_dataset(\"team_position_prediction_parquet\")\n",
    "assert set(tmp.columns) == set(cols)\n",
    "assert tmp.count() == 50"
   ]
  },
  {
   "cell_type": "markdown",
   "metadata": {},
   "source": [
    "##### Cleanup (Delete FS Contents so that next test run works the same)"
   ]
  },
  {
   "cell_type": "code",
   "execution_count": 20,
   "metadata": {},
   "outputs": [
    {
     "name": "stdout",
     "output_type": "stream",
     "text": [
      "DataFrame[]\n",
      "DataFrame[]\n",
      "DataFrame[]\n",
      "DataFrame[]\n",
      "DataFrame[]\n",
      "DataFrame[]\n",
      "DataFrame[]\n",
      "DataFrame[]\n",
      "DataFrame[]"
     ]
    }
   ],
   "source": [
    "# Delete feature groups\n",
    "spark.sql('use ' + featurestore.project_featurestore())\n",
    "for fg in featurestore.get_featuregroups():\n",
    "    spark.sql(\"drop table \" + fg)"
   ]
  },
  {
   "cell_type": "code",
   "execution_count": 21,
   "metadata": {},
   "outputs": [],
   "source": [
    "# Delete training datasets\n",
    "td_dir = hdfs.project_name() + \"_Training_Datasets/\"\n",
    "for td in featurestore.get_training_datasets():\n",
    "    hdfs.rmr(td_dir + td)"
   ]
  },
  {
   "cell_type": "code",
   "execution_count": 27,
   "metadata": {},
   "outputs": [],
   "source": [
    "featurestore.get_featurestore_metadata(update_cache=True)\n",
    "assert featurestore.get_featuregroups() == []\n",
    "assert featurestore.get_training_datasets() == []"
   ]
  },
  {
   "cell_type": "markdown",
   "metadata": {},
   "source": [
    "## Kafka Tests"
   ]
  },
  {
   "cell_type": "markdown",
   "metadata": {},
   "source": [
    "##### Test default config \n",
    "\n",
    "- `kafka.get_default_config()`, \n",
    "- `kafka.get_security_protocol()`,\n",
    "- `kafka.get_broker_endpoints_list()`"
   ]
  },
  {
   "cell_type": "code",
   "execution_count": 96,
   "metadata": {},
   "outputs": [],
   "source": [
    "config = kafka.get_kafka_default_config()\n",
    "assert \"bootstrap.servers\" in config\n",
    "assert \"security.protocol\" in config\n",
    "assert \"ssl.ca.location\" in config\n",
    "assert \"ssl.key.location\" in config\n",
    "assert \"ssl.certificate.location\" in config"
   ]
  },
  {
   "cell_type": "code",
   "execution_count": 97,
   "metadata": {},
   "outputs": [],
   "source": [
    "assert len(kafka.get_security_protocol()) > 0\n",
    "assert len(kafka.get_broker_endpoints_list()) > 0"
   ]
  },
  {
   "cell_type": "markdown",
   "metadata": {},
   "source": [
    "## TLS Tests"
   ]
  },
  {
   "cell_type": "markdown",
   "metadata": {},
   "source": [
    "##### Test access to TLS tokens\n",
    "\n",
    "- `tls.get_key_store()`\n",
    "- `tls.get_trust_store()`\n",
    "- `tls.get_key_store_pwd()`\n",
    "- `tls.get_trust_store_pwd()`\n",
    "- `tls.get_client_certificate_location()`\n",
    "- `tls.get_client_key_location()`\n",
    "- `tls.get_ca_chain_location()`"
   ]
  },
  {
   "cell_type": "code",
   "execution_count": 98,
   "metadata": {},
   "outputs": [],
   "source": [
    "assert len(tls.get_key_store()) > 0\n",
    "assert len(tls.get_trust_store()) > 0\n",
    "assert len(tls.get_key_store_pwd()) > 0\n",
    "assert len(tls.get_trust_store_pwd()) > 0\n",
    "assert len(tls.get_client_certificate_location()) > 0\n",
    "assert len(tls.get_client_key_location()) > 0\n",
    "assert len(tls.get_ca_chain_location()) > 0"
   ]
  },
  {
   "cell_type": "code",
   "execution_count": null,
   "metadata": {},
   "outputs": [],
   "source": []
  }
 ],
 "metadata": {
  "kernelspec": {
   "display_name": "PySpark",
   "language": "",
   "name": "pysparkkernel"
  },
  "language_info": {
   "codemirror_mode": {
    "name": "python",
    "version": 2
   },
   "mimetype": "text/x-python",
   "name": "pyspark",
   "pygments_lexer": "python2"
  }
 },
 "nbformat": 4,
 "nbformat_minor": 2
}