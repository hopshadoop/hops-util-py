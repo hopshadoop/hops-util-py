{
 "cells": [
  {
   "cell_type": "markdown",
   "metadata": {},
   "source": [
    "# `hops-util-py` Integration Tests\n",
    "\n",
    "This notebook can be converted to a python file and submitted as a spark job for integration tests"
   ]
  },
  {
   "cell_type": "markdown",
   "metadata": {},
   "source": [
    "## Imports"
   ]
  },
  {
   "cell_type": "code",
   "execution_count": 176,
   "metadata": {},
   "outputs": [],
   "source": [
    "from hops import experiment, hdfs, tensorboard, devices, kafka, featurestore, tls\n",
    "import stat\n",
    "import os\n",
    "from pyspark.sql import SQLContext\n",
    "from pyspark.sql.types import StructType, StructField, StringType, TimestampType, LongType, IntegerType, FloatType\n",
    "import pandas as pd\n",
    "import numpy as np\n",
    "import datetime\n",
    "import time\n",
    "from pyspark.sql import DataFrame\n",
    "from petastorm.unischema import dict_to_spark_row, Unischema, UnischemaField\n",
    "from petastorm.codecs import ScalarCodec, CompressedImageCodec, NdarrayCodec\n",
    "from pyspark.sql.types import StructType, StructField, IntegerType, FloatType\n",
    "import tensorflow as tf\n",
    "import sys"
   ]
  },
  {
   "cell_type": "markdown",
   "metadata": {},
   "source": [
    "## Experiments Tests"
   ]
  },
  {
   "cell_type": "markdown",
   "metadata": {},
   "source": [
    "##### Test Custom Experiments\n",
    "\n",
    "- `experiment.begin()`\n",
    "- `experiment.end()`"
   ]
  },
  {
   "cell_type": "code",
   "execution_count": 50,
   "metadata": {},
   "outputs": [],
   "source": [
    "experiment.begin(name='some custom thing 1', local_logdir=False)\n",
    "assert tensorboard.logdir() != None\n",
    "pi = 1+3+0.14\n",
    "experiment.end(pi)"
   ]
  },
  {
   "cell_type": "code",
   "execution_count": 51,
   "metadata": {},
   "outputs": [],
   "source": [
    "experiment.begin(name='some custom thing 2', local_logdir=True, description='i am making custom exp on hops')\n",
    "assert tensorboard.logdir() != None\n",
    "pi = 1337\n",
    "experiment.end(pi)"
   ]
  },
  {
   "cell_type": "markdown",
   "metadata": {},
   "source": [
    "##### Test `experiment.launch`"
   ]
  },
  {
   "cell_type": "code",
   "execution_count": 52,
   "metadata": {},
   "outputs": [],
   "source": [
    "def wrapper():\n",
    "    assert tensorboard.logdir() != None\n",
    "    assert devices.get_num_gpus() >= 0\n",
    "    assert hdfs.project_path() == hdfs.project_path(hdfs.project_name())"
   ]
  },
  {
   "cell_type": "code",
   "execution_count": 53,
   "metadata": {},
   "outputs": [
    {
     "name": "stdout",
     "output_type": "stream",
     "text": [
      "Finished Experiment \n",
      "\n",
      "'hdfs://10.0.2.15:8020/Projects/demo_featurestore_admin000/Experiments/application_1551827646377_0002/launcher/run.22'"
     ]
    }
   ],
   "source": [
    "experiment.launch(wrapper)"
   ]
  },
  {
   "cell_type": "code",
   "execution_count": 54,
   "metadata": {},
   "outputs": [
    {
     "name": "stdout",
     "output_type": "stream",
     "text": [
      "Finished Experiment \n",
      "\n",
      "'hdfs://10.0.2.15:8020/Projects/demo_featurestore_admin000/Experiments/application_1551827646377_0002/launcher/run.23'"
     ]
    }
   ],
   "source": [
    "experiment.launch(wrapper, name='simple exp')"
   ]
  },
  {
   "cell_type": "code",
   "execution_count": 55,
   "metadata": {},
   "outputs": [
    {
     "name": "stdout",
     "output_type": "stream",
     "text": [
      "Finished Experiment \n",
      "\n",
      "'hdfs://10.0.2.15:8020/Projects/demo_featurestore_admin000/Experiments/application_1551827646377_0002/launcher/run.24'"
     ]
    }
   ],
   "source": [
    "experiment.launch(wrapper, local_logdir=True)"
   ]
  },
  {
   "cell_type": "code",
   "execution_count": 56,
   "metadata": {},
   "outputs": [
    {
     "name": "stdout",
     "output_type": "stream",
     "text": [
      "Finished Experiment \n",
      "\n",
      "'hdfs://10.0.2.15:8020/Projects/demo_featurestore_admin000/Experiments/application_1551827646377_0002/launcher/run.25'"
     ]
    }
   ],
   "source": [
    "experiment.launch(wrapper, description='very interesting description', local_logdir=False)"
   ]
  },
  {
   "cell_type": "code",
   "execution_count": 57,
   "metadata": {},
   "outputs": [],
   "source": [
    "def parameter_wrapper(a, b):\n",
    "    assert tensorboard.logdir() != None\n",
    "    assert devices.get_num_gpus() >= 0\n",
    "    return a + b\n",
    "\n",
    "args_dict = {'a': [1,5], 'b': [-3,2]}"
   ]
  },
  {
   "cell_type": "code",
   "execution_count": 58,
   "metadata": {},
   "outputs": [
    {
     "name": "stdout",
     "output_type": "stream",
     "text": [
      "Finished Experiment \n",
      "\n",
      "'hdfs://10.0.2.15:8020/Projects/demo_featurestore_admin000/Experiments/application_1551827646377_0002/launcher/run.26'"
     ]
    }
   ],
   "source": [
    "experiment.launch(parameter_wrapper, args_dict)"
   ]
  },
  {
   "cell_type": "code",
   "execution_count": 59,
   "metadata": {},
   "outputs": [
    {
     "name": "stdout",
     "output_type": "stream",
     "text": [
      "Finished Experiment \n",
      "\n",
      "'hdfs://10.0.2.15:8020/Projects/demo_featurestore_admin000/Experiments/application_1551827646377_0002/launcher/run.27'"
     ]
    }
   ],
   "source": [
    "experiment.launch(parameter_wrapper, args_dict,  name='simple exp')"
   ]
  },
  {
   "cell_type": "code",
   "execution_count": 60,
   "metadata": {},
   "outputs": [
    {
     "name": "stdout",
     "output_type": "stream",
     "text": [
      "Finished Experiment \n",
      "\n",
      "'hdfs://10.0.2.15:8020/Projects/demo_featurestore_admin000/Experiments/application_1551827646377_0002/launcher/run.28'"
     ]
    }
   ],
   "source": [
    "experiment.launch(parameter_wrapper, args_dict, local_logdir=True)"
   ]
  },
  {
   "cell_type": "code",
   "execution_count": 61,
   "metadata": {},
   "outputs": [
    {
     "name": "stdout",
     "output_type": "stream",
     "text": [
      "Finished Experiment \n",
      "\n",
      "'hdfs://10.0.2.15:8020/Projects/demo_featurestore_admin000/Experiments/application_1551827646377_0002/launcher/run.29'"
     ]
    }
   ],
   "source": [
    "experiment.launch(parameter_wrapper, args_dict, description='very interesting description', local_logdir=False)"
   ]
  },
  {
   "cell_type": "markdown",
   "metadata": {},
   "source": [
    "##### Test Parallel Experiments `experiment.grid_search`, `experiment.random_search`, `experiment.differential_evolution`"
   ]
  },
  {
   "cell_type": "code",
   "execution_count": 62,
   "metadata": {},
   "outputs": [
    {
     "name": "stdout",
     "output_type": "stream",
     "text": [
      "\n",
      "------ Grid Search results ------ direction(max) \n",
      "BEST combination a=5.b=2 -- metric 7.0\n",
      "WORST combination a=1.b=-3 -- metric -2.0\n",
      "AVERAGE metric -- 2.5\n",
      "Total job time 13 seconds\n",
      "\n",
      "Finished Experiment \n",
      "\n",
      "'hdfs://10.0.2.15:8020/Projects/demo_featurestore_admin000/Experiments/application_1551827646377_0002/grid_search/run.7'"
     ]
    }
   ],
   "source": [
    "experiment.grid_search(parameter_wrapper, args_dict)"
   ]
  },
  {
   "cell_type": "code",
   "execution_count": 63,
   "metadata": {},
   "outputs": [
    {
     "name": "stdout",
     "output_type": "stream",
     "text": [
      "\n",
      "------ Grid Search results ------ direction(max) \n",
      "BEST combination a=5.b=2 -- metric 7.0\n",
      "WORST combination a=1.b=-3 -- metric -2.0\n",
      "AVERAGE metric -- 2.5\n",
      "Total job time 13 seconds\n",
      "\n",
      "Finished Experiment \n",
      "\n",
      "'hdfs://10.0.2.15:8020/Projects/demo_featurestore_admin000/Experiments/application_1551827646377_0002/grid_search/run.8'"
     ]
    }
   ],
   "source": [
    "experiment.grid_search(parameter_wrapper, args_dict, direction='max', name='test')"
   ]
  },
  {
   "cell_type": "code",
   "execution_count": 64,
   "metadata": {},
   "outputs": [
    {
     "name": "stdout",
     "output_type": "stream",
     "text": [
      "\n",
      "------ Grid Search results ------ direction(max) \n",
      "BEST combination a=5.b=2 -- metric 7.0\n",
      "WORST combination a=1.b=-3 -- metric -2.0\n",
      "AVERAGE metric -- 2.5\n",
      "Total job time 13 seconds\n",
      "\n",
      "Finished Experiment \n",
      "\n",
      "'hdfs://10.0.2.15:8020/Projects/demo_featurestore_admin000/Experiments/application_1551827646377_0002/grid_search/run.9'"
     ]
    }
   ],
   "source": [
    "experiment.grid_search(parameter_wrapper, args_dict, direction='max', name='test', local_logdir=True)"
   ]
  },
  {
   "cell_type": "code",
   "execution_count": 65,
   "metadata": {},
   "outputs": [
    {
     "name": "stdout",
     "output_type": "stream",
     "text": [
      "\n",
      "------ Random Search results ------ direction(max) \n",
      "BEST combination a=5.b=0 -- metric 5.0\n",
      "WORST combination a=3.b=-3 -- metric 0.0\n",
      "AVERAGE metric -- 2.7\n",
      "Total job time 32 seconds\n",
      "\n",
      "Finished Experiment \n",
      "\n",
      "'hdfs://10.0.2.15:8020/Projects/demo_featurestore_admin000/Experiments/application_1551827646377_0002/random_search/run.5'"
     ]
    }
   ],
   "source": [
    "experiment.random_search(parameter_wrapper, args_dict)"
   ]
  },
  {
   "cell_type": "code",
   "execution_count": 66,
   "metadata": {},
   "outputs": [
    {
     "name": "stdout",
     "output_type": "stream",
     "text": [
      "\n",
      "------ Random Search results ------ direction(max) \n",
      "BEST combination a=5.b=1 -- metric 6.0\n",
      "WORST combination a=2.b=-3 -- metric -1.0\n",
      "AVERAGE metric -- 1.875\n",
      "Total job time 26 seconds\n",
      "\n",
      "Finished Experiment \n",
      "\n",
      "'hdfs://10.0.2.15:8020/Projects/demo_featurestore_admin000/Experiments/application_1551827646377_0002/random_search/run.6'"
     ]
    }
   ],
   "source": [
    "experiment.random_search(parameter_wrapper, args_dict, direction='max', name='test')"
   ]
  },
  {
   "cell_type": "code",
   "execution_count": 67,
   "metadata": {},
   "outputs": [
    {
     "name": "stdout",
     "output_type": "stream",
     "text": [
      "\n",
      "------ Random Search results ------ direction(min) \n",
      "BEST combination a=4.b=0 -- metric 4.0\n",
      "WORST combination a=4.b=2 -- metric 6.0\n",
      "AVERAGE metric -- 5.0\n",
      "Total job time 12 seconds\n",
      "\n",
      "Finished Experiment \n",
      "\n",
      "'hdfs://10.0.2.15:8020/Projects/demo_featurestore_admin000/Experiments/application_1551827646377_0002/random_search/run.7'"
     ]
    }
   ],
   "source": [
    "experiment.random_search(parameter_wrapper, args_dict, direction='min', samples=3, name='test', local_logdir=True)"
   ]
  },
  {
   "cell_type": "code",
   "execution_count": 70,
   "metadata": {},
   "outputs": [
    {
     "name": "stdout",
     "output_type": "stream",
     "text": [
      "Generation 0 || average metric: 2.9, best metric: 6.0, best parameter combination: ['a=4', 'b=2']\n",
      "\n",
      "Generation 1 || average metric: 3.9, best metric: 6.0, best parameter combination: ['a=4', 'b=2']\n",
      "\n",
      "Generation 2 || average metric: 4.4, best metric: 7.0, best parameter combination: ['a=5', 'b=2']\n",
      "\n",
      "Generation 3 || average metric: 5.1, best metric: 7.0, best parameter combination: ['a=5', 'b=2']\n",
      "\n",
      "Finished Experiment"
     ]
    }
   ],
   "source": [
    "logdir, result_dict = experiment.differential_evolution(parameter_wrapper, args_dict, generations=3, local_logdir=True, direction='max')\n",
    "assert int(result_dict['a']) == 5 and int(result_dict['b']) == 2"
   ]
  },
  {
   "cell_type": "code",
   "execution_count": 72,
   "metadata": {},
   "outputs": [
    {
     "name": "stdout",
     "output_type": "stream",
     "text": [
      "Generation 0 || average metric: 2.6, best metric: 1.0, best parameter combination: ['a=3', 'b=-2']\n",
      "\n",
      "Generation 1 || average metric: 2.1, best metric: 0.0, best parameter combination: ['a=2', 'b=-2']\n",
      "\n",
      "Generation 2 || average metric: 2.0, best metric: 0.0, best parameter combination: ['a=2', 'b=-2']\n",
      "\n",
      "Generation 3 || average metric: 1.3, best metric: 0.0, best parameter combination: ['a=3', 'b=-3']\n",
      "\n",
      "Generation 4 || average metric: 0.7, best metric: -1.0, best parameter combination: ['a=2', 'b=-3']\n",
      "\n",
      "Generation 5 || average metric: 0.4, best metric: -1.0, best parameter combination: ['a=2', 'b=-3']\n",
      "\n",
      "Generation 6 || average metric: 0.0, best metric: -1.0, best parameter combination: ['a=2', 'b=-3']\n",
      "\n",
      "Generation 7 || average metric: -0.6, best metric: -2.0, best parameter combination: ['a=1', 'b=-3']\n",
      "\n",
      "Generation 8 || average metric: -0.8, best metric: -2.0, best parameter combination: ['a=1', 'b=-3']\n",
      "\n",
      "Generation 9 || average metric: -1.2, best metric: -2.0, best parameter combination: ['a=1', 'b=-3']\n",
      "\n",
      "Generation 10 || average metric: -1.3, best metric: -2.0, best parameter combination: ['a=1', 'b=-3']\n",
      "\n",
      "Finished Experiment"
     ]
    }
   ],
   "source": [
    "logdir, result_dict = experiment.differential_evolution(parameter_wrapper, args_dict, population=10, direction='min')\n",
    "assert int(result_dict['a']) == 1 and int(result_dict['b']) == -3"
   ]
  },
  {
   "cell_type": "code",
   "execution_count": 73,
   "metadata": {},
   "outputs": [
    {
     "name": "stdout",
     "output_type": "stream",
     "text": [
      "Generation 0 || average metric: 3.142857142857143, best metric: 6.0, best parameter combination: ['a=4', 'b=2']\n",
      "\n",
      "Generation 1 || average metric: 4.571428571428571, best metric: 7.0, best parameter combination: ['a=5', 'b=2']\n",
      "\n",
      "Generation 2 || average metric: 4.857142857142857, best metric: 7.0, best parameter combination: ['a=5', 'b=2']\n",
      "\n",
      "Generation 3 || average metric: 5.714285714285714, best metric: 7.0, best parameter combination: ['a=5', 'b=2']\n",
      "\n",
      "Generation 4 || average metric: 6.0, best metric: 7.0, best parameter combination: ['a=5', 'b=2']\n",
      "\n",
      "Generation 5 || average metric: 6.714285714285714, best metric: 7.0, best parameter combination: ['a=5', 'b=2']\n",
      "\n",
      "Finished Experiment"
     ]
    }
   ],
   "source": [
    "logdir, result_dict = experiment.differential_evolution(parameter_wrapper, args_dict, generations=5, population=7)\n",
    "assert int(result_dict['a']) == 5 and int(result_dict['b']) == 2, \"assert 3 -> a=\" + str(result_dict['a']) + \" b=\" + str(result_dict['b'])"
   ]
  },
  {
   "cell_type": "markdown",
   "metadata": {},
   "source": [
    "## HopsFS Tests"
   ]
  },
  {
   "cell_type": "markdown",
   "metadata": {},
   "source": [
    "##### Test HopsFS operations\n",
    "\n",
    "- `hdfs.project_user()`\n",
    "- `hdfs.project_name()`\n",
    "- `hdfs.project_path()`\n",
    "- `hdfs.exists()`\n",
    "- `hdfs.load()`\n",
    "- `hdfs.copy_to_local()`\n",
    "- `hdfs.ls()`\n",
    "- `hdfs.lsl()`\n",
    "- `hdfs.glob()`\n",
    "- `hdfs.cp()`\n",
    "- `hdfs.rmr()`\n",
    "- `hdfs.rename()`\n",
    "- `hdfs.stat()`"
   ]
  },
  {
   "cell_type": "code",
   "execution_count": 74,
   "metadata": {},
   "outputs": [],
   "source": [
    "project_user = hdfs.project_user()\n",
    "project_name = hdfs.project_name()\n",
    "assert project_name in project_user\n",
    "project_path = hdfs.project_path()\n",
    "assert project_name in project_path"
   ]
  },
  {
   "cell_type": "code",
   "execution_count": 75,
   "metadata": {},
   "outputs": [],
   "source": [
    "logs_README = hdfs.load(\"Logs/README.md\")\n",
    "assert len(logs_README) > 0"
   ]
  },
  {
   "cell_type": "code",
   "execution_count": 76,
   "metadata": {},
   "outputs": [],
   "source": [
    "hdfs.dump(\"test\", \"Logs/README_dump_test.md\")\n",
    "assert hdfs.exists(\"Logs/README_dump_test.md\")"
   ]
  },
  {
   "cell_type": "code",
   "execution_count": 77,
   "metadata": {},
   "outputs": [],
   "source": [
    "logs_README_dumped = hdfs.load(\"Logs/README_dump_test.md\")\n",
    "assert logs_README_dumped.decode(\"utf-8\") == \"test\""
   ]
  },
  {
   "cell_type": "code",
   "execution_count": 78,
   "metadata": {},
   "outputs": [],
   "source": [
    "with open('test.txt', 'w') as f:\n",
    "    f.write(\"test\")\n",
    "hdfs.copy_to_hdfs(\"test.txt\", \"Resources/test.txt\", overwrite=True)\n",
    "assert hdfs.exists(\"Resources/test.txt\")"
   ]
  },
  {
   "cell_type": "code",
   "execution_count": 79,
   "metadata": {},
   "outputs": [],
   "source": [
    "hdfs.copy_to_local(\"Resources/test.txt\", \"\", overwrite=True)\n",
    "hdfs_copied_file = hdfs.load(\"Resources/test.txt\")\n",
    "with open('test.txt', 'r') as f:\n",
    "    local_copied_file = f.read()\n",
    "assert hdfs_copied_file.decode(\"utf-8\") == \"test\"\n",
    "assert local_copied_file == \"test\"\n",
    "assert hdfs.ls(\"Logs/\").__class__.__name__ == 'list'"
   ]
  },
  {
   "cell_type": "code",
   "execution_count": 80,
   "metadata": {},
   "outputs": [],
   "source": [
    "logs_files_md = hdfs.glob(\"Logs/*.md\")\n",
    "logs_path_names = hdfs.lsl(\"Logs/\")\n",
    "if hdfs.exists(\"Logs/test.txt\"):\n",
    "    hdfs.rmr(\"Logs/test.txt\")\n",
    "assert not hdfs.exists(\"Logs/test.txt\")"
   ]
  },
  {
   "cell_type": "code",
   "execution_count": 81,
   "metadata": {},
   "outputs": [],
   "source": [
    "hdfs.cp(\"Resources/test.txt\", \"Logs/\")\n",
    "logs_files = hdfs.ls(\"Logs/\")\n",
    "assert \"test.txt\" in \",\".join(logs_files)"
   ]
  },
  {
   "cell_type": "code",
   "execution_count": 82,
   "metadata": {},
   "outputs": [],
   "source": [
    "hdfs.mkdir(\"Logs/test_dir\")\n",
    "assert hdfs.exists(\"Logs/test_dir\")"
   ]
  },
  {
   "cell_type": "code",
   "execution_count": 83,
   "metadata": {},
   "outputs": [],
   "source": [
    "logs_files_prior_delete = hdfs.ls(\"Logs/\")\n",
    "hdfs.rmr(\"Logs/test_dir\")\n",
    "logs_files_after_delete = hdfs.ls(\"Logs/\")\n",
    "assert len(logs_files_prior_delete) > len(logs_files_after_delete)"
   ]
  },
  {
   "cell_type": "code",
   "execution_count": 84,
   "metadata": {},
   "outputs": [],
   "source": [
    "logs_files_prior_move = hdfs.ls(\"Logs/\")\n",
    "assert \"README_dump_test.md\" in \",\".join(logs_files_prior_move)"
   ]
  },
  {
   "cell_type": "code",
   "execution_count": 85,
   "metadata": {},
   "outputs": [],
   "source": [
    "hdfs.move(\"Logs/README_dump_test.md\", \"Logs/README_dump_test2.md\")\n",
    "logs_files_after_move = hdfs.ls(\"Logs/\")\n",
    "assert \"README_dump_test.md\" not in \",\".join(logs_files_after_move)\n",
    "assert \"README_dump_test2.md\" in \",\".join(logs_files_after_move)"
   ]
  },
  {
   "cell_type": "code",
   "execution_count": 86,
   "metadata": {},
   "outputs": [],
   "source": [
    "logs_files_prior_rename = hdfs.ls(\"Logs/\")\n",
    "assert \"README_dump_test2.md\" in \",\".join(logs_files_prior_rename)"
   ]
  },
  {
   "cell_type": "code",
   "execution_count": 87,
   "metadata": {},
   "outputs": [],
   "source": [
    "hdfs.rename(\"Logs/README_dump_test2.md\", \"Logs/README_dump_test.md\")\n",
    "logs_files_after_rename = hdfs.ls(\"Logs/\")\n",
    "assert \"Logs/README_dump_test2.md\" not in \",\".join(logs_files_after_rename)\n",
    "assert \"Logs/README_dump_test.md\" in \",\".join(logs_files_after_rename)"
   ]
  },
  {
   "cell_type": "code",
   "execution_count": 88,
   "metadata": {},
   "outputs": [],
   "source": [
    "file_stat = hdfs.stat(\"Logs/README.md\")\n",
    "hdfs.chmod(\"Logs/README.md\", 775)\n",
    "file_stat = hdfs.stat(\"Logs/README.md\")\n",
    "assert 775 == file_stat.st_mode"
   ]
  },
  {
   "cell_type": "code",
   "execution_count": 89,
   "metadata": {},
   "outputs": [],
   "source": [
    "hdfs.chmod(\"Logs/README.md\", 777)\n",
    "file_stat = hdfs.stat(\"Logs/README.md\")\n",
    "assert 777 == file_stat.st_mode"
   ]
  },
  {
   "cell_type": "code",
   "execution_count": 90,
   "metadata": {},
   "outputs": [],
   "source": [
    "file_owner = file_stat.st_uid\n",
    "assert hdfs.exists(\"Logs/\")\n",
    "assert not hdfs.exists(\"Not_Existing/neither_am_i\")"
   ]
  },
  {
   "cell_type": "markdown",
   "metadata": {},
   "source": [
    "## Training Tests"
   ]
  },
  {
   "cell_type": "markdown",
   "metadata": {},
   "source": [
    "##### Test Distributed Training MirroredStrategy (This may fail if not configured MirroredStrategy)\n",
    "\n",
    "- `experiment.mirrored()`"
   ]
  },
  {
   "cell_type": "code",
   "execution_count": 91,
   "metadata": {},
   "outputs": [],
   "source": [
    "def mirrored():\n",
    "    assert tensorboard.logdir() != None\n",
    "    assert devices.get_num_gpus() >= 0"
   ]
  },
  {
   "cell_type": "code",
   "execution_count": 92,
   "metadata": {},
   "outputs": [
    {
     "name": "stdout",
     "output_type": "stream",
     "text": [
      "Finished Experiment \n",
      "\n",
      "'hdfs://10.0.2.15:8020/Projects/demo_featurestore_admin000/Experiments/application_1551827646377_0002/mirrored/run.1'"
     ]
    }
   ],
   "source": [
    "experiment.mirrored(mirrored, local_logdir=False)"
   ]
  },
  {
   "cell_type": "code",
   "execution_count": 93,
   "metadata": {},
   "outputs": [
    {
     "name": "stdout",
     "output_type": "stream",
     "text": [
      "Finished Experiment \n",
      "\n",
      "'hdfs://10.0.2.15:8020/Projects/demo_featurestore_admin000/Experiments/application_1551827646377_0002/mirrored/run.2'"
     ]
    }
   ],
   "source": [
    "experiment.mirrored(mirrored, local_logdir=True)"
   ]
  },
  {
   "cell_type": "code",
   "execution_count": 94,
   "metadata": {},
   "outputs": [
    {
     "name": "stdout",
     "output_type": "stream",
     "text": [
      "Finished Experiment \n",
      "\n",
      "'hdfs://10.0.2.15:8020/Projects/demo_featurestore_admin000/Experiments/application_1551827646377_0002/mirrored/run.3'"
     ]
    }
   ],
   "source": [
    "experiment.mirrored(mirrored, name='mirrortime', description='such desc')"
   ]
  },
  {
   "cell_type": "code",
   "execution_count": 95,
   "metadata": {},
   "outputs": [
    {
     "name": "stdout",
     "output_type": "stream",
     "text": [
      "Finished Experiment \n",
      "\n",
      "'hdfs://10.0.2.15:8020/Projects/demo_featurestore_admin000/Experiments/application_1551827646377_0002/mirrored/run.4'"
     ]
    }
   ],
   "source": [
    "experiment.mirrored(mirrored)"
   ]
  },
  {
   "cell_type": "markdown",
   "metadata": {},
   "source": [
    "##### Test Distributed Training CollectiveAllReduceStrategy (This may fail if not configured CollectiveAllReduceStrategy)\n",
    "\n",
    "- `experiment.collective_all_reduce()`"
   ]
  },
  {
   "cell_type": "code",
   "execution_count": 96,
   "metadata": {},
   "outputs": [],
   "source": [
    "def collective():\n",
    "    assert 'TF_CONFIG' in os.environ\n",
    "    assert devices.get_num_gpus() >= 0"
   ]
  },
  {
   "cell_type": "code",
   "execution_count": 97,
   "metadata": {},
   "outputs": [
    {
     "name": "stdout",
     "output_type": "stream",
     "text": [
      "Finished Experiment \n",
      "\n",
      "'hdfs://10.0.2.15:8020/Projects/demo_featurestore_admin000/Experiments/application_1551827646377_0002/collective_all_reduce/run.1'"
     ]
    }
   ],
   "source": [
    "experiment.collective_all_reduce(collective, local_logdir=False)"
   ]
  },
  {
   "cell_type": "code",
   "execution_count": 98,
   "metadata": {},
   "outputs": [
    {
     "name": "stdout",
     "output_type": "stream",
     "text": [
      "Finished Experiment \n",
      "\n",
      "'hdfs://10.0.2.15:8020/Projects/demo_featurestore_admin000/Experiments/application_1551827646377_0002/collective_all_reduce/run.2'"
     ]
    }
   ],
   "source": [
    "experiment.collective_all_reduce(collective, local_logdir=True)"
   ]
  },
  {
   "cell_type": "code",
   "execution_count": 99,
   "metadata": {},
   "outputs": [
    {
     "name": "stdout",
     "output_type": "stream",
     "text": [
      "Finished Experiment \n",
      "\n",
      "'hdfs://10.0.2.15:8020/Projects/demo_featurestore_admin000/Experiments/application_1551827646377_0002/collective_all_reduce/run.3'"
     ]
    }
   ],
   "source": [
    "experiment.collective_all_reduce(collective, name='mirrortime', description='such desc')"
   ]
  },
  {
   "cell_type": "code",
   "execution_count": 100,
   "metadata": {},
   "outputs": [
    {
     "name": "stdout",
     "output_type": "stream",
     "text": [
      "Finished Experiment \n",
      "\n",
      "'hdfs://10.0.2.15:8020/Projects/demo_featurestore_admin000/Experiments/application_1551827646377_0002/collective_all_reduce/run.4'"
     ]
    }
   ],
   "source": [
    "experiment.collective_all_reduce(collective)"
   ]
  },
  {
   "cell_type": "markdown",
   "metadata": {},
   "source": [
    "##### Test Distributed Training ParameterServerStrategy (This may fail if not configured ParameterServerStrategy)\n",
    "\n",
    "- `experiment.parameter_server()`"
   ]
  },
  {
   "cell_type": "code",
   "execution_count": 108,
   "metadata": {},
   "outputs": [
    {
     "name": "stdout",
     "output_type": "stream",
     "text": [
      "<pyspark.conf.SparkConf object at 0x7f3382001748>"
     ]
    }
   ],
   "source": [
    "sc._conf.set(\"spark.tensorflow.num.ps\", \"1\")"
   ]
  },
  {
   "cell_type": "code",
   "execution_count": 110,
   "metadata": {},
   "outputs": [],
   "source": [
    "def ps():\n",
    "    assert 'TF_CONFIG' in os.environ\n",
    "    assert devices.get_num_gpus() >= 0"
   ]
  },
  {
   "cell_type": "code",
   "execution_count": 113,
   "metadata": {},
   "outputs": [],
   "source": [
    "# TODO: these ps tests does not complete, it waits indefinitely\n",
    "#experiment.parameter_server(ps, local_logdir=False)"
   ]
  },
  {
   "cell_type": "code",
   "execution_count": 114,
   "metadata": {},
   "outputs": [],
   "source": [
    "#experiment.parameter_server(ps, local_logdir=True)"
   ]
  },
  {
   "cell_type": "code",
   "execution_count": 115,
   "metadata": {},
   "outputs": [],
   "source": [
    "#experiment.parameter_server(ps, name='mirrortime', description='such desc')"
   ]
  },
  {
   "cell_type": "code",
   "execution_count": 116,
   "metadata": {},
   "outputs": [],
   "source": [
    "#experiment.parameter_server(ps)"
   ]
  },
  {
   "cell_type": "markdown",
   "metadata": {},
   "source": [
    "## Feature Store Tests\n",
    "\n",
    "These tests require that you have the following files in the Resources directory:\n",
    "\n",
    "- `attendances_features.csv`\n",
    "- `games_features.csv`\n",
    "- `players_features.csv`\n",
    "- `season_scores_features.csv`\n",
    "- `teams_features.csv`\n",
    "\n",
    "These files can be downloaded from here: `http://snurran.sics.se/hops/hops-util-py_test/`"
   ]
  },
  {
   "cell_type": "code",
   "execution_count": 117,
   "metadata": {},
   "outputs": [
    {
     "name": "stdout",
     "output_type": "stream",
     "text": [
      "hdfs://10.0.2.15:8020/Projects/demo_featurestore_admin000/Resources/attendances_features.csv\n",
      "hdfs://10.0.2.15:8020/Projects/demo_featurestore_admin000/Resources/games_features.csv\n",
      "hdfs://10.0.2.15:8020/Projects/demo_featurestore_admin000/Resources/players_features.csv\n",
      "hdfs://10.0.2.15:8020/Projects/demo_featurestore_admin000/Resources/season_scores_features.csv\n",
      "hdfs://10.0.2.15:8020/Projects/demo_featurestore_admin000/Resources/teams_features.csv\n",
      "[None, None, None, None, None]"
     ]
    }
   ],
   "source": [
    "list(map(lambda y: print(y), filter(lambda x: \".csv\" in x, hdfs.ls(\"Resources/\"))))"
   ]
  },
  {
   "cell_type": "markdown",
   "metadata": {},
   "source": [
    "##### Test Featurestore Create Feature Group Operations (`featurestore.create_featuregroup()`)"
   ]
  },
  {
   "cell_type": "code",
   "execution_count": 118,
   "metadata": {},
   "outputs": [],
   "source": [
    "def load_fs_sample_data():\n",
    "    resources_path = hdfs.project_path() + \"Resources/\"\n",
    "    games_features_df = spark.read.format(\"csv\").option(\"header\", \"true\").option(\"inferSchema\", \"true\").load(resources_path + \"games_features.csv\")\n",
    "    players_features_df = spark.read.format(\"csv\").option(\"header\", \"true\").option(\"inferSchema\", \"true\").load(resources_path + \"players_features.csv\")\n",
    "    teams_features_df = spark.read.format(\"csv\").option(\"header\", \"true\").option(\"inferSchema\", \"true\").load(resources_path + \"teams_features.csv\")\n",
    "    season_scores_features_df = spark.read.format(\"csv\").option(\"header\", \"true\").option(\"inferSchema\",\"true\").load(resources_path + \"season_scores_features.csv\")\n",
    "    attendances_features_df = spark.read.format(\"csv\").option(\"header\", \"true\").option(\"inferSchema\", \"true\").load(resources_path + \"attendances_features.csv\")\n",
    "    return games_features_df,players_features_df,teams_features_df,season_scores_features_df, attendances_features_df\n",
    "games_features_df,players_features_df,teams_features_df,season_scores_features_df, attendances_features_df = load_fs_sample_data()"
   ]
  },
  {
   "cell_type": "code",
   "execution_count": 119,
   "metadata": {},
   "outputs": [
    {
     "name": "stdout",
     "output_type": "stream",
     "text": [
      "computing descriptive statistics for : games_features\n",
      "computing feature correlation for: games_features\n",
      "computing feature histograms for: games_features\n",
      "computing cluster analysis for: games_features\n",
      "Running sql: use demo_featurestore_admin000_featurestore"
     ]
    }
   ],
   "source": [
    "featurestore.create_featuregroup(\n",
    "    games_features_df,\n",
    "    \"games_features\",\n",
    "    description=\"Features of average season scores for football teams\"\n",
    ")"
   ]
  },
  {
   "cell_type": "code",
   "execution_count": 120,
   "metadata": {},
   "outputs": [
    {
     "name": "stdout",
     "output_type": "stream",
     "text": [
      "computing descriptive statistics for : teams_features\n",
      "computing feature correlation for: teams_features\n",
      "computing feature histograms for: teams_features\n",
      "computing cluster analysis for: teams_features\n",
      "Running sql: use demo_featurestore_admin000_featurestore"
     ]
    }
   ],
   "source": [
    "featurestore.create_featuregroup(\n",
    "    teams_features_df,\n",
    "    \"teams_features\",\n",
    "    description=\"a spanish version of teams_features\"\n",
    ")"
   ]
  },
  {
   "cell_type": "code",
   "execution_count": 121,
   "metadata": {},
   "outputs": [
    {
     "name": "stdout",
     "output_type": "stream",
     "text": [
      "computing descriptive statistics for : season_scores_features\n",
      "computing feature correlation for: season_scores_features\n",
      "computing feature histograms for: season_scores_features\n",
      "computing cluster analysis for: season_scores_features\n",
      "Running sql: use demo_featurestore_admin000_featurestore"
     ]
    }
   ],
   "source": [
    "featurestore.create_featuregroup(\n",
    "    season_scores_features_df,\n",
    "    \"season_scores_features\",\n",
    "    description=\"Features of average season scores for football teams\"\n",
    ")"
   ]
  },
  {
   "cell_type": "code",
   "execution_count": 122,
   "metadata": {},
   "outputs": [
    {
     "name": "stdout",
     "output_type": "stream",
     "text": [
      "computing descriptive statistics for : attendances_features\n",
      "computing feature correlation for: attendances_features\n",
      "computing feature histograms for: attendances_features\n",
      "computing cluster analysis for: attendances_features\n",
      "Running sql: use demo_featurestore_admin000_featurestore"
     ]
    }
   ],
   "source": [
    "featurestore.create_featuregroup(\n",
    "    attendances_features_df,\n",
    "    \"attendances_features\",\n",
    "    description=\"Features of average attendance of games of football teams\"\n",
    ")"
   ]
  },
  {
   "cell_type": "code",
   "execution_count": 123,
   "metadata": {},
   "outputs": [
    {
     "name": "stdout",
     "output_type": "stream",
     "text": [
      "Running sql: use demo_featurestore_admin000_featurestore\n",
      "Running sql: SELECT * FROM teams_features_1"
     ]
    }
   ],
   "source": [
    "teams_features_1_df = featurestore.get_featuregroup(\"teams_features\")\n",
    "teams_features_2_df = teams_features_1_df.withColumnRenamed(\n",
    "    \"team_id\", \"equipo_id\").withColumnRenamed(\n",
    "    \"team_budget\", \"equipo_presupuesto\").withColumnRenamed(\n",
    "    \"team_position\", \"equipo_posicion\")"
   ]
  },
  {
   "cell_type": "code",
   "execution_count": 124,
   "metadata": {},
   "outputs": [
    {
     "name": "stdout",
     "output_type": "stream",
     "text": [
      "Running sql: use demo_featurestore_admin000_featurestore"
     ]
    }
   ],
   "source": [
    "featurestore.create_featuregroup(\n",
    "    teams_features_2_df,\n",
    "    \"teams_features_spanish\",\n",
    "    description=\"a spanish version of teams_features\",\n",
    "    descriptive_statistics=False,\n",
    "    feature_correlation=False,\n",
    "    feature_histograms=False,\n",
    "    cluster_analysis=False\n",
    ")"
   ]
  },
  {
   "cell_type": "code",
   "execution_count": 125,
   "metadata": {},
   "outputs": [
    {
     "name": "stdout",
     "output_type": "stream",
     "text": [
      "Running sql: use demo_featurestore_admin000_featurestore"
     ]
    }
   ],
   "source": [
    "featurestore.create_featuregroup(\n",
    "    teams_features_2_df,\n",
    "    \"teams_features_spanish\",\n",
    "    description=\"a spanish version of teams_features\",\n",
    "    descriptive_statistics=False,\n",
    "    feature_correlation=False,\n",
    "    feature_histograms=False,\n",
    "    cluster_analysis=False,\n",
    "    featurestore=featurestore.project_featurestore(),\n",
    "    featuregroup_version=1,\n",
    "    job_name=None,\n",
    "    dependencies=[]\n",
    ")"
   ]
  },
  {
   "cell_type": "code",
   "execution_count": 126,
   "metadata": {},
   "outputs": [
    {
     "name": "stdout",
     "output_type": "stream",
     "text": [
      "Running sql: use demo_featurestore_admin000_featurestore"
     ]
    }
   ],
   "source": [
    "featurestore.create_featuregroup(\n",
    "    teams_features_2_df,\n",
    "    \"teams_features_spanish\",\n",
    "    description=\"a spanish version of teams_features\",\n",
    "    descriptive_statistics=False,\n",
    "    feature_correlation=False,\n",
    "    feature_histograms=False,\n",
    "    cluster_analysis=False,\n",
    "    featuregroup_version=2\n",
    ")"
   ]
  },
  {
   "cell_type": "code",
   "execution_count": 127,
   "metadata": {},
   "outputs": [],
   "source": [
    "assert \"games_features_1\" in featurestore.get_featuregroups()\n",
    "assert \"teams_features_1\" in featurestore.get_featuregroups()\n",
    "assert \"season_scores_features_1\" in featurestore.get_featuregroups()\n",
    "assert \"attendances_features_1\" in featurestore.get_featuregroups()\n",
    "assert \"teams_features_spanish_1\" in featurestore.get_featuregroups()\n",
    "assert \"teams_features_spanish_2\" in featurestore.get_featuregroups()"
   ]
  },
  {
   "cell_type": "markdown",
   "metadata": {},
   "source": [
    "##### Test Featurestore Utility Operations, \n",
    "\n",
    "- `featurestore.get_metadata()`,\n",
    "- `featurestore.project_featurestore()`, \n",
    "- `featurestore.get_latest_featuregroup_version()`, \n",
    "- `featurestore.get_features_list()`"
   ]
  },
  {
   "cell_type": "code",
   "execution_count": 128,
   "metadata": {},
   "outputs": [
    {
     "name": "stdout",
     "output_type": "stream",
     "text": [
      "{'featuregroups': [{'clusterAnalysis': {'dataPoints': [{'datapointName': '0', 'firstDimension': -7.8427987, 'secondDimension': -48.56755}, {'datapointName': '1', 'firstDimension': -43.87279, 'secondDimension': -34.899086}, {'datapointName': '2', 'firstDimension': -14.177314, 'secondDimension': -13.902471}, {'datapointName': '3', 'firstDimension': -7.9087152, 'secondDimension': -47.570423}, {'datapointName': '4', 'firstDimension': -49.904434, 'secondDimension': -4.2572775}, {'datapointName': '5', 'firstDimension': -8.427749, 'secondDimension': -24.569195}, {'datapointName': '6', 'firstDimension': -33.401623, 'secondDimension': -41.240856}, {'datapointName': '7', 'firstDimension': -13.549052, 'secondDimension': -8.814783}, {'datapointName': '8', 'firstDimension': -34.76327, 'secondDimension': -50.384342}, {'datapointName': '9', 'firstDimension': -3.9781125, 'secondDimension': -31.279936}, {'datapointName': '10', 'firstDimension': -1.3165331, 'secondDimension': -26.09243}, {'datapointName': '11', 'firstDimension': -42.7273, 'secondDimension': -6.777641}, {'datapointName': '12', 'firstDimension': -35.89216, 'secondDimension': -48.45738}, {'datapointName': '13', 'firstDimension': -1.3248348, 'secondDimension': -41.11664}, {'datapointName': '14', 'firstDimension': -11.682579, 'secondDimension': -20.782549}, {'datapointName': '15', 'firstDimension': -11.822715, 'secondDimension': -33.8125}, {'datapointName': '16', 'firstDimension': -1.505982, 'secondDimension': -8.07684}, {'datapointName': '17', 'firstDimension': -7.026891, 'secondDimension': -15.460466}, {'datapointName': '18', 'firstDimension': -21.331842, 'secondDimension': -41.465282}, {'datapointName': '19', 'firstDimension': -24.191172, 'secondDimension': -43.661404}, {'datapointName': '20', 'firstDimension': -32.23772, 'secondDimension': -29.105984}, {'datapointName': '21', 'firstDimension': -30.70503, 'secondDimension': -21.991512}, {'datapointName': '22', 'firstDimension': -7.1011095, 'secondDimension': -29.487545}, {'datapointName': '23', 'firstDimension': -0.8551152, 'secondDimension': -33.072327}, {'datapointName': '24', 'firstDimension': -42.010517, 'secondDimension': -32.770252}, {'datapointName': '25', 'firstDimension': -36.023994, 'secondDimension': -46.46312}, {'datapointName': '26', 'firstDimension': -6.728213, 'secondDimension': -5.3871393}, {'datapointName': '27', 'firstDimension': -47.984543, 'secondDimension': -18.149778}, {'datapointName': '28', 'firstDimension': -0.7315832, 'secondDimension': -50.090786}, {'datapointName': '29', 'firstDimension': -18.011095, 'secondDimension': -46.249054}, {'datapointName': '30', 'firstDimension': -32.23772, 'secondDimension': -29.105984}, {'datapointName': '31', 'firstDimension': -43.97372, 'secondDimension': -47.9638}, {'datapointName': '32', 'firstDimension': -8.028143, 'secondDimension': -1.4311563}, {'datapointName': '33', 'firstDimension': -30.235312, 'secondDimension': -13.947201}, {'datapointName': '34', 'firstDimension': -30.367146, 'secondDimension': -11.952945}, {'datapointName': '35', 'firstDimension': -40.33769, 'secondDimension': -12.625831}, {'datapointName': '36', 'firstDimension': -23.993422, 'secondDimension': -46.652786}, {'datapointName': '37', 'firstDimension': -9.705074, 'secondDimension': -50.696384}, {'datapointName': '38', 'firstDimension': -13.18026, 'secondDimension': -13.835182}, {'datapointName': '39', 'firstDimension': -25.184122, 'secondDimension': -14.607885}, {'datapointName': '40', 'firstDimension': -20.862122, 'secondDimension': -33.42097}, {'datapointName': '41', 'firstDimension': -47.729176, 'secondDimension': -37.1625}, {'datapointName': '42', 'firstDimension': -10.123179, 'secondDimension': -14.630445}, {'datapointName': '43', 'firstDimension': -46.13057, 'secondDimension': -31.045153}, {'datapointName': '44', 'firstDimension': -31.702085, 'secondDimension': -22.0588}, {'datapointName': '45', 'firstDimension': -1.38245, 'secondDimension': -25.095303}, {'datapointName': '46', 'firstDimension': 0.7434928, 'secondDimension': -26.95498}, {'datapointName': '47', 'firstDimension': -30.762646, 'secondDimension': -5.9701777}, {'datapointName': '48', 'firstDimension': -1.1187825, 'secondDimension': -29.083815}], 'clusters': [{'datapointName': '0', 'cluster': 0}, {'datapointName': '1', 'cluster': 4}, {'datapointName': '2', 'cluster': 3}, {'datapointName': '3', 'cluster': 0}, {'datapointName': '4', 'cluster': 2}, {'datapointName': '5', 'cluster': 0}, {'datapointName': '6', 'cluster': 1}, {'datapointName': '7', 'cluster': 3}, {'datapointName': '8', 'cluster': 1}, {'datapointName': '9', 'cluster': 0}, {'datapointName': '10', 'cluster': 0}, {'datapointName': '11', 'cluster': 2}, {'datapointName': '12', 'cluster': 1}, {'datapointName': '13', 'cluster': 0}, {'datapointName': '14', 'cluster': 3}, {'datapointName': '15', 'cluster': 0}, {'datapointName': '16', 'cluster': 3}, {'datapointName': '17', 'cluster': 3}, {'datapointName': '18', 'cluster': 1}, {'datapointName': '19', 'cluster': 1}, {'datapointName': '20', 'cluster': 4}, {'datapointName': '21', 'cluster': 4}, {'datapointName': '22', 'cluster': 0}, {'datapointName': '23', 'cluster': 0}, {'datapointName': '24', 'cluster': 4}, {'datapointName': '25', 'cluster': 1}, {'datapointName': '26', 'cluster': 3}, {'datapointName': '27', 'cluster': 2}, {'datapointName': '28', 'cluster': 0}, {'datapointName': '29', 'cluster': 1}, {'datapointName': '30', 'cluster': 4}, {'datapointName': '31', 'cluster': 1}, {'datapointName': '32', 'cluster': 3}, {'datapointName': '33', 'cluster': 2}, {'datapointName': '34', 'cluster': 2}, {'datapointName': '35', 'cluster': 2}, {'datapointName': '36', 'cluster': 1}, {'datapointName': '37', 'cluster': 0}, {'datapointName': '38', 'cluster': 3}, {'datapointName': '39', 'cluster': 2}, {'datapointName': '40', 'cluster': 1}, {'datapointName': '41', 'cluster': 4}, {'datapointName': '42', 'cluster': 3}, {'datapointName': '43', 'cluster': 4}, {'datapointName': '44', 'cluster': 4}, {'datapointName': '45', 'cluster': 0}, {'datapointName': '46', 'cluster': 0}, {'datapointName': '47', 'cluster': 2}, {'datapointName': '48', 'cluster': 0}], 'statisticType': 'clusterAnalysis'}, 'created': '2019-03-06T08:31:37Z', 'creator': 'admin@kth.se', 'dependencies': [], 'description': 'Features of average season scores for football teams', 'descriptiveStatistics': {'descriptiveStats': [{'featureName': 'score', 'metricValues': [{'metricName': 'count', 'value': 49.0}, {'metricName': 'mean', 'value': 1.8571428}, {'metricName': 'stddev', 'value': 0.9354144}, {'metricName': 'min', 'value': 1.0}, {'metricName': 'max', 'value': 3.0}], 'statisticType': 'descriptiveStatistics'}, {'featureName': 'home_team_id', 'metricValues': [{'metricName': 'count', 'value': 49.0}, {'metricName': 'mean', 'value': 26.591837}, {'metricName': 'stddev', 'value': 14.802756}, {'metricName': 'min', 'value': 1.0}, {'metricName': 'max', 'value': 50.0}], 'statisticType': 'descriptiveStatistics'}, {'featureName': 'away_team_id', 'metricValues': [{'metricName': 'count', 'value': 49.0}, {'metricName': 'mean', 'value': 23.081633}, {'metricName': 'stddev', 'value': 15.90445}, {'metricName': 'min', 'value': 1.0}, {'metricName': 'max', 'value': 50.0}], 'statisticType': 'descriptiveStatistics'}]}, 'featureCorrelationMatrix': {'featureCorrelations': [{'featureName': 'score', 'correlationValues': [{'featureName': 'score', 'correlation': 1.0, 'statisticType': 'featureCorrelations'}, {'featureName': 'home_team_id', 'correlation': -0.5955944, 'statisticType': 'featureCorrelations'}, {'featureName': 'away_team_id', 'correlation': 0.63095695, 'statisticType': 'featureCorrelations'}]}, {'featureName': 'home_team_id', 'correlationValues': [{'featureName': 'score', 'correlation': -0.5955944, 'statisticType': 'featureCorrelations'}, {'featureName': 'home_team_id', 'correlation': 1.0, 'statisticType': 'featureCorrelations'}, {'featureName': 'away_team_id', 'correlation': -0.00826214, 'statisticType': 'featureCorrelations'}]}, {'featureName': 'away_team_id', 'correlationValues': [{'featureName': 'score', 'correlation': 0.63095695, 'statisticType': 'featureCorrelations'}, {'featureName': 'home_team_id', 'correlation': -0.00826214, 'statisticType': 'featureCorrelations'}, {'featureName': 'away_team_id', 'correlation': 1.0, 'statisticType': 'featureCorrelations'}]}]}, 'features': [{'name': 'away_team_id', 'type': 'int', 'description': '-', 'primary': True}, {'name': 'home_team_id', 'type': 'int', 'description': '-', 'primary': False}, {'name': 'score', 'type': 'int', 'description': '-', 'primary': False}], 'featuresHistogram': {'featureDistributions': [{'featureName': 'score', 'frequencyDistribution': [{'bin': '1.0', 'frequency': 25}, {'bin': '1.1', 'frequency': 0}, {'bin': '1.2', 'frequency': 0}, {'bin': '1.3', 'frequency': 0}, {'bin': '1.4', 'frequency': 0}, {'bin': '1.5', 'frequency': 0}, {'bin': '1.6', 'frequency': 0}, {'bin': '1.7', 'frequency': 0}, {'bin': '1.8', 'frequency': 0}, {'bin': '1.9', 'frequency': 0}, {'bin': '2.0', 'frequency': 6}, {'bin': '2.1', 'frequency': 0}, {'bin': '2.2', 'frequency': 0}, {'bin': '2.3', 'frequency': 0}, {'bin': '2.4', 'frequency': 0}, {'bin': '2.5', 'frequency': 0}, {'bin': '2.6', 'frequency': 0}, {'bin': '2.7', 'frequency': 0}, {'bin': '2.8', 'frequency': 0}, {'bin': '2.9', 'frequency': 18}], 'statisticType': 'featureDistributions'}, {'featureName': 'home_team_id', 'frequencyDistribution': [{'bin': '1.0', 'frequency': 2}, {'bin': '3.45', 'frequency': 3}, {'bin': '5.9', 'frequency': 2}, {'bin': '8.35', 'frequency': 2}, {'bin': '10.8', 'frequency': 4}, {'bin': '13.25', 'frequency': 3}, {'bin': '15.7', 'frequency': 0}, {'bin': '18.15', 'frequency': 3}, {'bin': '20.6', 'frequency': 0}, {'bin': '23.05', 'frequency': 2}, {'bin': '25.5', 'frequency': 4}, {'bin': '27.95', 'frequency': 4}, {'bin': '30.4', 'frequency': 3}, {'bin': '32.85', 'frequency': 3}, {'bin': '35.3', 'frequency': 0}, {'bin': '37.75', 'frequency': 2}, {'bin': '40.2', 'frequency': 2}, {'bin': '42.65', 'frequency': 4}, {'bin': '45.1', 'frequency': 2}, {'bin': '47.55', 'frequency': 4}], 'statisticType': 'featureDistributions'}, {'featureName': 'away_team_id', 'frequencyDistribution': [{'bin': '1.0', 'frequency': 6}, {'bin': '3.45', 'frequency': 2}, {'bin': '5.9', 'frequency': 4}, {'bin': '8.35', 'frequency': 2}, {'bin': '10.8', 'frequency': 5}, {'bin': '13.25', 'frequency': 4}, {'bin': '15.7', 'frequency': 0}, {'bin': '18.15', 'frequency': 0}, {'bin': '20.6', 'frequency': 2}, {'bin': '23.05', 'frequency': 1}, {'bin': '25.5', 'frequency': 3}, {'bin': '27.95', 'frequency': 0}, {'bin': '30.4', 'frequency': 4}, {'bin': '32.85', 'frequency': 3}, {'bin': '35.3', 'frequency': 1}, {'bin': '37.75', 'frequency': 3}, {'bin': '40.2', 'frequency': 1}, {'bin': '42.65', 'frequency': 2}, {'bin': '45.1', 'frequency': 2}, {'bin': '47.55', 'frequency': 4}], 'statisticType': 'featureDistributions'}]}, 'featurestoreId': 1, 'featurestoreName': 'demo_featurestore_admin000_featurestore', 'id': 6, 'inodeId': 102905, 'jobId': None, 'jobName': None, 'jobStatus': None, 'lastComputed': None, 'name': 'games_features', 'version': 1, 'hdfsStorePaths': ['hdfs://10.0.2.15:8020/apps/hive/warehouse/demo_featurestore_admin000_featurestore.db/games_features_1']}, {'clusterAnalysis': {'dataPoints': [{'datapointName': '0', 'firstDimension': -1143.4773, 'secondDimension': -24.759565}, {'datapointName': '1', 'firstDimension': -687.56104, 'secondDimension': -22.129906}, {'datapointName': '2', 'firstDimension': -687.56104, 'secondDimension': -22.129906}, {'datapointName': '3', 'firstDimension': -806.94965, 'secondDimension': -19.528727}, {'datapointName': '4', 'firstDimension': -563.3975, 'secondDimension': -19.509708}, {'datapointName': '5', 'firstDimension': -841.91223, 'secondDimension': -22.113182}, {'datapointName': '6', 'firstDimension': -822.08875, 'secondDimension': -17.211288}, {'datapointName': '7', 'firstDimension': -822.08875, 'secondDimension': -17.211288}, {'datapointName': '8', 'firstDimension': -822.08875, 'secondDimension': -17.211288}, {'datapointName': '9', 'firstDimension': -1101.287, 'secondDimension': -26.852894}, {'datapointName': '10', 'firstDimension': -1234.0404, 'secondDimension': -16.848799}, {'datapointName': '11', 'firstDimension': -1234.0404, 'secondDimension': -16.848799}, {'datapointName': '12', 'firstDimension': -1485.2776, 'secondDimension': -24.223045}, {'datapointName': '13', 'firstDimension': -1485.2776, 'secondDimension': -24.223045}, {'datapointName': '14', 'firstDimension': -581.17535, 'secondDimension': -25.319977}, {'datapointName': '15', 'firstDimension': -596.3597, 'secondDimension': -22.003565}, {'datapointName': '16', 'firstDimension': -630.50305, 'secondDimension': -20.546816}, {'datapointName': '17', 'firstDimension': -1189.6686, 'secondDimension': -22.847433}, {'datapointName': '18', 'firstDimension': -1214.8099, 'secondDimension': -20.98299}, {'datapointName': '19', 'firstDimension': -1214.8099, 'secondDimension': -20.98299}, {'datapointName': '20', 'firstDimension': -639.73126, 'secondDimension': -15.95963}, {'datapointName': '21', 'firstDimension': -1523.5123, 'secondDimension': -20.949543}, {'datapointName': '22', 'firstDimension': -1523.5123, 'secondDimension': -20.949543}, {'datapointName': '23', 'firstDimension': -963.0751, 'secondDimension': -24.59748}, {'datapointName': '24', 'firstDimension': -1313.1486, 'secondDimension': -18.4295}, {'datapointName': '25', 'firstDimension': -1313.1486, 'secondDimension': -18.4295}, {'datapointName': '26', 'firstDimension': -1313.1486, 'secondDimension': -18.4295}, {'datapointName': '27', 'firstDimension': -542.30237, 'secondDimension': -20.556372}, {'datapointName': '28', 'firstDimension': -819.63586, 'secondDimension': -27.11045}, {'datapointName': '29', 'firstDimension': -819.63586, 'secondDimension': -27.11045}, {'datapointName': '30', 'firstDimension': -1212.9905, 'secondDimension': -16.896488}, {'datapointName': '31', 'firstDimension': -1078.5532, 'secondDimension': -19.817152}, {'datapointName': '32', 'firstDimension': -1129.7004, 'secondDimension': -19.130493}, {'datapointName': '33', 'firstDimension': -542.21185, 'secondDimension': -22.554325}, {'datapointName': '34', 'firstDimension': -542.21185, 'secondDimension': -22.554325}, {'datapointName': '35', 'firstDimension': -1084.5999, 'secondDimension': -19.089973}, {'datapointName': '36', 'firstDimension': -1084.5999, 'secondDimension': -19.089973}, {'datapointName': '37', 'firstDimension': -784.9899, 'secondDimension': -17.533163}, {'datapointName': '38', 'firstDimension': -784.9899, 'secondDimension': -17.533163}, {'datapointName': '39', 'firstDimension': -784.9899, 'secondDimension': -17.533163}, {'datapointName': '40', 'firstDimension': -725.70526, 'secondDimension': -20.854355}, {'datapointName': '41', 'firstDimension': -1061.3684, 'secondDimension': -23.042967}, {'datapointName': '42', 'firstDimension': -1061.3684, 'secondDimension': -23.042967}, {'datapointName': '43', 'firstDimension': -906.2885, 'secondDimension': -17.020535}, {'datapointName': '44', 'firstDimension': -720.7947, 'secondDimension': -18.629906}], 'clusters': [{'datapointName': '0', 'cluster': 3}, {'datapointName': '1', 'cluster': 2}, {'datapointName': '2', 'cluster': 2}, {'datapointName': '3', 'cluster': 0}, {'datapointName': '4', 'cluster': 2}, {'datapointName': '5', 'cluster': 0}, {'datapointName': '6', 'cluster': 0}, {'datapointName': '7', 'cluster': 0}, {'datapointName': '8', 'cluster': 0}, {'datapointName': '9', 'cluster': 3}, {'datapointName': '10', 'cluster': 4}, {'datapointName': '11', 'cluster': 4}, {'datapointName': '12', 'cluster': 1}, {'datapointName': '13', 'cluster': 1}, {'datapointName': '14', 'cluster': 2}, {'datapointName': '15', 'cluster': 2}, {'datapointName': '16', 'cluster': 2}, {'datapointName': '17', 'cluster': 4}, {'datapointName': '18', 'cluster': 4}, {'datapointName': '19', 'cluster': 4}, {'datapointName': '20', 'cluster': 2}, {'datapointName': '21', 'cluster': 1}, {'datapointName': '22', 'cluster': 1}, {'datapointName': '23', 'cluster': 0}, {'datapointName': '24', 'cluster': 4}, {'datapointName': '25', 'cluster': 4}, {'datapointName': '26', 'cluster': 4}, {'datapointName': '27', 'cluster': 2}, {'datapointName': '28', 'cluster': 0}, {'datapointName': '29', 'cluster': 0}, {'datapointName': '30', 'cluster': 4}, {'datapointName': '31', 'cluster': 3}, {'datapointName': '32', 'cluster': 3}, {'datapointName': '33', 'cluster': 2}, {'datapointName': '34', 'cluster': 2}, {'datapointName': '35', 'cluster': 3}, {'datapointName': '36', 'cluster': 3}, {'datapointName': '37', 'cluster': 0}, {'datapointName': '38', 'cluster': 0}, {'datapointName': '39', 'cluster': 0}, {'datapointName': '40', 'cluster': 2}, {'datapointName': '41', 'cluster': 3}, {'datapointName': '42', 'cluster': 3}, {'datapointName': '43', 'cluster': 0}, {'datapointName': '44', 'cluster': 2}], 'statisticType': 'clusterAnalysis'}, 'created': '2019-03-06T08:32:28Z', 'creator': 'admin@kth.se', 'dependencies': [], 'description': 'Features of average season scores for football teams', 'descriptiveStatistics': {'descriptiveStats': [{'featureName': 'sum_position', 'metricValues': [{'metricName': 'count', 'value': 50.0}, {'metricName': 'mean', 'value': 1009.78}, {'metricName': 'stddev', 'value': 306.1239}, {'metricName': 'min', 'value': 542.0}, {'metricName': 'max', 'value': 1607.0}], 'statisticType': 'descriptiveStatistics'}, {'featureName': 'average_position', 'metricValues': [{'metricName': 'count', 'value': 50.0}, {'metricName': 'mean', 'value': 50.489}, {'metricName': 'stddev', 'value': 15.306195}, {'metricName': 'min', 'value': 27.1}, {'metricName': 'max', 'value': 80.35}], 'statisticType': 'descriptiveStatistics'}, {'featureName': 'team_id', 'metricValues': [{'metricName': 'count', 'value': 50.0}, {'metricName': 'mean', 'value': 25.5}, {'metricName': 'stddev', 'value': 14.57738}, {'metricName': 'min', 'value': 1.0}, {'metricName': 'max', 'value': 50.0}], 'statisticType': 'descriptiveStatistics'}]}, 'featureCorrelationMatrix': {'featureCorrelations': [{'featureName': 'sum_position', 'correlationValues': [{'featureName': 'sum_position', 'correlation': 1.0, 'statisticType': 'featureCorrelations'}, {'featureName': 'average_position', 'correlation': 1.0, 'statisticType': 'featureCorrelations'}, {'featureName': 'team_id', 'correlation': 0.97596633, 'statisticType': 'featureCorrelations'}]}, {'featureName': 'team_id', 'correlationValues': [{'featureName': 'sum_position', 'correlation': 0.97596633, 'statisticType': 'featureCorrelations'}, {'featureName': 'average_position', 'correlation': 0.97596633, 'statisticType': 'featureCorrelations'}, {'featureName': 'team_id', 'correlation': 1.0, 'statisticType': 'featureCorrelations'}]}, {'featureName': 'average_position', 'correlationValues': [{'featureName': 'sum_position', 'correlation': 1.0, 'statisticType': 'featureCorrelations'}, {'featureName': 'average_position', 'correlation': 1.0, 'statisticType': 'featureCorrelations'}, {'featureName': 'team_id', 'correlation': 0.97596633, 'statisticType': 'featureCorrelations'}]}]}, 'features': [{'name': 'average_position', 'type': 'double', 'description': '-', 'primary': False}, {'name': 'sum_position', 'type': 'double', 'description': '-', 'primary': False}, {'name': 'team_id', 'type': 'int', 'description': '-', 'primary': True}], 'featuresHistogram': {'featureDistributions': [{'featureName': 'sum_position', 'frequencyDistribution': [{'bin': '542.0', 'frequency': 5}, {'bin': '595.25', 'frequency': 5}, {'bin': '648.5', 'frequency': 2}, {'bin': '701.75', 'frequency': 2}, {'bin': '755.0', 'frequency': 2}, {'bin': '808.25', 'frequency': 3}, {'bin': '861.5', 'frequency': 1}, {'bin': '914.75', 'frequency': 2}, {'bin': '968.0', 'frequency': 1}, {'bin': '1021.25', 'frequency': 2}, {'bin': '1074.5', 'frequency': 4}, {'bin': '1127.75', 'frequency': 4}, {'bin': '1181.0', 'frequency': 4}, {'bin': '1234.25', 'frequency': 4}, {'bin': '1287.5', 'frequency': 3}, {'bin': '1340.75', 'frequency': 0}, {'bin': '1394.0', 'frequency': 1}, {'bin': '1447.25', 'frequency': 3}, {'bin': '1500.5', 'frequency': 1}, {'bin': '1553.75', 'frequency': 1}], 'statisticType': 'featureDistributions'}, {'featureName': 'average_position', 'frequencyDistribution': [{'bin': '27.1', 'frequency': 5}, {'bin': '29.7625', 'frequency': 5}, {'bin': '32.425', 'frequency': 2}, {'bin': '35.0875', 'frequency': 2}, {'bin': '37.75', 'frequency': 2}, {'bin': '40.4125', 'frequency': 3}, {'bin': '43.075', 'frequency': 1}, {'bin': '45.7375', 'frequency': 2}, {'bin': '48.4', 'frequency': 1}, {'bin': '51.0625', 'frequency': 2}, {'bin': '53.725', 'frequency': 4}, {'bin': '56.3875', 'frequency': 4}, {'bin': '59.05', 'frequency': 4}, {'bin': '61.7125', 'frequency': 4}, {'bin': '64.375', 'frequency': 3}, {'bin': '67.0375', 'frequency': 0}, {'bin': '69.7', 'frequency': 1}, {'bin': '72.3625', 'frequency': 3}, {'bin': '75.025', 'frequency': 1}, {'bin': '77.6875', 'frequency': 1}], 'statisticType': 'featureDistributions'}, {'featureName': 'team_id', 'frequencyDistribution': [{'bin': '1.0', 'frequency': 3}, {'bin': '3.45', 'frequency': 2}, {'bin': '5.9', 'frequency': 3}, {'bin': '8.35', 'frequency': 2}, {'bin': '10.8', 'frequency': 3}, {'bin': '13.25', 'frequency': 2}, {'bin': '15.7', 'frequency': 3}, {'bin': '18.15', 'frequency': 2}, {'bin': '20.6', 'frequency': 3}, {'bin': '23.05', 'frequency': 2}, {'bin': '25.5', 'frequency': 2}, {'bin': '27.95', 'frequency': 3}, {'bin': '30.4', 'frequency': 2}, {'bin': '32.85', 'frequency': 3}, {'bin': '35.3', 'frequency': 2}, {'bin': '37.75', 'frequency': 3}, {'bin': '40.2', 'frequency': 2}, {'bin': '42.65', 'frequency': 3}, {'bin': '45.1', 'frequency': 2}, {'bin': '47.55', 'frequency': 3}], 'statisticType': 'featureDistributions'}]}, 'featurestoreId': 1, 'featurestoreName': 'demo_featurestore_admin000_featurestore', 'id': 8, 'inodeId': 102933, 'jobId': None, 'jobName': None, 'jobStatus': None, 'lastComputed': None, 'name': 'season_scores_features', 'version': 1, 'hdfsStorePaths': ['hdfs://10.0.2.15:8020/apps/hive/warehouse/demo_featurestore_admin000_featurestore.db/season_scores_features_1']}, {'clusterAnalysis': {'dataPoints': [{'datapointName': '0', 'firstDimension': 65520.426, 'secondDimension': -30.405586}, {'datapointName': '1', 'firstDimension': 81597.9, 'secondDimension': -32.486633}, {'datapointName': '2', 'firstDimension': 81597.9, 'secondDimension': -32.486633}, {'datapointName': '3', 'firstDimension': 129410.7, 'secondDimension': -24.701561}, {'datapointName': '4', 'firstDimension': 129410.7, 'secondDimension': -24.701561}, {'datapointName': '5', 'firstDimension': 144714.0, 'secondDimension': -29.730553}, {'datapointName': '6', 'firstDimension': 144714.0, 'secondDimension': -29.730553}, {'datapointName': '7', 'firstDimension': 63876.605, 'secondDimension': -44.295055}, {'datapointName': '8', 'firstDimension': 141697.38, 'secondDimension': -24.527716}, {'datapointName': '9', 'firstDimension': 188339.25, 'secondDimension': -21.66391}, {'datapointName': '10', 'firstDimension': 61970.82, 'secondDimension': -37.166912}, {'datapointName': '11', 'firstDimension': 98190.07, 'secondDimension': -24.60229}, {'datapointName': '12', 'firstDimension': 448752.2, 'secondDimension': -34.174046}, {'datapointName': '13', 'firstDimension': 448752.2, 'secondDimension': -34.174046}, {'datapointName': '14', 'firstDimension': 448752.2, 'secondDimension': -34.174046}, {'datapointName': '15', 'firstDimension': 448752.2, 'secondDimension': -34.174046}, {'datapointName': '16', 'firstDimension': 448752.2, 'secondDimension': -34.174046}, {'datapointName': '17', 'firstDimension': 50706.54, 'secondDimension': -37.409504}, {'datapointName': '18', 'firstDimension': 50706.54, 'secondDimension': -37.409504}, {'datapointName': '19', 'firstDimension': 50706.54, 'secondDimension': -37.409504}, {'datapointName': '20', 'firstDimension': 68041.02, 'secondDimension': -32.57507}, {'datapointName': '21', 'firstDimension': 68041.02, 'secondDimension': -32.57507}, {'datapointName': '22', 'firstDimension': 48643.965, 'secondDimension': -47.270817}, {'datapointName': '23', 'firstDimension': 48643.965, 'secondDimension': -47.270817}, {'datapointName': '24', 'firstDimension': 111790.06, 'secondDimension': -29.516752}, {'datapointName': '25', 'firstDimension': 111790.06, 'secondDimension': -29.516752}, {'datapointName': '26', 'firstDimension': 111790.06, 'secondDimension': -29.516752}, {'datapointName': '27', 'firstDimension': 111790.06, 'secondDimension': -29.516752}, {'datapointName': '28', 'firstDimension': 36851.34, 'secondDimension': -50.47788}, {'datapointName': '29', 'firstDimension': 91993.17, 'secondDimension': -25.185612}, {'datapointName': '30', 'firstDimension': 41034.324, 'secondDimension': -43.759144}, {'datapointName': '31', 'firstDimension': 54088.523, 'secondDimension': -40.636906}, {'datapointName': '32', 'firstDimension': 54088.523, 'secondDimension': -40.636906}, {'datapointName': '33', 'firstDimension': 187690.45, 'secondDimension': -20.620285}, {'datapointName': '34', 'firstDimension': 20796.418, 'secondDimension': -50.39835}, {'datapointName': '35', 'firstDimension': 20796.418, 'secondDimension': -50.39835}, {'datapointName': '36', 'firstDimension': 20796.418, 'secondDimension': -50.39835}, {'datapointName': '37', 'firstDimension': 179835.23, 'secondDimension': -22.0921}, {'datapointName': '38', 'firstDimension': 179835.23, 'secondDimension': -22.0921}, {'datapointName': '39', 'firstDimension': 33506.6, 'secondDimension': -52.25298}, {'datapointName': '40', 'firstDimension': 89404.17, 'secondDimension': -30.011526}, {'datapointName': '41', 'firstDimension': 59751.45, 'secondDimension': -36.01768}, {'datapointName': '42', 'firstDimension': 141950.81, 'secondDimension': -23.544756}, {'datapointName': '43', 'firstDimension': 141950.81, 'secondDimension': -23.544756}, {'datapointName': '44', 'firstDimension': 709952.4, 'secondDimension': -49.737118}, {'datapointName': '45', 'firstDimension': 709952.4, 'secondDimension': -49.737118}, {'datapointName': '46', 'firstDimension': 38854.734, 'secondDimension': -48.612587}], 'clusters': [{'datapointName': '0', 'cluster': 0}, {'datapointName': '1', 'cluster': 0}, {'datapointName': '2', 'cluster': 0}, {'datapointName': '3', 'cluster': 4}, {'datapointName': '4', 'cluster': 4}, {'datapointName': '5', 'cluster': 4}, {'datapointName': '6', 'cluster': 4}, {'datapointName': '7', 'cluster': 0}, {'datapointName': '8', 'cluster': 4}, {'datapointName': '9', 'cluster': 4}, {'datapointName': '10', 'cluster': 0}, {'datapointName': '11', 'cluster': 0}, {'datapointName': '12', 'cluster': 3}, {'datapointName': '13', 'cluster': 3}, {'datapointName': '14', 'cluster': 3}, {'datapointName': '15', 'cluster': 3}, {'datapointName': '16', 'cluster': 3}, {'datapointName': '17', 'cluster': 0}, {'datapointName': '18', 'cluster': 0}, {'datapointName': '19', 'cluster': 0}, {'datapointName': '20', 'cluster': 0}, {'datapointName': '21', 'cluster': 0}, {'datapointName': '22', 'cluster': 0}, {'datapointName': '23', 'cluster': 0}, {'datapointName': '24', 'cluster': 0}, {'datapointName': '25', 'cluster': 0}, {'datapointName': '26', 'cluster': 0}, {'datapointName': '27', 'cluster': 0}, {'datapointName': '28', 'cluster': 0}, {'datapointName': '29', 'cluster': 0}, {'datapointName': '30', 'cluster': 0}, {'datapointName': '31', 'cluster': 0}, {'datapointName': '32', 'cluster': 0}, {'datapointName': '33', 'cluster': 4}, {'datapointName': '34', 'cluster': 0}, {'datapointName': '35', 'cluster': 0}, {'datapointName': '36', 'cluster': 0}, {'datapointName': '37', 'cluster': 4}, {'datapointName': '38', 'cluster': 4}, {'datapointName': '39', 'cluster': 0}, {'datapointName': '40', 'cluster': 0}, {'datapointName': '41', 'cluster': 0}, {'datapointName': '42', 'cluster': 4}, {'datapointName': '43', 'cluster': 4}, {'datapointName': '44', 'cluster': 2}, {'datapointName': '45', 'cluster': 2}, {'datapointName': '46', 'cluster': 0}], 'statisticType': 'clusterAnalysis'}, 'created': '2019-03-06T08:32:47Z', 'creator': 'admin@kth.se', 'dependencies': [], 'description': 'Features of average attendance of games of football teams', 'descriptiveStatistics': {'descriptiveStats': [{'featureName': 'sum_attendance', 'metricValues': [{'metricName': 'count', 'value': 50.0}, {'metricName': 'mean', 'value': 173387.88}, {'metricName': 'stddev', 'value': 284646.2}, {'metricName': 'min', 'value': 20770.475}, {'metricName': 'max', 'value': 1846021.8}], 'statisticType': 'descriptiveStatistics'}, {'featureName': 'average_attendance', 'metricValues': [{'metricName': 'count', 'value': 50.0}, {'metricName': 'mean', 'value': 8669.394}, {'metricName': 'stddev', 'value': 14232.309}, {'metricName': 'min', 'value': 1038.5237}, {'metricName': 'max', 'value': 92301.086}], 'statisticType': 'descriptiveStatistics'}, {'featureName': 'team_id', 'metricValues': [{'metricName': 'count', 'value': 50.0}, {'metricName': 'mean', 'value': 25.5}, {'metricName': 'stddev', 'value': 14.57738}, {'metricName': 'min', 'value': 1.0}, {'metricName': 'max', 'value': 50.0}], 'statisticType': 'descriptiveStatistics'}]}, 'featureCorrelationMatrix': {'featureCorrelations': [{'featureName': 'sum_attendance', 'correlationValues': [{'featureName': 'sum_attendance', 'correlation': 1.0, 'statisticType': 'featureCorrelations'}, {'featureName': 'average_attendance', 'correlation': 1.0, 'statisticType': 'featureCorrelations'}, {'featureName': 'team_id', 'correlation': -0.5932929, 'statisticType': 'featureCorrelations'}]}, {'featureName': 'average_attendance', 'correlationValues': [{'featureName': 'sum_attendance', 'correlation': 1.0, 'statisticType': 'featureCorrelations'}, {'featureName': 'average_attendance', 'correlation': 1.0, 'statisticType': 'featureCorrelations'}, {'featureName': 'team_id', 'correlation': -0.5932929, 'statisticType': 'featureCorrelations'}]}, {'featureName': 'team_id', 'correlationValues': [{'featureName': 'sum_attendance', 'correlation': -0.5932929, 'statisticType': 'featureCorrelations'}, {'featureName': 'average_attendance', 'correlation': -0.5932929, 'statisticType': 'featureCorrelations'}, {'featureName': 'team_id', 'correlation': 1.0, 'statisticType': 'featureCorrelations'}]}]}, 'features': [{'name': 'average_attendance', 'type': 'double', 'description': '-', 'primary': False}, {'name': 'sum_attendance', 'type': 'double', 'description': '-', 'primary': False}, {'name': 'team_id', 'type': 'int', 'description': '-', 'primary': True}], 'featuresHistogram': {'featureDistributions': [{'featureName': 'sum_attendance', 'frequencyDistribution': [{'bin': '20770.475', 'frequency': 32}, {'bin': '112033.04125', 'frequency': 10}, {'bin': '203295.6075', 'frequency': 2}, {'bin': '294558.17375', 'frequency': 0}, {'bin': '385820.74', 'frequency': 2}, {'bin': '477083.30625', 'frequency': 1}, {'bin': '568345.8724999999', 'frequency': 1}, {'bin': '659608.43875', 'frequency': 1}, {'bin': '750871.005', 'frequency': 0}, {'bin': '842133.57125', 'frequency': 0}, {'bin': '933396.1375000001', 'frequency': 0}, {'bin': '1024658.70375', 'frequency': 0}, {'bin': '1115921.27', 'frequency': 0}, {'bin': '1207183.8362500002', 'frequency': 0}, {'bin': '1298446.4025000001', 'frequency': 0}, {'bin': '1389708.9687500002', 'frequency': 0}, {'bin': '1480971.5350000001', 'frequency': 0}, {'bin': '1572234.1012500001', 'frequency': 0}, {'bin': '1663496.6675000002', 'frequency': 0}, {'bin': '1754759.2337500001', 'frequency': 1}], 'statisticType': 'featureDistributions'}, {'featureName': 'average_attendance', 'frequencyDistribution': [{'bin': '1038.5237', 'frequency': 32}, {'bin': '5601.651815', 'frequency': 10}, {'bin': '10164.77993', 'frequency': 2}, {'bin': '14727.908045', 'frequency': 0}, {'bin': '19291.03616', 'frequency': 2}, {'bin': '23854.164275', 'frequency': 1}, {'bin': '28417.29239', 'frequency': 1}, {'bin': '32980.420505', 'frequency': 1}, {'bin': '37543.54862', 'frequency': 0}, {'bin': '42106.676735', 'frequency': 0}, {'bin': '46669.80485', 'frequency': 0}, {'bin': '51232.932965', 'frequency': 0}, {'bin': '55796.06108', 'frequency': 0}, {'bin': '60359.189195', 'frequency': 0}, {'bin': '64922.31731', 'frequency': 0}, {'bin': '69485.445425', 'frequency': 0}, {'bin': '74048.57354', 'frequency': 0}, {'bin': '78611.701655', 'frequency': 0}, {'bin': '83174.82977', 'frequency': 0}, {'bin': '87737.957885', 'frequency': 1}], 'statisticType': 'featureDistributions'}, {'featureName': 'team_id', 'frequencyDistribution': [{'bin': '1.0', 'frequency': 3}, {'bin': '3.45', 'frequency': 2}, {'bin': '5.9', 'frequency': 3}, {'bin': '8.35', 'frequency': 2}, {'bin': '10.8', 'frequency': 3}, {'bin': '13.25', 'frequency': 2}, {'bin': '15.7', 'frequency': 3}, {'bin': '18.15', 'frequency': 2}, {'bin': '20.6', 'frequency': 3}, {'bin': '23.05', 'frequency': 2}, {'bin': '25.5', 'frequency': 2}, {'bin': '27.95', 'frequency': 3}, {'bin': '30.4', 'frequency': 2}, {'bin': '32.85', 'frequency': 3}, {'bin': '35.3', 'frequency': 2}, {'bin': '37.75', 'frequency': 3}, {'bin': '40.2', 'frequency': 2}, {'bin': '42.65', 'frequency': 3}, {'bin': '45.1', 'frequency': 2}, {'bin': '47.55', 'frequency': 3}], 'statisticType': 'featureDistributions'}]}, 'featurestoreId': 1, 'featurestoreName': 'demo_featurestore_admin000_featurestore', 'id': 9, 'inodeId': 102947, 'jobId': None, 'jobName': None, 'jobStatus': None, 'lastComputed': None, 'name': 'attendances_features', 'version': 1, 'hdfsStorePaths': ['hdfs://10.0.2.15:8020/apps/hive/warehouse/demo_featurestore_admin000_featurestore.db/attendances_features_1']}, {'clusterAnalysis': {'dataPoints': [{'datapointName': '0', 'firstDimension': 33369.906, 'secondDimension': -1284.7892}, {'datapointName': '1', 'firstDimension': 32787.223, 'secondDimension': -1855.5305}, {'datapointName': '2', 'firstDimension': 32787.223, 'secondDimension': -1855.5305}, {'datapointName': '3', 'firstDimension': 40840.816, 'secondDimension': -2103.4417}, {'datapointName': '4', 'firstDimension': 87847.74, 'secondDimension': 835.18945}, {'datapointName': '5', 'firstDimension': 22638.941, 'secondDimension': -3037.8757}, {'datapointName': '6', 'firstDimension': 76402.32, 'secondDimension': 3695.4165}, {'datapointName': '7', 'firstDimension': 76402.32, 'secondDimension': 3695.4165}, {'datapointName': '8', 'firstDimension': 398553.06, 'secondDimension': -7644.2144}, {'datapointName': '9', 'firstDimension': 398553.06, 'secondDimension': -7644.2144}, {'datapointName': '10', 'firstDimension': 398553.06, 'secondDimension': -7644.2144}, {'datapointName': '11', 'firstDimension': 55877.836, 'secondDimension': 2008.1047}, {'datapointName': '12', 'firstDimension': 245300.28, 'secondDimension': 6091.7764}, {'datapointName': '13', 'firstDimension': 58632.797, 'secondDimension': 656.9379}, {'datapointName': '14', 'firstDimension': 75424.83, 'secondDimension': -5578.5474}, {'datapointName': '15', 'firstDimension': 29098.494, 'secondDimension': -3622.9968}, {'datapointName': '16', 'firstDimension': 67815.945, 'secondDimension': 232.88847}, {'datapointName': '17', 'firstDimension': 67815.945, 'secondDimension': 232.88847}, {'datapointName': '18', 'firstDimension': 299946.0, 'secondDimension': 6773.9907}, {'datapointName': '19', 'firstDimension': 299946.0, 'secondDimension': 6773.9907}, {'datapointName': '20', 'firstDimension': 299946.0, 'secondDimension': 6773.9907}, {'datapointName': '21', 'firstDimension': 136928.58, 'secondDimension': -4311.81}, {'datapointName': '22', 'firstDimension': 136928.58, 'secondDimension': -4311.81}, {'datapointName': '23', 'firstDimension': 45447.15, 'secondDimension': -1796.3315}, {'datapointName': '24', 'firstDimension': 45447.15, 'secondDimension': -1796.3315}, {'datapointName': '25', 'firstDimension': 28227.902, 'secondDimension': -1345.8495}, {'datapointName': '26', 'firstDimension': 28227.902, 'secondDimension': -1345.8495}, {'datapointName': '27', 'firstDimension': 25920.299, 'secondDimension': -150.2023}, {'datapointName': '28', 'firstDimension': 25920.299, 'secondDimension': -150.2023}, {'datapointName': '29', 'firstDimension': 47860.74, 'secondDimension': -2329.314}, {'datapointName': '30', 'firstDimension': 47860.74, 'secondDimension': -2329.314}, {'datapointName': '31', 'firstDimension': 47860.74, 'secondDimension': -2329.314}, {'datapointName': '32', 'firstDimension': 46908.492, 'secondDimension': 3702.4814}, {'datapointName': '33', 'firstDimension': 38005.863, 'secondDimension': -938.0895}, {'datapointName': '34', 'firstDimension': 56238.5, 'secondDimension': -44.81773}, {'datapointName': '35', 'firstDimension': 56238.5, 'secondDimension': -44.81773}, {'datapointName': '36', 'firstDimension': 56238.5, 'secondDimension': -44.81773}, {'datapointName': '37', 'firstDimension': 33760.77, 'secondDimension': -2436.9624}, {'datapointName': '38', 'firstDimension': 33760.77, 'secondDimension': -2436.9624}, {'datapointName': '39', 'firstDimension': 32723.65, 'secondDimension': -684.7565}, {'datapointName': '40', 'firstDimension': 32723.65, 'secondDimension': -684.7565}, {'datapointName': '41', 'firstDimension': 85983.586, 'secondDimension': -3461.9277}, {'datapointName': '42', 'firstDimension': 85983.586, 'secondDimension': -3461.9277}, {'datapointName': '43', 'firstDimension': 85983.586, 'secondDimension': -3461.9277}, {'datapointName': '44', 'firstDimension': 28410.096, 'secondDimension': -167.77852}, {'datapointName': '45', 'firstDimension': 36398.91, 'secondDimension': -1447.5342}, {'datapointName': '46', 'firstDimension': 36398.91, 'secondDimension': -1447.5342}, {'datapointName': '47', 'firstDimension': 36398.91, 'secondDimension': -1447.5342}, {'datapointName': '48', 'firstDimension': 36398.91, 'secondDimension': -1447.5342}, {'datapointName': '49', 'firstDimension': 23692.979, 'secondDimension': -2039.4222}, {'datapointName': '50', 'firstDimension': 66055.21, 'secondDimension': -6143.541}, {'datapointName': '51', 'firstDimension': 31900.184, 'secondDimension': -1207.953}], 'clusters': [{'datapointName': '0', 'cluster': 0}, {'datapointName': '1', 'cluster': 0}, {'datapointName': '2', 'cluster': 0}, {'datapointName': '3', 'cluster': 0}, {'datapointName': '4', 'cluster': 4}, {'datapointName': '5', 'cluster': 0}, {'datapointName': '6', 'cluster': 4}, {'datapointName': '7', 'cluster': 4}, {'datapointName': '8', 'cluster': 3}, {'datapointName': '9', 'cluster': 3}, {'datapointName': '10', 'cluster': 3}, {'datapointName': '11', 'cluster': 0}, {'datapointName': '12', 'cluster': 3}, {'datapointName': '13', 'cluster': 0}, {'datapointName': '14', 'cluster': 4}, {'datapointName': '15', 'cluster': 0}, {'datapointName': '16', 'cluster': 4}, {'datapointName': '17', 'cluster': 4}, {'datapointName': '18', 'cluster': 3}, {'datapointName': '19', 'cluster': 3}, {'datapointName': '20', 'cluster': 3}, {'datapointName': '21', 'cluster': 4}, {'datapointName': '22', 'cluster': 4}, {'datapointName': '23', 'cluster': 0}, {'datapointName': '24', 'cluster': 0}, {'datapointName': '25', 'cluster': 0}, {'datapointName': '26', 'cluster': 0}, {'datapointName': '27', 'cluster': 0}, {'datapointName': '28', 'cluster': 0}, {'datapointName': '29', 'cluster': 0}, {'datapointName': '30', 'cluster': 0}, {'datapointName': '31', 'cluster': 0}, {'datapointName': '32', 'cluster': 0}, {'datapointName': '33', 'cluster': 0}, {'datapointName': '34', 'cluster': 0}, {'datapointName': '35', 'cluster': 0}, {'datapointName': '36', 'cluster': 0}, {'datapointName': '37', 'cluster': 0}, {'datapointName': '38', 'cluster': 0}, {'datapointName': '39', 'cluster': 0}, {'datapointName': '40', 'cluster': 0}, {'datapointName': '41', 'cluster': 4}, {'datapointName': '42', 'cluster': 4}, {'datapointName': '43', 'cluster': 4}, {'datapointName': '44', 'cluster': 0}, {'datapointName': '45', 'cluster': 0}, {'datapointName': '46', 'cluster': 0}, {'datapointName': '47', 'cluster': 0}, {'datapointName': '48', 'cluster': 0}, {'datapointName': '49', 'cluster': 0}, {'datapointName': '50', 'cluster': 4}, {'datapointName': '51', 'cluster': 0}], 'statisticType': 'clusterAnalysis'}, 'created': '2019-03-06T07:01:59Z', 'creator': 'admin@kth.se', 'dependencies': [{'path': '/Projects/demo_featurestore_admin000/TestJob/data/players.csv', 'modification': '2019-03-06T06:52:15.265Z', 'inodeId': 100326, 'dir': False}], 'description': 'Aggregate features of players football teams', 'descriptiveStatistics': {'descriptiveStats': [{'featureName': 'sum_player_age', 'metricValues': [{'metricName': 'count', 'value': 50.0}, {'metricName': 'mean', 'value': 2556.84}, {'metricName': 'stddev', 'value': 52.29132}, {'metricName': 'min', 'value': 2434.0}, {'metricName': 'max', 'value': 2700.0}], 'statisticType': 'descriptiveStatistics'}, {'featureName': 'sum_player_worth', 'metricValues': [{'metricName': 'count', 'value': 50.0}, {'metricName': 'mean', 'value': 73451.31}, {'metricName': 'stddev', 'value': 128564.73}, {'metricName': 'min', 'value': 14229.664}, {'metricName': 'max', 'value': 792043.25}], 'statisticType': 'descriptiveStatistics'}, {'featureName': 'sum_player_rating', 'metricValues': [{'metricName': 'count', 'value': 50.0}, {'metricName': 'mean', 'value': 71738.375}, {'metricName': 'stddev', 'value': 118708.75}, {'metricName': 'min', 'value': 15096.327}, {'metricName': 'max', 'value': 719186.3}], 'statisticType': 'descriptiveStatistics'}, {'featureName': 'average_player_worth', 'metricValues': [{'metricName': 'count', 'value': 50.0}, {'metricName': 'mean', 'value': 734.5131}, {'metricName': 'stddev', 'value': 1285.6472}, {'metricName': 'min', 'value': 142.29665}, {'metricName': 'max', 'value': 7920.4326}], 'statisticType': 'descriptiveStatistics'}, {'featureName': 'average_player_age', 'metricValues': [{'metricName': 'count', 'value': 50.0}, {'metricName': 'mean', 'value': 25.5684}, {'metricName': 'stddev', 'value': 0.5229132}, {'metricName': 'min', 'value': 24.34}, {'metricName': 'max', 'value': 27.0}], 'statisticType': 'descriptiveStatistics'}, {'featureName': 'team_id', 'metricValues': [{'metricName': 'count', 'value': 50.0}, {'metricName': 'mean', 'value': 25.5}, {'metricName': 'stddev', 'value': 14.57738}, {'metricName': 'min', 'value': 1.0}, {'metricName': 'max', 'value': 50.0}], 'statisticType': 'descriptiveStatistics'}, {'featureName': 'average_player_rating', 'metricValues': [{'metricName': 'count', 'value': 50.0}, {'metricName': 'mean', 'value': 717.3837}, {'metricName': 'stddev', 'value': 1187.0875}, {'metricName': 'min', 'value': 150.96327}, {'metricName': 'max', 'value': 7191.8633}], 'statisticType': 'descriptiveStatistics'}]}, 'featureCorrelationMatrix': {'featureCorrelations': [{'featureName': 'sum_player_age', 'correlationValues': [{'featureName': 'team_id', 'correlation': 0.0953114, 'statisticType': 'featureCorrelations'}, {'featureName': 'average_player_rating', 'correlation': 0.010855618, 'statisticType': 'featureCorrelations'}, {'featureName': 'average_player_age', 'correlation': 1.0, 'statisticType': 'featureCorrelations'}, {'featureName': 'average_player_worth', 'correlation': 0.029155757, 'statisticType': 'featureCorrelations'}, {'featureName': 'sum_player_rating', 'correlation': 0.010855612, 'statisticType': 'featureCorrelations'}, {'featureName': 'sum_player_age', 'correlation': 1.0, 'statisticType': 'featureCorrelations'}, {'featureName': 'sum_player_worth', 'correlation': 0.029155757, 'statisticType': 'featureCorrelations'}]}, {'featureName': 'sum_player_worth', 'correlationValues': [{'featureName': 'team_id', 'correlation': -0.5864697, 'statisticType': 'featureCorrelations'}, {'featureName': 'average_player_rating', 'correlation': 0.998223, 'statisticType': 'featureCorrelations'}, {'featureName': 'average_player_age', 'correlation': 0.029155612, 'statisticType': 'featureCorrelations'}, {'featureName': 'average_player_worth', 'correlation': 1.0, 'statisticType': 'featureCorrelations'}, {'featureName': 'sum_player_rating', 'correlation': 0.998223, 'statisticType': 'featureCorrelations'}, {'featureName': 'sum_player_age', 'correlation': 0.029155757, 'statisticType': 'featureCorrelations'}, {'featureName': 'sum_player_worth', 'correlation': 1.0, 'statisticType': 'featureCorrelations'}]}, {'featureName': 'sum_player_rating', 'correlationValues': [{'featureName': 'team_id', 'correlation': -0.6029558, 'statisticType': 'featureCorrelations'}, {'featureName': 'average_player_rating', 'correlation': 1.0, 'statisticType': 'featureCorrelations'}, {'featureName': 'average_player_age', 'correlation': 0.010855475, 'statisticType': 'featureCorrelations'}, {'featureName': 'average_player_worth', 'correlation': 0.998223, 'statisticType': 'featureCorrelations'}, {'featureName': 'sum_player_rating', 'correlation': 1.0, 'statisticType': 'featureCorrelations'}, {'featureName': 'sum_player_age', 'correlation': 0.010855612, 'statisticType': 'featureCorrelations'}, {'featureName': 'sum_player_worth', 'correlation': 0.998223, 'statisticType': 'featureCorrelations'}]}, {'featureName': 'average_player_worth', 'correlationValues': [{'featureName': 'team_id', 'correlation': -0.5864697, 'statisticType': 'featureCorrelations'}, {'featureName': 'average_player_rating', 'correlation': 0.998223, 'statisticType': 'featureCorrelations'}, {'featureName': 'average_player_age', 'correlation': 0.029155612, 'statisticType': 'featureCorrelations'}, {'featureName': 'average_player_worth', 'correlation': 1.0, 'statisticType': 'featureCorrelations'}, {'featureName': 'sum_player_rating', 'correlation': 0.998223, 'statisticType': 'featureCorrelations'}, {'featureName': 'sum_player_age', 'correlation': 0.029155757, 'statisticType': 'featureCorrelations'}, {'featureName': 'sum_player_worth', 'correlation': 1.0, 'statisticType': 'featureCorrelations'}]}, {'featureName': 'average_player_age', 'correlationValues': [{'featureName': 'team_id', 'correlation': 0.095311314, 'statisticType': 'featureCorrelations'}, {'featureName': 'average_player_rating', 'correlation': 0.010855481, 'statisticType': 'featureCorrelations'}, {'featureName': 'average_player_age', 'correlation': 1.0, 'statisticType': 'featureCorrelations'}, {'featureName': 'average_player_worth', 'correlation': 0.029155612, 'statisticType': 'featureCorrelations'}, {'featureName': 'sum_player_rating', 'correlation': 0.010855475, 'statisticType': 'featureCorrelations'}, {'featureName': 'sum_player_age', 'correlation': 1.0, 'statisticType': 'featureCorrelations'}, {'featureName': 'sum_player_worth', 'correlation': 0.029155612, 'statisticType': 'featureCorrelations'}]}, {'featureName': 'team_id', 'correlationValues': [{'featureName': 'team_id', 'correlation': 1.0, 'statisticType': 'featureCorrelations'}, {'featureName': 'average_player_rating', 'correlation': -0.6029558, 'statisticType': 'featureCorrelations'}, {'featureName': 'average_player_age', 'correlation': 0.095311314, 'statisticType': 'featureCorrelations'}, {'featureName': 'average_player_worth', 'correlation': -0.5864697, 'statisticType': 'featureCorrelations'}, {'featureName': 'sum_player_rating', 'correlation': -0.6029558, 'statisticType': 'featureCorrelations'}, {'featureName': 'sum_player_age', 'correlation': 0.0953114, 'statisticType': 'featureCorrelations'}, {'featureName': 'sum_player_worth', 'correlation': -0.5864697, 'statisticType': 'featureCorrelations'}]}, {'featureName': 'average_player_rating', 'correlationValues': [{'featureName': 'team_id', 'correlation': -0.6029558, 'statisticType': 'featureCorrelations'}, {'featureName': 'average_player_rating', 'correlation': 1.0, 'statisticType': 'featureCorrelations'}, {'featureName': 'average_player_age', 'correlation': 0.010855481, 'statisticType': 'featureCorrelations'}, {'featureName': 'average_player_worth', 'correlation': 0.998223, 'statisticType': 'featureCorrelations'}, {'featureName': 'sum_player_rating', 'correlation': 1.0, 'statisticType': 'featureCorrelations'}, {'featureName': 'sum_player_age', 'correlation': 0.010855618, 'statisticType': 'featureCorrelations'}, {'featureName': 'sum_player_worth', 'correlation': 0.998223, 'statisticType': 'featureCorrelations'}]}]}, 'features': [{'name': 'average_player_age', 'type': 'float', 'description': '-', 'primary': False}, {'name': 'average_player_rating', 'type': 'float', 'description': '-', 'primary': False}, {'name': 'average_player_worth', 'type': 'float', 'description': '-', 'primary': False}, {'name': 'sum_player_age', 'type': 'float', 'description': '-', 'primary': False}, {'name': 'sum_player_rating', 'type': 'float', 'description': '-', 'primary': False}, {'name': 'sum_player_worth', 'type': 'float', 'description': '-', 'primary': False}, {'name': 'team_id', 'type': 'int', 'description': '-', 'primary': True}], 'featuresHistogram': {'featureDistributions': [{'featureName': 'team_id', 'frequencyDistribution': [{'bin': '3.45', 'frequency': 3}, {'bin': '5.9', 'frequency': 2}, {'bin': '8.35', 'frequency': 3}, {'bin': '10.8', 'frequency': 2}, {'bin': '13.25', 'frequency': 3}, {'bin': '15.7', 'frequency': 2}, {'bin': '18.15', 'frequency': 3}, {'bin': '20.6', 'frequency': 2}, {'bin': '23.05', 'frequency': 3}, {'bin': '25.5', 'frequency': 2}, {'bin': '27.95', 'frequency': 2}, {'bin': '30.4', 'frequency': 3}, {'bin': '32.85', 'frequency': 2}, {'bin': '35.3', 'frequency': 3}, {'bin': '37.75', 'frequency': 2}, {'bin': '40.2', 'frequency': 3}, {'bin': '42.65', 'frequency': 2}, {'bin': '45.1', 'frequency': 3}, {'bin': '47.55', 'frequency': 2}, {'bin': '50.0', 'frequency': 3}], 'statisticType': 'featureDistributions'}, {'featureName': 'average_player_rating', 'frequencyDistribution': [{'bin': '503.0082725524902', 'frequency': 35}, {'bin': '855.0532730102539', 'frequency': 6}, {'bin': '1207.0982734680176', 'frequency': 2}, {'bin': '1559.1432739257812', 'frequency': 2}, {'bin': '1911.188274383545', 'frequency': 1}, {'bin': '2263.2332748413087', 'frequency': 1}, {'bin': '2615.2782752990724', 'frequency': 0}, {'bin': '2967.3232757568358', 'frequency': 1}, {'bin': '3319.3682762145995', 'frequency': 0}, {'bin': '3671.4132766723633', 'frequency': 0}, {'bin': '4023.458277130127', 'frequency': 0}, {'bin': '4375.503277587891', 'frequency': 1}, {'bin': '4727.548278045654', 'frequency': 0}, {'bin': '5079.593278503418', 'frequency': 0}, {'bin': '5431.638278961182', 'frequency': 0}, {'bin': '5783.683279418945', 'frequency': 0}, {'bin': '6135.728279876709', 'frequency': 0}, {'bin': '6487.7732803344725', 'frequency': 0}, {'bin': '6839.818280792237', 'frequency': 0}, {'bin': '7191.86328125', 'frequency': 1}], 'statisticType': 'featureDistributions'}, {'featureName': 'average_player_age', 'frequencyDistribution': [{'bin': '24.473000144958498', 'frequency': 1}, {'bin': '24.6060001373291', 'frequency': 1}, {'bin': '24.739000129699708', 'frequency': 1}, {'bin': '24.87200012207031', 'frequency': 2}, {'bin': '25.005000114440918', 'frequency': 2}, {'bin': '25.138000106811525', 'frequency': 3}, {'bin': '25.271000099182128', 'frequency': 2}, {'bin': '25.404000091552735', 'frequency': 6}, {'bin': '25.53700008392334', 'frequency': 6}, {'bin': '25.670000076293945', 'frequency': 4}, {'bin': '25.803000068664552', 'frequency': 8}, {'bin': '25.936000061035156', 'frequency': 5}, {'bin': '26.069000053405762', 'frequency': 2}, {'bin': '26.202000045776366', 'frequency': 2}, {'bin': '26.335000038146973', 'frequency': 2}, {'bin': '26.46800003051758', 'frequency': 1}, {'bin': '26.601000022888183', 'frequency': 0}, {'bin': '26.73400001525879', 'frequency': 1}, {'bin': '26.867000007629393', 'frequency': 0}, {'bin': '27.0', 'frequency': 1}], 'statisticType': 'featureDistributions'}, {'featureName': 'average_player_worth', 'frequencyDistribution': [{'bin': '531.2034446716309', 'frequency': 36}, {'bin': '920.1102432250976', 'frequency': 6}, {'bin': '1309.0170417785644', 'frequency': 2}, {'bin': '1697.9238403320312', 'frequency': 1}, {'bin': '2086.830638885498', 'frequency': 1}, {'bin': '2475.7374374389647', 'frequency': 1}, {'bin': '2864.6442359924317', 'frequency': 1}, {'bin': '3253.5510345458983', 'frequency': 0}, {'bin': '3642.4578330993654', 'frequency': 0}, {'bin': '4031.364631652832', 'frequency': 0}, {'bin': '4420.271430206299', 'frequency': 1}, {'bin': '4809.178228759765', 'frequency': 0}, {'bin': '5198.085027313233', 'frequency': 0}, {'bin': '5586.991825866699', 'frequency': 0}, {'bin': '5975.898624420166', 'frequency': 0}, {'bin': '6364.805422973633', 'frequency': 0}, {'bin': '6753.712221527099', 'frequency': 0}, {'bin': '7142.619020080567', 'frequency': 0}, {'bin': '7531.525818634033', 'frequency': 0}, {'bin': '7920.4326171875', 'frequency': 1}], 'statisticType': 'featureDistributions'}, {'featureName': 'sum_player_rating', 'frequencyDistribution': [{'bin': '50300.826416015625', 'frequency': 35}, {'bin': '85505.32568359375', 'frequency': 6}, {'bin': '120709.82495117188', 'frequency': 2}, {'bin': '155914.32421875', 'frequency': 2}, {'bin': '191118.82348632812', 'frequency': 1}, {'bin': '226323.32275390625', 'frequency': 1}, {'bin': '261527.82202148438', 'frequency': 0}, {'bin': '296732.3212890625', 'frequency': 1}, {'bin': '331936.8205566406', 'frequency': 0}, {'bin': '367141.31982421875', 'frequency': 0}, {'bin': '402345.8190917969', 'frequency': 0}, {'bin': '437550.318359375', 'frequency': 1}, {'bin': '472754.8176269531', 'frequency': 0}, {'bin': '507959.31689453125', 'frequency': 0}, {'bin': '543163.8161621094', 'frequency': 0}, {'bin': '578368.3154296875', 'frequency': 0}, {'bin': '613572.8146972656', 'frequency': 0}, {'bin': '648777.3139648438', 'frequency': 0}, {'bin': '683981.8132324219', 'frequency': 0}, {'bin': '719186.3125', 'frequency': 1}], 'statisticType': 'featureDistributions'}, {'featureName': 'sum_player_age', 'frequencyDistribution': [{'bin': '2447.3', 'frequency': 1}, {'bin': '2460.6', 'frequency': 1}, {'bin': '2473.9', 'frequency': 1}, {'bin': '2487.2', 'frequency': 2}, {'bin': '2500.5', 'frequency': 2}, {'bin': '2513.8', 'frequency': 3}, {'bin': '2527.1', 'frequency': 2}, {'bin': '2540.4', 'frequency': 6}, {'bin': '2553.7', 'frequency': 6}, {'bin': '2567.0', 'frequency': 4}, {'bin': '2580.3', 'frequency': 8}, {'bin': '2593.6', 'frequency': 5}, {'bin': '2606.9', 'frequency': 2}, {'bin': '2620.2', 'frequency': 2}, {'bin': '2633.5', 'frequency': 2}, {'bin': '2646.8', 'frequency': 1}, {'bin': '2660.1', 'frequency': 0}, {'bin': '2673.4', 'frequency': 1}, {'bin': '2686.7', 'frequency': 0}, {'bin': '2700.0', 'frequency': 1}], 'statisticType': 'featureDistributions'}, {'featureName': 'sum_player_worth', 'frequencyDistribution': [{'bin': '53120.343359375', 'frequency': 36}, {'bin': '92011.02265625', 'frequency': 6}, {'bin': '130901.701953125', 'frequency': 2}, {'bin': '169792.38125', 'frequency': 1}, {'bin': '208683.060546875', 'frequency': 1}, {'bin': '247573.73984375', 'frequency': 1}, {'bin': '286464.419140625', 'frequency': 1}, {'bin': '325355.0984375', 'frequency': 0}, {'bin': '364245.777734375', 'frequency': 0}, {'bin': '403136.45703125', 'frequency': 0}, {'bin': '442027.136328125', 'frequency': 1}, {'bin': '480917.815625', 'frequency': 0}, {'bin': '519808.494921875', 'frequency': 0}, {'bin': '558699.17421875', 'frequency': 0}, {'bin': '597589.853515625', 'frequency': 0}, {'bin': '636480.5328125', 'frequency': 0}, {'bin': '675371.212109375', 'frequency': 0}, {'bin': '714261.89140625', 'frequency': 0}, {'bin': '753152.570703125', 'frequency': 0}, {'bin': '792043.25', 'frequency': 1}], 'statisticType': 'featureDistributions'}]}, 'featurestoreId': 1, 'featurestoreName': 'demo_featurestore_admin000_featurestore', 'id': 4, 'inodeId': 100683, 'jobId': 1, 'jobName': 'featurestore_tour_job', 'jobStatus': 'Succeeded', 'lastComputed': '2019-03-06T06:52:39Z', 'name': 'players_features', 'version': 1, 'hdfsStorePaths': ['hdfs://10.0.2.15:8020/apps/hive/warehouse/demo_featurestore_admin000_featurestore.db/players_features_1']}, {'clusterAnalysis': {'dataPoints': [{'datapointName': '0', 'firstDimension': -12957.075, 'secondDimension': 4.019503}, {'datapointName': '1', 'firstDimension': -3390.377, 'secondDimension': -2.8208427}, {'datapointName': '2', 'firstDimension': -13547.431, 'secondDimension': 0.02443478}, {'datapointName': '3', 'firstDimension': -9678.335, 'secondDimension': -3.0123339}, {'datapointName': '4', 'firstDimension': -7307.943, 'secondDimension': -5.420602}, {'datapointName': '5', 'firstDimension': -9469.994, 'secondDimension': -5.9281316}, {'datapointName': '6', 'firstDimension': -2248.7805, 'secondDimension': -10.370654}, {'datapointName': '7', 'firstDimension': -12474.423, 'secondDimension': -7.496613}, {'datapointName': '8', 'firstDimension': -6101.9785, 'secondDimension': -14.411621}, {'datapointName': '9', 'firstDimension': -21319.54, 'secondDimension': -9.444155}, {'datapointName': '10', 'firstDimension': -21319.54, 'secondDimension': -9.444155}, {'datapointName': '11', 'firstDimension': -11698.146, 'secondDimension': -14.893223}, {'datapointName': '12', 'firstDimension': -11698.146, 'secondDimension': -14.893223}, {'datapointName': '13', 'firstDimension': -11698.146, 'secondDimension': -14.893223}, {'datapointName': '14', 'firstDimension': -7326.101, 'secondDimension': -19.555124}, {'datapointName': '15', 'firstDimension': -7326.101, 'secondDimension': -19.555124}, {'datapointName': '16', 'firstDimension': -7326.101, 'secondDimension': -19.555124}, {'datapointName': '17', 'firstDimension': -7326.101, 'secondDimension': -19.555124}, {'datapointName': '18', 'firstDimension': -10477.938, 'secondDimension': -21.061789}, {'datapointName': '19', 'firstDimension': -10477.938, 'secondDimension': -21.061789}, {'datapointName': '20', 'firstDimension': -13022.451, 'secondDimension': -21.408928}, {'datapointName': '21', 'firstDimension': -12494.667, 'secondDimension': -24.458687}, {'datapointName': '22', 'firstDimension': -12433.25, 'secondDimension': -25.898657}, {'datapointName': '23', 'firstDimension': -760.8871, 'secondDimension': -33.62204}, {'datapointName': '24', 'firstDimension': -760.8871, 'secondDimension': -33.62204}, {'datapointName': '25', 'firstDimension': -760.8871, 'secondDimension': -33.62204}, {'datapointName': '26', 'firstDimension': -930.4122, 'secondDimension': -34.96516}, {'datapointName': '27', 'firstDimension': -930.4122, 'secondDimension': -34.96516}, {'datapointName': '28', 'firstDimension': -3966.3748, 'secondDimension': -36.52042}, {'datapointName': '29', 'firstDimension': -3839.0916, 'secondDimension': -37.98801}, {'datapointName': '30', 'firstDimension': -8516.295, 'secondDimension': -37.44078}, {'datapointName': '31', 'firstDimension': -12514.579, 'secondDimension': -38.592476}, {'datapointName': '32', 'firstDimension': -12514.579, 'secondDimension': -38.592476}, {'datapointName': '33', 'firstDimension': -8154.7446, 'secondDimension': -43.249256}, {'datapointName': '34', 'firstDimension': -8154.7446, 'secondDimension': -43.249256}, {'datapointName': '35', 'firstDimension': -4134.115, 'secondDimension': -59.077496}, {'datapointName': '36', 'firstDimension': -12510.729, 'secondDimension': -56.978867}, {'datapointName': '37', 'firstDimension': -12344.732, 'secondDimension': -58.462692}, {'datapointName': '38', 'firstDimension': -15072.089, 'secondDimension': -60.14737}, {'datapointName': '39', 'firstDimension': -15072.089, 'secondDimension': -60.14737}, {'datapointName': '40', 'firstDimension': -14551.444, 'secondDimension': -63.194134}, {'datapointName': '41', 'firstDimension': -14551.444, 'secondDimension': -63.194134}, {'datapointName': '42', 'firstDimension': -14551.444, 'secondDimension': -63.194134}, {'datapointName': '43', 'firstDimension': -8320.679, 'secondDimension': -67.2213}, {'datapointName': '44', 'firstDimension': -8320.679, 'secondDimension': -67.2213}, {'datapointName': '45', 'firstDimension': -8320.679, 'secondDimension': -67.2213}], 'clusters': [{'datapointName': '0', 'cluster': 0}, {'datapointName': '1', 'cluster': 2}, {'datapointName': '2', 'cluster': 0}, {'datapointName': '3', 'cluster': 1}, {'datapointName': '4', 'cluster': 1}, {'datapointName': '5', 'cluster': 1}, {'datapointName': '6', 'cluster': 2}, {'datapointName': '7', 'cluster': 0}, {'datapointName': '8', 'cluster': 1}, {'datapointName': '9', 'cluster': 4}, {'datapointName': '10', 'cluster': 4}, {'datapointName': '11', 'cluster': 0}, {'datapointName': '12', 'cluster': 0}, {'datapointName': '13', 'cluster': 0}, {'datapointName': '14', 'cluster': 1}, {'datapointName': '15', 'cluster': 1}, {'datapointName': '16', 'cluster': 1}, {'datapointName': '17', 'cluster': 1}, {'datapointName': '18', 'cluster': 0}, {'datapointName': '19', 'cluster': 0}, {'datapointName': '20', 'cluster': 0}, {'datapointName': '21', 'cluster': 0}, {'datapointName': '22', 'cluster': 0}, {'datapointName': '23', 'cluster': 2}, {'datapointName': '24', 'cluster': 2}, {'datapointName': '25', 'cluster': 2}, {'datapointName': '26', 'cluster': 2}, {'datapointName': '27', 'cluster': 2}, {'datapointName': '28', 'cluster': 2}, {'datapointName': '29', 'cluster': 2}, {'datapointName': '30', 'cluster': 1}, {'datapointName': '31', 'cluster': 0}, {'datapointName': '32', 'cluster': 0}, {'datapointName': '33', 'cluster': 1}, {'datapointName': '34', 'cluster': 1}, {'datapointName': '35', 'cluster': 2}, {'datapointName': '36', 'cluster': 0}, {'datapointName': '37', 'cluster': 0}, {'datapointName': '38', 'cluster': 3}, {'datapointName': '39', 'cluster': 3}, {'datapointName': '40', 'cluster': 3}, {'datapointName': '41', 'cluster': 3}, {'datapointName': '42', 'cluster': 3}, {'datapointName': '43', 'cluster': 1}, {'datapointName': '44', 'cluster': 1}, {'datapointName': '45', 'cluster': 1}], 'statisticType': 'clusterAnalysis'}, 'created': '2019-03-06T08:32:06Z', 'creator': 'admin@kth.se', 'dependencies': [], 'description': 'a spanish version of teams_features', 'descriptiveStatistics': {'descriptiveStats': [{'featureName': 'team_position', 'metricValues': [{'metricName': 'count', 'value': 50.0}, {'metricName': 'mean', 'value': 25.5}, {'metricName': 'stddev', 'value': 14.57738}, {'metricName': 'min', 'value': 1.0}, {'metricName': 'max', 'value': 50.0}], 'statisticType': 'descriptiveStatistics'}, {'featureName': 'team_id', 'metricValues': [{'metricName': 'count', 'value': 50.0}, {'metricName': 'mean', 'value': 25.5}, {'metricName': 'stddev', 'value': 14.57738}, {'metricName': 'min', 'value': 1.0}, {'metricName': 'max', 'value': 50.0}], 'statisticType': 'descriptiveStatistics'}, {'featureName': 'team_budget', 'metricValues': [{'metricName': 'count', 'value': 50.0}, {'metricName': 'mean', 'value': 8723.292}, {'metricName': 'stddev', 'value': 5238.943}, {'metricName': 'min', 'value': 760.8729}, {'metricName': 'max', 'value': 21319.533}], 'statisticType': 'descriptiveStatistics'}]}, 'featureCorrelationMatrix': {'featureCorrelations': [{'featureName': 'team_position', 'correlationValues': [{'featureName': 'team_position', 'correlation': 1.0, 'statisticType': 'featureCorrelations'}, {'featureName': 'team_id', 'correlation': 1.0, 'statisticType': 'featureCorrelations'}, {'featureName': 'team_budget', 'correlation': 0.058723483, 'statisticType': 'featureCorrelations'}]}, {'featureName': 'team_budget', 'correlationValues': [{'featureName': 'team_position', 'correlation': 0.058723483, 'statisticType': 'featureCorrelations'}, {'featureName': 'team_id', 'correlation': 0.058723483, 'statisticType': 'featureCorrelations'}, {'featureName': 'team_budget', 'correlation': 1.0, 'statisticType': 'featureCorrelations'}]}, {'featureName': 'team_id', 'correlationValues': [{'featureName': 'team_position', 'correlation': 1.0, 'statisticType': 'featureCorrelations'}, {'featureName': 'team_id', 'correlation': 1.0, 'statisticType': 'featureCorrelations'}, {'featureName': 'team_budget', 'correlation': 0.058723483, 'statisticType': 'featureCorrelations'}]}]}, 'features': [{'name': 'team_budget', 'type': 'double', 'description': '-', 'primary': True}, {'name': 'team_id', 'type': 'int', 'description': '-', 'primary': False}, {'name': 'team_position', 'type': 'int', 'description': '-', 'primary': False}], 'featuresHistogram': {'featureDistributions': [{'featureName': 'team_position', 'frequencyDistribution': [{'bin': '1.0', 'frequency': 3}, {'bin': '3.45', 'frequency': 2}, {'bin': '5.9', 'frequency': 3}, {'bin': '8.35', 'frequency': 2}, {'bin': '10.8', 'frequency': 3}, {'bin': '13.25', 'frequency': 2}, {'bin': '15.7', 'frequency': 3}, {'bin': '18.15', 'frequency': 2}, {'bin': '20.6', 'frequency': 3}, {'bin': '23.05', 'frequency': 2}, {'bin': '25.5', 'frequency': 2}, {'bin': '27.95', 'frequency': 3}, {'bin': '30.4', 'frequency': 2}, {'bin': '32.85', 'frequency': 3}, {'bin': '35.3', 'frequency': 2}, {'bin': '37.75', 'frequency': 3}, {'bin': '40.2', 'frequency': 2}, {'bin': '42.65', 'frequency': 3}, {'bin': '45.1', 'frequency': 2}, {'bin': '47.55', 'frequency': 3}], 'statisticType': 'featureDistributions'}, {'featureName': 'team_id', 'frequencyDistribution': [{'bin': '1.0', 'frequency': 3}, {'bin': '3.45', 'frequency': 2}, {'bin': '5.9', 'frequency': 3}, {'bin': '8.35', 'frequency': 2}, {'bin': '10.8', 'frequency': 3}, {'bin': '13.25', 'frequency': 2}, {'bin': '15.7', 'frequency': 3}, {'bin': '18.15', 'frequency': 2}, {'bin': '20.6', 'frequency': 3}, {'bin': '23.05', 'frequency': 2}, {'bin': '25.5', 'frequency': 2}, {'bin': '27.95', 'frequency': 3}, {'bin': '30.4', 'frequency': 2}, {'bin': '32.85', 'frequency': 3}, {'bin': '35.3', 'frequency': 2}, {'bin': '37.75', 'frequency': 3}, {'bin': '40.2', 'frequency': 2}, {'bin': '42.65', 'frequency': 3}, {'bin': '45.1', 'frequency': 2}, {'bin': '47.55', 'frequency': 3}], 'statisticType': 'featureDistributions'}, {'featureName': 'team_budget', 'frequencyDistribution': [{'bin': '760.8729', 'frequency': 7}, {'bin': '1788.805905', 'frequency': 2}, {'bin': '2816.73891', 'frequency': 3}, {'bin': '3844.671915', 'frequency': 2}, {'bin': '4872.60492', 'frequency': 2}, {'bin': '5900.537925', 'frequency': 2}, {'bin': '6928.47093', 'frequency': 3}, {'bin': '7956.403935', 'frequency': 4}, {'bin': '8984.33694', 'frequency': 4}, {'bin': '10012.269945', 'frequency': 2}, {'bin': '11040.20295', 'frequency': 3}, {'bin': '12068.135955', 'frequency': 8}, {'bin': '13096.06896', 'frequency': 1}, {'bin': '14124.001965', 'frequency': 3}, {'bin': '15151.93497', 'frequency': 1}, {'bin': '16179.867975', 'frequency': 1}, {'bin': '17207.80098', 'frequency': 0}, {'bin': '18235.733985', 'frequency': 0}, {'bin': '19263.66699', 'frequency': 0}, {'bin': '20291.599995', 'frequency': 2}], 'statisticType': 'featureDistributions'}]}, 'featurestoreId': 1, 'featurestoreName': 'demo_featurestore_admin000_featurestore', 'id': 7, 'inodeId': 102920, 'jobId': None, 'jobName': None, 'jobStatus': None, 'lastComputed': None, 'name': 'teams_features', 'version': 1, 'hdfsStorePaths': ['hdfs://10.0.2.15:8020/apps/hive/warehouse/demo_featurestore_admin000_featurestore.db/teams_features_1']}, {'clusterAnalysis': None, 'created': '2019-03-06T08:33:08Z', 'creator': 'admin@kth.se', 'dependencies': [], 'description': 'a spanish version of teams_features', 'descriptiveStatistics': None, 'featureCorrelationMatrix': None, 'features': [{'name': 'equipo_id', 'type': 'int', 'description': '-', 'primary': False}, {'name': 'equipo_posicion', 'type': 'int', 'description': '-', 'primary': False}, {'name': 'equipo_presupuesto', 'type': 'double', 'description': '-', 'primary': True}], 'featuresHistogram': None, 'featurestoreId': 1, 'featurestoreName': 'demo_featurestore_admin000_featurestore', 'id': 11, 'inodeId': 102974, 'jobId': None, 'jobName': None, 'jobStatus': None, 'lastComputed': None, 'name': 'teams_features_spanish', 'version': 1, 'hdfsStorePaths': ['hdfs://10.0.2.15:8020/apps/hive/warehouse/demo_featurestore_admin000_featurestore.db/teams_features_spanish_1']}, {'clusterAnalysis': None, 'created': '2019-03-06T08:33:17Z', 'creator': 'admin@kth.se', 'dependencies': [], 'description': 'a spanish version of teams_features', 'descriptiveStatistics': None, 'featureCorrelationMatrix': None, 'features': [{'name': 'equipo_id', 'type': 'int', 'description': '-', 'primary': False}, {'name': 'equipo_posicion', 'type': 'int', 'description': '-', 'primary': False}, {'name': 'equipo_presupuesto', 'type': 'double', 'description': '-', 'primary': True}], 'featuresHistogram': None, 'featurestoreId': 1, 'featurestoreName': 'demo_featurestore_admin000_featurestore', 'id': 12, 'inodeId': 102987, 'jobId': None, 'jobName': None, 'jobStatus': None, 'lastComputed': None, 'name': 'teams_features_spanish', 'version': 2, 'hdfsStorePaths': ['hdfs://10.0.2.15:8020/apps/hive/warehouse/demo_featurestore_admin000_featurestore.db/teams_features_spanish_2']}], 'trainingDatasets': []}"
     ]
    }
   ],
   "source": [
    "featurestore.get_featurestore_metadata(update_cache=True)"
   ]
  },
  {
   "cell_type": "code",
   "execution_count": 129,
   "metadata": {},
   "outputs": [],
   "source": [
    "assert featurestore.project_featurestore() == hdfs.project_name() + \"_featurestore\""
   ]
  },
  {
   "cell_type": "code",
   "execution_count": 130,
   "metadata": {},
   "outputs": [],
   "source": [
    "assert featurestore.project_featurestore() in featurestore.get_project_featurestores()"
   ]
  },
  {
   "cell_type": "code",
   "execution_count": 131,
   "metadata": {},
   "outputs": [],
   "source": [
    "assert len(featurestore.get_project_featurestores()) == 1"
   ]
  },
  {
   "cell_type": "code",
   "execution_count": 132,
   "metadata": {},
   "outputs": [],
   "source": [
    "assert featurestore.get_latest_featuregroup_version(\"teams_features_spanish\") == 2"
   ]
  },
  {
   "cell_type": "code",
   "execution_count": 133,
   "metadata": {},
   "outputs": [],
   "source": [
    "assert featurestore.get_latest_featuregroup_version(\"teams_features\") == 1"
   ]
  },
  {
   "cell_type": "code",
   "execution_count": 134,
   "metadata": {},
   "outputs": [],
   "source": [
    "assert \"away_team_id\" in featurestore.get_features_list()"
   ]
  },
  {
   "cell_type": "code",
   "execution_count": 135,
   "metadata": {},
   "outputs": [],
   "source": [
    "assert \"home_team_id\" in featurestore.get_features_list()"
   ]
  },
  {
   "cell_type": "markdown",
   "metadata": {},
   "source": [
    "##### Test Read operations of Features and Feature Groups, \n",
    "\n",
    "- `featurestore.get_feature()`, \n",
    "- `featurestore.get_features()`, \n",
    "- `featurestore.get_featuregroup()`"
   ]
  },
  {
   "cell_type": "code",
   "execution_count": 136,
   "metadata": {},
   "outputs": [
    {
     "name": "stdout",
     "output_type": "stream",
     "text": [
      "Running sql: use demo_featurestore_admin000_featurestore\n",
      "Running sql: SELECT team_budget FROM teams_features_1"
     ]
    }
   ],
   "source": [
    "tmp = featurestore.get_feature(\"team_budget\")\n",
    "assert tmp.count() == 50\n",
    "assert len(tmp.columns) == 1\n",
    "assert \"team_budget\" in tmp.columns"
   ]
  },
  {
   "cell_type": "code",
   "execution_count": 137,
   "metadata": {},
   "outputs": [
    {
     "name": "stdout",
     "output_type": "stream",
     "text": [
      "Running sql: use demo_featurestore_admin000_featurestore\n",
      "Running sql: SELECT team_budget FROM teams_features_1"
     ]
    }
   ],
   "source": [
    "tmp = featurestore.get_feature(\n",
    "    \"team_budget\", \n",
    "    featurestore=featurestore.project_featurestore(), \n",
    "    featuregroup=\"teams_features\", \n",
    "    featuregroup_version = 1,\n",
    "    dataframe_type = \"spark\"\n",
    ")\n",
    "assert tmp.count() == 50\n",
    "assert len(tmp.columns) == 1\n",
    "assert \"team_budget\" in tmp.columns"
   ]
  },
  {
   "cell_type": "code",
   "execution_count": 138,
   "metadata": {},
   "outputs": [
    {
     "name": "stdout",
     "output_type": "stream",
     "text": [
      "Running sql: use demo_featurestore_admin000_featurestore\n",
      "Running sql: SELECT * FROM teams_features_1"
     ]
    }
   ],
   "source": [
    "tmp = featurestore.get_featuregroup(\"teams_features\")\n",
    "assert tmp.count() == 50\n",
    "assert len(tmp.columns) == 3\n",
    "assert \"team_budget\" in tmp.columns\n",
    "assert \"team_id\" in tmp.columns\n",
    "assert \"team_position\" in tmp.columns"
   ]
  },
  {
   "cell_type": "code",
   "execution_count": 139,
   "metadata": {},
   "outputs": [
    {
     "name": "stdout",
     "output_type": "stream",
     "text": [
      "Running sql: use demo_featurestore_admin000_featurestore\n",
      "Running sql: SELECT * FROM teams_features_1"
     ]
    }
   ],
   "source": [
    "tmp = featurestore.get_featuregroup(\n",
    "    \"teams_features\", \n",
    "    featurestore=featurestore.project_featurestore(), \n",
    "    featuregroup_version = 1,\n",
    "    dataframe_type = \"spark\"\n",
    ")\n",
    "assert tmp.count() == 50\n",
    "assert len(tmp.columns) == 3\n",
    "assert \"team_budget\" in tmp.columns\n",
    "assert \"team_id\" in tmp.columns\n",
    "assert \"team_position\" in tmp.columns"
   ]
  },
  {
   "cell_type": "code",
   "execution_count": 140,
   "metadata": {},
   "outputs": [
    {
     "name": "stdout",
     "output_type": "stream",
     "text": [
      "Running sql: use demo_featurestore_admin000_featurestore\n",
      "Running sql: SELECT team_budget, average_attendance FROM teams_features_1 JOIN attendances_features_1 ON teams_features_1.`team_id`=attendances_features_1.`team_id`"
     ]
    }
   ],
   "source": [
    "features = [\"team_budget\", \"average_attendance\"]\n",
    "tmp = featurestore.get_features(\n",
    "    features\n",
    ")\n",
    "assert set(features) == set(tmp.columns)\n",
    "assert tmp.count() == 50\n",
    "assert len(tmp.columns) == len(features)"
   ]
  },
  {
   "cell_type": "code",
   "execution_count": 141,
   "metadata": {},
   "outputs": [
    {
     "name": "stdout",
     "output_type": "stream",
     "text": [
      "Running sql: use demo_featurestore_admin000_featurestore\n",
      "Running sql: SELECT attendances_features_1.average_attendance, teams_features_1.team_budget FROM attendances_features_1 JOIN teams_features_1 ON attendances_features_1.`team_id`=teams_features_1.`team_id`"
     ]
    }
   ],
   "source": [
    "features = [\"teams_features_1.team_budget\", \"attendances_features_1.average_attendance\"]\n",
    "tmp = featurestore.get_features(features)\n",
    "assert set([\"team_budget\", \"average_attendance\"]) == set(tmp.columns)\n",
    "assert tmp.count() == 50\n",
    "assert len(tmp.columns) == len(features)"
   ]
  },
  {
   "cell_type": "code",
   "execution_count": 142,
   "metadata": {},
   "outputs": [
    {
     "name": "stdout",
     "output_type": "stream",
     "text": [
      "Running sql: use demo_featurestore_admin000_featurestore\n",
      "Running sql: SELECT team_budget, average_attendance FROM attendances_features_1 JOIN teams_features_1 ON attendances_features_1.`team_id`=teams_features_1.`team_id`"
     ]
    }
   ],
   "source": [
    "features = [\"team_budget\", \"average_attendance\"]\n",
    "tmp = featurestore.get_features(\n",
    "    features,\n",
    "    featurestore=featurestore.project_featurestore(),\n",
    "    featuregroups_version_dict={\n",
    "        \"teams_features\": 1, \n",
    "        \"attendances_features\": 1\n",
    "    }\n",
    ")\n",
    "assert set(features) == set(tmp.columns)\n",
    "assert tmp.count() == 50\n",
    "assert len(tmp.columns) == len(features)"
   ]
  },
  {
   "cell_type": "code",
   "execution_count": 143,
   "metadata": {},
   "outputs": [
    {
     "name": "stdout",
     "output_type": "stream",
     "text": [
      "Running sql: use demo_featurestore_admin000_featurestore\n",
      "Running sql: SELECT team_budget, average_attendance FROM teams_features_1 JOIN attendances_features_1 ON teams_features_1.`team_id`=attendances_features_1.`team_id`"
     ]
    }
   ],
   "source": [
    "tmp = featurestore.get_features(\n",
    "    features,\n",
    "    featurestore=featurestore.project_featurestore(),\n",
    "    featuregroups_version_dict={\n",
    "        \"teams_features\": 1, \n",
    "        \"attendances_features\": 1\n",
    "    },\n",
    "    join_key = \"team_id\",\n",
    "    dataframe_type = \"spark\"\n",
    ")\n",
    "assert set(features) == set(tmp.columns)\n",
    "assert tmp.count() == 50\n",
    "assert len(tmp.columns) == len(features)"
   ]
  },
  {
   "cell_type": "code",
   "execution_count": 144,
   "metadata": {},
   "outputs": [
    {
     "name": "stdout",
     "output_type": "stream",
     "text": [
      "Running sql: use demo_featurestore_admin000_featurestore\n",
      "Running sql: SELECT sum_attendance, team_budget, average_attendance, team_position FROM attendances_features_1 JOIN teams_features_1 ON attendances_features_1.`team_id`=teams_features_1.`team_id`"
     ]
    }
   ],
   "source": [
    "features = [\"team_budget\", \"average_attendance\",\n",
    "    \"team_position\", \"sum_attendance\"\n",
    "    ]\n",
    "tmp = featurestore.get_features(\n",
    "   features\n",
    ")\n",
    "assert set(features) == set(tmp.columns)\n",
    "assert tmp.count() == 50\n",
    "assert len(tmp.columns) == len(features)"
   ]
  },
  {
   "cell_type": "code",
   "execution_count": 145,
   "metadata": {},
   "outputs": [
    {
     "name": "stdout",
     "output_type": "stream",
     "text": [
      "Running sql: use demo_featurestore_admin000_featurestore\n",
      "Running sql: SELECT team_budget, team_id FROM teams_features_1"
     ]
    }
   ],
   "source": [
    "features = [\"team_budget\", \"team_id\"]\n",
    "tmp = featurestore.get_features(\n",
    "    features,\n",
    "    featuregroups_version_dict = {\n",
    "        \"teams_features\" : 1\n",
    "    }\n",
    ")\n",
    "assert set(features) == set(tmp.columns)\n",
    "assert tmp.count() == 50\n",
    "assert len(tmp.columns) == len(features)"
   ]
  },
  {
   "cell_type": "code",
   "execution_count": 146,
   "metadata": {},
   "outputs": [
    {
     "name": "stdout",
     "output_type": "stream",
     "text": [
      "Running sql: use demo_featurestore_admin000_featurestore\n",
      "Running sql: SELECT team_budget, score FROM teams_features_1 JOIN games_features_1 ON games_features_1.home_team_id = teams_features_1.team_id"
     ]
    }
   ],
   "source": [
    "tmp = featurestore.sql(\n",
    "    \"SELECT team_budget, score \" \\\n",
    "    \"FROM teams_features_1 JOIN games_features_1 ON \" \\\n",
    "    \"games_features_1.home_team_id = teams_features_1.team_id\")\n",
    "features = ['team_budget', 'score']\n",
    "assert set(features) == set(tmp.columns)\n",
    "assert tmp.count() == 49\n",
    "assert len(tmp.columns) == len(features)"
   ]
  },
  {
   "cell_type": "code",
   "execution_count": 147,
   "metadata": {},
   "outputs": [
    {
     "name": "stdout",
     "output_type": "stream",
     "text": [
      "Running sql: use demo_featurestore_admin000_featurestore\n",
      "Running sql: SELECT * FROM teams_features_1 WHERE team_position < 5"
     ]
    }
   ],
   "source": [
    "tmp = featurestore.sql(\"SELECT * FROM teams_features_1 WHERE team_position < 5\")\n",
    "assert len(tmp.columns) == 3\n",
    "assert \"team_budget\" in tmp.columns\n",
    "assert \"team_id\" in tmp.columns\n",
    "assert \"team_position\" in tmp.columns\n",
    "for x in tmp.toPandas()[\"team_position\"].values:\n",
    "    assert x < 5"
   ]
  },
  {
   "cell_type": "code",
   "execution_count": 148,
   "metadata": {},
   "outputs": [
    {
     "name": "stdout",
     "output_type": "stream",
     "text": [
      "Running sql: use demo_featurestore_admin000_featurestore\n",
      "Running sql: SELECT * FROM teams_features_1 WHERE team_position < 5"
     ]
    }
   ],
   "source": [
    "tmp = featurestore.sql(\"SELECT * FROM teams_features_1 WHERE team_position < 5\",\n",
    "                featurestore=featurestore.project_featurestore(), \n",
    "                 dataframe_type = \"spark\")\n",
    "assert len(tmp.columns) == 3\n",
    "assert \"team_budget\" in tmp.columns\n",
    "assert \"team_id\" in tmp.columns\n",
    "assert \"team_position\" in tmp.columns\n",
    "for x in tmp.toPandas()[\"team_position\"].values:\n",
    "    assert x < 5"
   ]
  },
  {
   "cell_type": "markdown",
   "metadata": {},
   "source": [
    "#####  Test Insert Operations in Existing Feature Groups, `featurestore.insert_into_featuregroup()`"
   ]
  },
  {
   "cell_type": "code",
   "execution_count": 149,
   "metadata": {},
   "outputs": [],
   "source": [
    "sqlContext = SQLContext(sc)\n",
    "schema = StructType([StructField(\"equipo_id\", IntegerType(), True),\n",
    "                     StructField(\"equipo_presupuesto\", FloatType(), True),\n",
    "                     StructField(\"equipo_posicion\", IntegerType(), True)\n",
    "                        ])\n",
    "sample_df = sqlContext.createDataFrame([(999, 41251.52, 1), (998, 1319.4, 8), (997, 21219.1, 2)], schema)\n",
    "insert_count = sample_df.count()\n",
    "assert insert_count == 3"
   ]
  },
  {
   "cell_type": "code",
   "execution_count": 150,
   "metadata": {},
   "outputs": [
    {
     "name": "stdout",
     "output_type": "stream",
     "text": [
      "Running sql: use demo_featurestore_admin000_featurestore\n",
      "Running sql: SELECT * FROM teams_features_spanish_1"
     ]
    }
   ],
   "source": [
    "spanish_team_features_df = featurestore.get_featuregroup(\n",
    "    \"teams_features_spanish\")\n",
    "pre_insert_count = spanish_team_features_df.count()\n",
    "assert pre_insert_count == 50"
   ]
  },
  {
   "cell_type": "code",
   "execution_count": 151,
   "metadata": {},
   "outputs": [
    {
     "name": "stdout",
     "output_type": "stream",
     "text": [
      "Running sql: use demo_featurestore_admin000_featurestore\n",
      "Running sql: use demo_featurestore_admin000_featurestore\n",
      "Running sql: SELECT * FROM teams_features_spanish_1"
     ]
    }
   ],
   "source": [
    "featurestore.insert_into_featuregroup(\n",
    "    sample_df, \n",
    "    \"teams_features_spanish\", \n",
    "    descriptive_statistics=False, \n",
    "    feature_correlation=False,\n",
    "    feature_histograms=False,\n",
    "    cluster_analysis=False\n",
    ")\n",
    "spanish_team_features_df_updated = featurestore.get_featuregroup(\n",
    "    \"teams_features_spanish\")\n",
    "\n",
    "after_insert_count = spanish_team_features_df_updated.count()\n",
    "assert after_insert_count == 53"
   ]
  },
  {
   "cell_type": "code",
   "execution_count": 152,
   "metadata": {},
   "outputs": [
    {
     "name": "stdout",
     "output_type": "stream",
     "text": [
      "Running sql: use demo_featurestore_admin000_featurestore\n",
      "Running sql: use demo_featurestore_admin000_featurestore\n",
      "Running sql: SELECT * FROM teams_features_spanish_1"
     ]
    }
   ],
   "source": [
    "featurestore.insert_into_featuregroup(\n",
    "    sample_df, \n",
    "    \"teams_features_spanish\", \n",
    "    featurestore=featurestore.project_featurestore(), \n",
    "    featuregroup_version=1, \n",
    "    mode=\"append\",\n",
    "    descriptive_statistics=False, \n",
    "    feature_correlation=False, \n",
    "    feature_histograms=False,\n",
    "    cluster_analysis=False, \n",
    "    stat_columns=None, \n",
    "    num_bins=20, \n",
    "    corr_method='pearson',\n",
    "    num_clusters=5\n",
    ")\n",
    "\n",
    "after_insert_count2 = featurestore.get_featuregroup(\"teams_features_spanish\").count()\n",
    "assert after_insert_count2 == 56"
   ]
  },
  {
   "cell_type": "code",
   "execution_count": 153,
   "metadata": {},
   "outputs": [
    {
     "name": "stdout",
     "output_type": "stream",
     "text": [
      "Running sql: use demo_featurestore_admin000_featurestore\n",
      "Running sql: use demo_featurestore_admin000_featurestore\n",
      "Running sql: SELECT * FROM teams_features_spanish_1"
     ]
    }
   ],
   "source": [
    "featurestore.insert_into_featuregroup(\n",
    "    sample_df, \n",
    "    \"teams_features_spanish\",\n",
    "    descriptive_statistics=False, \n",
    "    feature_correlation=False,\n",
    "    feature_histograms=False,\n",
    "    cluster_analysis=False,\n",
    "    mode=\"overwrite\")\n",
    "\n",
    "count_after_overwrite = featurestore.get_featuregroup(\"teams_features_spanish\").count()\n",
    "assert count_after_overwrite == 3"
   ]
  },
  {
   "cell_type": "markdown",
   "metadata": {},
   "source": [
    "##### Test integration of feature store with Numpy, Pandas and plain Python"
   ]
  },
  {
   "cell_type": "code",
   "execution_count": 154,
   "metadata": {},
   "outputs": [
    {
     "name": "stdout",
     "output_type": "stream",
     "text": [
      "Running sql: use demo_featurestore_admin000_featurestore\n",
      "Running sql: SELECT team_budget, average_attendance FROM teams_features_1 JOIN attendances_features_1 ON teams_features_1.`team_id`=attendances_features_1.`team_id`"
     ]
    }
   ],
   "source": [
    "pandas_df = featurestore.get_features([\"team_budget\", \"average_attendance\"], dataframe_type=\"pandas\")\n",
    "assert \"team_budget\" in pandas_df.columns.values\n",
    "assert \"average_attendance\" in pandas_df.columns.values\n",
    "assert len(pandas_df) == 50\n",
    "assert len(pandas_df.columns.values) == 2\n",
    "assert isinstance(pandas_df, pd.DataFrame)"
   ]
  },
  {
   "cell_type": "code",
   "execution_count": 155,
   "metadata": {},
   "outputs": [
    {
     "name": "stdout",
     "output_type": "stream",
     "text": [
      "Running sql: use demo_featurestore_admin000_featurestore\n",
      "Running sql: SELECT team_budget, average_attendance FROM teams_features_1 JOIN attendances_features_1 ON teams_features_1.`team_id`=attendances_features_1.`team_id`"
     ]
    }
   ],
   "source": [
    "numpy_df = featurestore.get_features([\"team_budget\", \"average_attendance\"], \n",
    "                                      dataframe_type=\"numpy\")\n",
    "assert numpy_df.shape[0] == 50\n",
    "assert numpy_df.shape[1] == 2\n",
    "assert isinstance(numpy_df, np.ndarray)"
   ]
  },
  {
   "cell_type": "code",
   "execution_count": 156,
   "metadata": {},
   "outputs": [
    {
     "name": "stdout",
     "output_type": "stream",
     "text": [
      "Running sql: use demo_featurestore_admin000_featurestore\n",
      "Running sql: SELECT team_budget, average_attendance FROM teams_features_1 JOIN attendances_features_1 ON teams_features_1.`team_id`=attendances_features_1.`team_id`"
     ]
    }
   ],
   "source": [
    "python_df = featurestore.get_features([\"team_budget\", \"average_attendance\"], \n",
    "                                      dataframe_type=\"python\")\n",
    "assert len(python_df) == 50\n",
    "assert isinstance(python_df, list)"
   ]
  },
  {
   "cell_type": "code",
   "execution_count": 157,
   "metadata": {},
   "outputs": [
    {
     "name": "stdout",
     "output_type": "stream",
     "text": [
      "Running sql: use demo_featurestore_admin000_featurestore\n",
      "Running sql: SELECT team_budget, average_attendance FROM teams_features_1 JOIN attendances_features_1 ON teams_features_1.`team_id`=attendances_features_1.`team_id`"
     ]
    }
   ],
   "source": [
    "spark_df = featurestore.get_features([\"team_budget\", \"average_attendance\"], \n",
    "                                      dataframe_type=\"spark\")\n",
    "assert spark_df.count() == 50\n",
    "assert isinstance(spark_df, DataFrame)"
   ]
  },
  {
   "cell_type": "code",
   "execution_count": 158,
   "metadata": {},
   "outputs": [
    {
     "name": "stdout",
     "output_type": "stream",
     "text": [
      "Running sql: use demo_featurestore_admin000_featurestore"
     ]
    }
   ],
   "source": [
    "# Let's rename the columns to differentiate this feature group from existing ones in the feature store\n",
    "pandas_df.columns = [\"team_budget_test\", \"average_attendance_test\"]\n",
    "\n",
    "featurestore.create_featuregroup(\n",
    "    pandas_df,\n",
    "    \"pandas_test_example\",\n",
    "    description=\"test featuregroup created from pandas dataframe\",\n",
    "    descriptive_statistics=False,\n",
    "    feature_correlation=False,\n",
    "    feature_histograms=False,\n",
    "    cluster_analysis=False\n",
    ")\n",
    "assert \"pandas_test_example_1\" in featurestore.get_featuregroups()"
   ]
  },
  {
   "cell_type": "code",
   "execution_count": 159,
   "metadata": {},
   "outputs": [
    {
     "name": "stdout",
     "output_type": "stream",
     "text": [
      "Running sql: use demo_featurestore_admin000_featurestore\n",
      "Running sql: SELECT * FROM pandas_test_example_1\n",
      "Running sql: use demo_featurestore_admin000_featurestore\n",
      "Running sql: use demo_featurestore_admin000_featurestore\n",
      "Running sql: SELECT * FROM pandas_test_example_1"
     ]
    }
   ],
   "source": [
    "count_pre_pandas_insert_overwrite = featurestore.get_featuregroup(\"pandas_test_example\").count()\n",
    "featurestore.insert_into_featuregroup(\n",
    "    pandas_df, \n",
    "    \"pandas_test_example\",\n",
    "    descriptive_statistics=False, \n",
    "    feature_correlation=False,\n",
    "    feature_histograms=False,\n",
    "    cluster_analysis=False,\n",
    "    mode=\"overwrite\")\n",
    "count_after_pandas_insert_overwrite = featurestore.get_featuregroup(\"pandas_test_example\").count()\n",
    "assert count_pre_pandas_insert_overwrite == count_after_pandas_insert_overwrite"
   ]
  },
  {
   "cell_type": "code",
   "execution_count": 160,
   "metadata": {},
   "outputs": [
    {
     "name": "stdout",
     "output_type": "stream",
     "text": [
      "Running sql: use demo_featurestore_admin000_featurestore"
     ]
    }
   ],
   "source": [
    "featurestore.create_featuregroup(\n",
    "    numpy_df,\n",
    "    \"numpy_test_example\",\n",
    "    description=\"test featuregroup created from numpy matrix\",\n",
    "    descriptive_statistics=False,\n",
    "    feature_correlation=False,\n",
    "    feature_histograms=False,\n",
    "    cluster_analysis=False\n",
    ")\n",
    "assert \"numpy_test_example_1\" in featurestore.get_featuregroups()"
   ]
  },
  {
   "cell_type": "code",
   "execution_count": 161,
   "metadata": {},
   "outputs": [
    {
     "name": "stdout",
     "output_type": "stream",
     "text": [
      "Running sql: use demo_featurestore_admin000_featurestore\n",
      "Running sql: SELECT * FROM numpy_test_example_1\n",
      "Running sql: use demo_featurestore_admin000_featurestore\n",
      "Running sql: use demo_featurestore_admin000_featurestore\n",
      "Running sql: SELECT * FROM numpy_test_example_1"
     ]
    }
   ],
   "source": [
    "numpy_test_df_count_pre_insert_overwrite = featurestore.get_featuregroup(\"numpy_test_example\", dataframe_type=\"spark\").count()\n",
    "featurestore.insert_into_featuregroup(\n",
    "    numpy_df, \n",
    "    \"numpy_test_example\",\n",
    "    descriptive_statistics=False, \n",
    "    feature_correlation=False,\n",
    "    feature_histograms=False,\n",
    "    cluster_analysis=False,\n",
    "    mode=\"overwrite\")\n",
    "numpy_test_df_count_after_insert_overwrite = featurestore.get_featuregroup(\"numpy_test_example\", dataframe_type=\"spark\").count()\n",
    "assert numpy_test_df_count_pre_insert_overwrite == numpy_test_df_count_pre_insert_overwrite"
   ]
  },
  {
   "cell_type": "code",
   "execution_count": 162,
   "metadata": {},
   "outputs": [
    {
     "name": "stdout",
     "output_type": "stream",
     "text": [
      "Running sql: use demo_featurestore_admin000_featurestore\n",
      "Running sql: use demo_featurestore_admin000_featurestore\n",
      "Running sql: SELECT * FROM python_test_example_1"
     ]
    }
   ],
   "source": [
    "featurestore.create_featuregroup(\n",
    "    python_df,\n",
    "    \"python_test_example\",\n",
    "    description=\"test featuregroup created from python 2D list\",\n",
    "    descriptive_statistics=False,\n",
    "    feature_correlation=False,\n",
    "    feature_histograms=False,\n",
    "    cluster_analysis=False\n",
    ")\n",
    "\n",
    "python_test_df_count_pre_insert_overwrite = featurestore.get_featuregroup(\"python_test_example\", dataframe_type=\"spark\").count()\n",
    "assert \"python_test_example_1\" in featurestore.get_featuregroups()"
   ]
  },
  {
   "cell_type": "code",
   "execution_count": 163,
   "metadata": {},
   "outputs": [
    {
     "name": "stdout",
     "output_type": "stream",
     "text": [
      "Running sql: use demo_featurestore_admin000_featurestore\n",
      "Running sql: use demo_featurestore_admin000_featurestore\n",
      "Running sql: SELECT * FROM python_test_example_1"
     ]
    }
   ],
   "source": [
    "featurestore.insert_into_featuregroup(\n",
    "    python_df, \n",
    "    \"python_test_example\",\n",
    "    descriptive_statistics=False, \n",
    "    feature_correlation=False,\n",
    "    feature_histograms=False,\n",
    "    cluster_analysis=False,\n",
    "    mode=\"overwrite\")\n",
    "\n",
    "python_test_df_count_after_insert_overwrite = featurestore.get_featuregroup(\"python_test_example\", dataframe_type=\"spark\").count()\n",
    "assert python_test_df_count_pre_insert_overwrite == python_test_df_count_after_insert_overwrite"
   ]
  },
  {
   "cell_type": "markdown",
   "metadata": {},
   "source": [
    "##### Test update Feature Store Statistics `featurestore.update_featuregroup_stats()`"
   ]
  },
  {
   "cell_type": "code",
   "execution_count": 164,
   "metadata": {},
   "outputs": [
    {
     "name": "stdout",
     "output_type": "stream",
     "text": [
      "Running sql: use demo_featurestore_admin000_featurestore\n",
      "Running sql: SELECT * FROM teams_features_1\n",
      "computing descriptive statistics for : teams_features\n",
      "computing feature correlation for: teams_features\n",
      "computing feature histograms for: teams_features\n",
      "computing cluster analysis for: teams_features"
     ]
    }
   ],
   "source": [
    "featurestore.update_featuregroup_stats(\"teams_features\")"
   ]
  },
  {
   "cell_type": "code",
   "execution_count": 165,
   "metadata": {},
   "outputs": [
    {
     "name": "stdout",
     "output_type": "stream",
     "text": [
      "Running sql: use demo_featurestore_admin000_featurestore\n",
      "Running sql: SELECT * FROM teams_features_1\n",
      "computing descriptive statistics for : teams_features\n",
      "computing feature correlation for: teams_features\n",
      "computing feature histograms for: teams_features\n",
      "computing cluster analysis for: teams_features"
     ]
    }
   ],
   "source": [
    "featurestore.update_featuregroup_stats(\n",
    "    \"teams_features\", \n",
    "    featuregroup_version=1, \n",
    "    featurestore=featurestore.project_featurestore(), \n",
    "    descriptive_statistics=True,\n",
    "    feature_correlation=True, \n",
    "    feature_histograms=True,\n",
    "    cluster_analysis=True,\n",
    "    stat_columns=None)"
   ]
  },
  {
   "cell_type": "markdown",
   "metadata": {},
   "source": [
    "##### Test Write Training Dataset Operations \n",
    "\n",
    "- `featurestore.get_latest_training_dataset_version()`\n",
    "- `create_training_dataset()`"
   ]
  },
  {
   "cell_type": "code",
   "execution_count": 166,
   "metadata": {},
   "outputs": [
    {
     "name": "stdout",
     "output_type": "stream",
     "text": [
      "Running sql: use demo_featurestore_admin000_featurestore\n",
      "Running sql: SELECT team_budget, average_attendance, team_position FROM teams_features_1 JOIN attendances_features_1 ON teams_features_1.`team_id`=attendances_features_1.`team_id`"
     ]
    }
   ],
   "source": [
    "features_df = featurestore.get_features(\n",
    "    [\"team_budget\", \"average_attendance\",\n",
    "    \"team_position\"]\n",
    ")\n",
    "latest_version = featurestore.get_latest_training_dataset_version(\"team_position_prediction\")"
   ]
  },
  {
   "cell_type": "code",
   "execution_count": 167,
   "metadata": {},
   "outputs": [],
   "source": [
    "featurestore.create_training_dataset(\n",
    "    features_df, \"team_position_prediction\",\n",
    "    descriptive_statistics=False,\n",
    "    feature_correlation=False,\n",
    "    feature_histograms=False,\n",
    "    cluster_analysis=False,\n",
    "    training_dataset_version = 1\n",
    ")"
   ]
  },
  {
   "cell_type": "code",
   "execution_count": 168,
   "metadata": {},
   "outputs": [],
   "source": [
    "featurestore.create_training_dataset(\n",
    "    features_df, \"team_position_prediction_csv\",\n",
    "    description=\"a dataset with features for football teams, used for training a model to predict league-position\",\n",
    "    featurestore=featurestore.project_featurestore(),\n",
    "    data_format=\"csv\",\n",
    "    training_dataset_version= 1,\n",
    "    job_name=None,\n",
    "    dependencies=[],\n",
    "    descriptive_statistics=False,\n",
    "    feature_correlation=False,\n",
    "    feature_histograms=False,\n",
    "    cluster_analysis=False,\n",
    "    stat_columns=None)"
   ]
  },
  {
   "cell_type": "code",
   "execution_count": 169,
   "metadata": {},
   "outputs": [],
   "source": [
    "featurestore.create_training_dataset(\n",
    "    features_df, \"team_position_prediction_tsv\",\n",
    "    description=\"a dataset with features for football teams, used for training a model to predict league-position\",\n",
    "    featurestore=featurestore.project_featurestore(),\n",
    "    data_format=\"tsv\",\n",
    "    training_dataset_version=1,\n",
    "    job_name=None,\n",
    "    dependencies=[],\n",
    "    descriptive_statistics=False,\n",
    "    feature_correlation=False,\n",
    "    feature_histograms=False,\n",
    "    cluster_analysis=False,\n",
    "    stat_columns=None)"
   ]
  },
  {
   "cell_type": "code",
   "execution_count": 170,
   "metadata": {},
   "outputs": [],
   "source": [
    "featurestore.create_training_dataset(\n",
    "    features_df, \"team_position_prediction_parquet\",\n",
    "    description=\"a dataset with features for football teams, used for training a model to predict league-position\",\n",
    "    featurestore=featurestore.project_featurestore(),\n",
    "    data_format=\"parquet\",\n",
    "    training_dataset_version=1,\n",
    "    job_name=None,\n",
    "    dependencies=[],\n",
    "    descriptive_statistics=False,\n",
    "    feature_correlation=False,\n",
    "    feature_histograms=False,\n",
    "    cluster_analysis=False,\n",
    "    stat_columns=None)"
   ]
  },
  {
   "cell_type": "code",
   "execution_count": 171,
   "metadata": {},
   "outputs": [],
   "source": [
    "featurestore.create_training_dataset(\n",
    "    features_df, \"team_position_prediction_orc\",\n",
    "    description=\"a dataset with features for football teams, used for training a model to predict league-position\",\n",
    "    featurestore=featurestore.project_featurestore(),\n",
    "    data_format=\"orc\",\n",
    "    training_dataset_version=1,\n",
    "    job_name=None,\n",
    "    dependencies=[],\n",
    "    descriptive_statistics=False,\n",
    "    feature_correlation=False,\n",
    "    feature_histograms=False,\n",
    "    cluster_analysis=False,\n",
    "    stat_columns=None)"
   ]
  },
  {
   "cell_type": "code",
   "execution_count": 172,
   "metadata": {},
   "outputs": [],
   "source": [
    "featurestore.create_training_dataset(\n",
    "    features_df, \"team_position_prediction_avro\",\n",
    "    description=\"a dataset with features for football teams, used for training a model to predict league-position\",\n",
    "    featurestore=featurestore.project_featurestore(),\n",
    "    data_format=\"avro\",\n",
    "    training_dataset_version=1,\n",
    "    job_name=None,\n",
    "    dependencies=[],\n",
    "    descriptive_statistics=False,\n",
    "    feature_correlation=False,\n",
    "    feature_histograms=False,\n",
    "    cluster_analysis=False,\n",
    "    stat_columns=None)"
   ]
  },
  {
   "cell_type": "code",
   "execution_count": 173,
   "metadata": {},
   "outputs": [],
   "source": [
    "featurestore.create_training_dataset(\n",
    "    features_df, \"team_position_prediction_hdf5\",\n",
    "    description=\"a dataset with features for football teams, used for training a model to predict league-position\",\n",
    "    featurestore=featurestore.project_featurestore(),\n",
    "    data_format=\"hdf5\",\n",
    "    training_dataset_version=1,\n",
    "    job_name=None,\n",
    "    dependencies=[],\n",
    "    descriptive_statistics=False,\n",
    "    feature_correlation=False,\n",
    "    feature_histograms=False,\n",
    "    cluster_analysis=False,\n",
    "    stat_columns=None)"
   ]
  },
  {
   "cell_type": "code",
   "execution_count": 174,
   "metadata": {},
   "outputs": [],
   "source": [
    "featurestore.create_training_dataset(\n",
    "    features_df, \"team_position_prediction_npy\",\n",
    "    description=\"a dataset with features for football teams, used for training a model to predict league-position\",\n",
    "    featurestore=featurestore.project_featurestore(),\n",
    "    data_format=\"npy\",\n",
    "    training_dataset_version=1,\n",
    "    job_name=None,\n",
    "    dependencies=[],\n",
    "    descriptive_statistics=False,\n",
    "    feature_correlation=False,\n",
    "    feature_histograms=False,\n",
    "    cluster_analysis=False,\n",
    "    stat_columns=None)"
   ]
  },
  {
   "cell_type": "code",
   "execution_count": 177,
   "metadata": {},
   "outputs": [],
   "source": [
    "if sys.version_info[0] >= 3:\n",
    "    PetastormSchema = Unischema('team_position_prediction_petastorm_schema', [\n",
    "        UnischemaField('team_budget', np.float32, (), ScalarCodec(FloatType()), False),\n",
    "        UnischemaField('average_attendance', np.float32, (), ScalarCodec(FloatType()), False),\n",
    "        UnischemaField('team_position', np.int32, (), ScalarCodec(IntegerType()), False)\n",
    "    ])\n",
    "\n",
    "    petastorm_args = {\n",
    "        \"schema\": PetastormSchema\n",
    "    }\n",
    "\n",
    "    featurestore.create_training_dataset(\n",
    "        features_df, \"team_position_prediction_petastorm\",\n",
    "        description=\"a dataset with features for football teams, used for training a model to predict league-position\",\n",
    "        featurestore=featurestore.project_featurestore(),\n",
    "        data_format=\"petastorm\",\n",
    "        training_dataset_version=1,\n",
    "        job_name=None,\n",
    "        dependencies=[],\n",
    "        descriptive_statistics=False,\n",
    "        feature_correlation=False,\n",
    "        feature_histograms=False,\n",
    "        cluster_analysis=False,\n",
    "        stat_columns=None,\n",
    "        petastorm_args=petastorm_args\n",
    "    )\n",
    "else:\n",
    "    print(\"Petastorm is only supported in python 3\")"
   ]
  },
  {
   "cell_type": "code",
   "execution_count": 178,
   "metadata": {},
   "outputs": [],
   "source": [
    "fgs = ['team_position_prediction_1', 'team_position_prediction_csv_1', \n",
    "       'team_position_prediction_tsv_1', 'team_position_prediction_parquet_1', \n",
    "       'team_position_prediction_orc_1', 'team_position_prediction_avro_1', \n",
    "       'team_position_prediction_hdf5_1', 'team_position_prediction_npy_1', \n",
    "       'team_position_prediction_petastorm_1', 'team_position_prediction_npy_2']\n",
    "assert set(fgs) == set(featurestore.get_training_datasets())"
   ]
  },
  {
   "cell_type": "markdown",
   "metadata": {},
   "source": [
    "##### Test Insert into an existing training dataset, `featurestore.insert_into_training_dataset()`"
   ]
  },
  {
   "cell_type": "code",
   "execution_count": 179,
   "metadata": {},
   "outputs": [],
   "source": [
    "count_pre_insert = featurestore.get_training_dataset(\"team_position_prediction_csv\").count()\n",
    "featurestore.insert_into_training_dataset(\n",
    "    features_df, \n",
    "    \"team_position_prediction_csv\",\n",
    "    descriptive_statistics=False,\n",
    "    feature_correlation=False,\n",
    "    feature_histograms=False,\n",
    "    cluster_analysis=False,\n",
    "    training_dataset_version=featurestore.get_latest_training_dataset_version(\"team_position_prediction_csv\")\n",
    ")\n",
    "count_after_insert = featurestore.get_training_dataset(\"team_position_prediction_csv\").count()\n",
    "assert count_pre_insert == count_after_insert # td only support overwrites"
   ]
  },
  {
   "cell_type": "markdown",
   "metadata": {},
   "source": [
    "##### Test Training Dataset Utility Methods\n",
    "\n",
    "- `featurestore.get_training_dataset_path()`\n",
    "- `featurestore.get_training_dataset_tf_record_schema`"
   ]
  },
  {
   "cell_type": "code",
   "execution_count": 180,
   "metadata": {},
   "outputs": [],
   "source": [
    "assert hdfs.project_path() in featurestore.get_training_dataset_path(\"team_position_prediction_csv\")"
   ]
  },
  {
   "cell_type": "code",
   "execution_count": 181,
   "metadata": {},
   "outputs": [],
   "source": [
    "assert hdfs.project_name() + \"_Training_Datasets\" in featurestore.get_training_dataset_path(\"team_position_prediction_csv\")"
   ]
  },
  {
   "cell_type": "code",
   "execution_count": 182,
   "metadata": {},
   "outputs": [],
   "source": [
    "assert \"team_position_prediction_csv\" in featurestore.get_training_dataset_path(\"team_position_prediction_csv\")"
   ]
  },
  {
   "cell_type": "code",
   "execution_count": 183,
   "metadata": {},
   "outputs": [],
   "source": [
    "tf_schema = featurestore.get_training_dataset_tf_record_schema(\"team_position_prediction\")\n",
    "assert tf_schema == {'team_budget': tf.FixedLenFeature(shape=[], dtype=tf.float32, default_value=None), \n",
    "                     'average_attendance': tf.FixedLenFeature(shape=[], dtype=tf.float32, default_value=None), \n",
    "                     'team_position': tf.FixedLenFeature(shape=[], dtype=tf.int64, default_value=None)}"
   ]
  },
  {
   "cell_type": "code",
   "execution_count": 184,
   "metadata": {},
   "outputs": [],
   "source": [
    "features_df = featurestore.get_training_dataset(\"team_position_prediction\")\n",
    "tf_schema = featurestore.get_dataframe_tf_record_schema(features_df)\n",
    "assert tf_schema == {'team_budget': tf.FixedLenFeature(shape=[], dtype=tf.float32, default_value=None), \n",
    "                     'average_attendance': tf.FixedLenFeature(shape=[], dtype=tf.float32, default_value=None), \n",
    "                     'team_position': tf.FixedLenFeature(shape=[], dtype=tf.int64, default_value=None)}"
   ]
  },
  {
   "cell_type": "markdown",
   "metadata": {},
   "source": [
    "##### Test update Training Dataset stats\n",
    "\n",
    "- `featurestore.update_training_dataset_stats()`"
   ]
  },
  {
   "cell_type": "code",
   "execution_count": 185,
   "metadata": {},
   "outputs": [
    {
     "name": "stdout",
     "output_type": "stream",
     "text": [
      "computing descriptive statistics for : team_position_prediction\n",
      "computing feature correlation for: team_position_prediction\n",
      "computing feature histograms for: team_position_prediction\n",
      "computing cluster analysis for: team_position_prediction"
     ]
    }
   ],
   "source": [
    "featurestore.update_training_dataset_stats(\"team_position_prediction\")"
   ]
  },
  {
   "cell_type": "code",
   "execution_count": 186,
   "metadata": {},
   "outputs": [
    {
     "name": "stdout",
     "output_type": "stream",
     "text": [
      "computing descriptive statistics for : team_position_prediction\n",
      "computing feature correlation for: team_position_prediction\n",
      "computing feature histograms for: team_position_prediction\n",
      "computing cluster analysis for: team_position_prediction"
     ]
    }
   ],
   "source": [
    "featurestore.update_training_dataset_stats(\n",
    "    \"team_position_prediction\", \n",
    "    training_dataset_version=1, \n",
    "    featurestore=featurestore.project_featurestore(), \n",
    "    descriptive_statistics=True,\n",
    "    feature_correlation=True, \n",
    "    feature_histograms=True,\n",
    "    cluster_analysis=True,\n",
    "    stat_columns=None)"
   ]
  },
  {
   "cell_type": "markdown",
   "metadata": {},
   "source": [
    "##### Test Read Training Datasets API `featurestore.get_training_dataset()`"
   ]
  },
  {
   "cell_type": "code",
   "execution_count": 187,
   "metadata": {},
   "outputs": [],
   "source": [
    "cols = ['team_budget', 'average_attendance', 'team_position']\n",
    "tmp = featurestore.get_training_dataset(\"team_position_prediction_csv\")\n",
    "assert set(tmp.columns) == set(cols)\n",
    "assert tmp.count() == 50"
   ]
  },
  {
   "cell_type": "code",
   "execution_count": 188,
   "metadata": {},
   "outputs": [],
   "source": [
    "tmp = featurestore.get_training_dataset(\"team_position_prediction_hdf5\")\n",
    "assert tmp.count() == 50"
   ]
  },
  {
   "cell_type": "code",
   "execution_count": 189,
   "metadata": {},
   "outputs": [],
   "source": [
    "tmp = featurestore.get_training_dataset(\"team_position_prediction_petastorm\")\n",
    "assert set(tmp.columns) == set(cols)\n",
    "assert tmp.count() == 50"
   ]
  },
  {
   "cell_type": "code",
   "execution_count": 190,
   "metadata": {},
   "outputs": [],
   "source": [
    "tmp = featurestore.get_training_dataset(\"team_position_prediction_avro\")\n",
    "assert set(tmp.columns) == set(cols)\n",
    "assert tmp.count() == 50"
   ]
  },
  {
   "cell_type": "code",
   "execution_count": 191,
   "metadata": {},
   "outputs": [],
   "source": [
    "tmp = featurestore.get_training_dataset(\"team_position_prediction_orc\")\n",
    "assert set(tmp.columns) == set(cols)\n",
    "assert tmp.count() == 50"
   ]
  },
  {
   "cell_type": "code",
   "execution_count": 192,
   "metadata": {},
   "outputs": [],
   "source": [
    "tmp = featurestore.get_training_dataset(\"team_position_prediction_tsv\")\n",
    "assert set(tmp.columns) == set(cols)\n",
    "assert tmp.count() == 50"
   ]
  },
  {
   "cell_type": "code",
   "execution_count": 193,
   "metadata": {},
   "outputs": [],
   "source": [
    "tmp = featurestore.get_training_dataset(\"team_position_prediction_npy\")\n",
    "assert tmp.count() == 50"
   ]
  },
  {
   "cell_type": "code",
   "execution_count": 194,
   "metadata": {},
   "outputs": [],
   "source": [
    "tmp = featurestore.get_training_dataset(\"team_position_prediction_parquet\")\n",
    "assert set(tmp.columns) == set(cols)\n",
    "assert tmp.count() == 50"
   ]
  },
  {
   "cell_type": "markdown",
   "metadata": {},
   "source": [
    "## Kafka Tests"
   ]
  },
  {
   "cell_type": "markdown",
   "metadata": {},
   "source": [
    "##### Test default config \n",
    "\n",
    "- `kafka.get_default_config()`, \n",
    "- `kafka.get_security_protocol()`,\n",
    "- `kafka.get_broker_endpoints_list()`"
   ]
  },
  {
   "cell_type": "code",
   "execution_count": 195,
   "metadata": {},
   "outputs": [],
   "source": [
    "config = kafka.get_kafka_default_config()\n",
    "assert \"bootstrap.servers\" in config\n",
    "assert \"security.protocol\" in config\n",
    "assert \"ssl.ca.location\" in config\n",
    "assert \"ssl.key.location\" in config\n",
    "assert \"ssl.certificate.location\" in config"
   ]
  },
  {
   "cell_type": "code",
   "execution_count": 196,
   "metadata": {},
   "outputs": [],
   "source": [
    "assert len(kafka.get_security_protocol()) > 0\n",
    "assert len(kafka.get_broker_endpoints_list()) > 0"
   ]
  },
  {
   "cell_type": "markdown",
   "metadata": {},
   "source": [
    "## TLS Tests"
   ]
  },
  {
   "cell_type": "markdown",
   "metadata": {},
   "source": [
    "##### Test access to TLS tokens\n",
    "\n",
    "- `tls.get_key_store()`\n",
    "- `tls.get_trust_store()`\n",
    "- `tls.get_key_store_pwd()`\n",
    "- `tls.get_trust_store_pwd()`\n",
    "- `tls.get_client_certificate_location()`\n",
    "- `tls.get_client_key_location()`\n",
    "- `tls.get_ca_chain_location()`"
   ]
  },
  {
   "cell_type": "code",
   "execution_count": 197,
   "metadata": {},
   "outputs": [],
   "source": [
    "assert len(tls.get_key_store()) > 0\n",
    "assert len(tls.get_trust_store()) > 0\n",
    "assert len(tls.get_key_store_pwd()) > 0\n",
    "assert len(tls.get_trust_store_pwd()) > 0\n",
    "assert len(tls.get_client_certificate_location()) > 0\n",
    "assert len(tls.get_client_key_location()) > 0\n",
    "assert len(tls.get_ca_chain_location()) > 0"
   ]
  },
  {
   "cell_type": "code",
   "execution_count": null,
   "metadata": {},
   "outputs": [],
   "source": []
  }
 ],
 "metadata": {
  "kernelspec": {
   "display_name": "PySpark",
   "language": "",
   "name": "pysparkkernel"
  },
  "language_info": {
   "codemirror_mode": {
    "name": "python",
    "version": 2
   },
   "mimetype": "text/x-python",
   "name": "pyspark",
   "pygments_lexer": "python2"
  }
 },
 "nbformat": 4,
 "nbformat_minor": 2
}